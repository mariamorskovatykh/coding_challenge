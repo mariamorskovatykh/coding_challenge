{
 "cells": [
  {
   "cell_type": "markdown",
   "id": "cf102c6f",
   "metadata": {},
   "source": [
    "# Modeling the Affinity of Customers"
   ]
  },
  {
   "cell_type": "markdown",
   "id": "896306d6",
   "metadata": {},
   "source": [
    "## Import libraries"
   ]
  },
  {
   "cell_type": "code",
   "execution_count": 368,
   "id": "39c4af3d",
   "metadata": {},
   "outputs": [],
   "source": [
    "import pandas as pd\n",
    "import numpy as np\n",
    "import matplotlib.pyplot as plt\n",
    "import seaborn as sns\n",
    "%matplotlib inline\n",
    "\n",
    "# Encoders\n",
    "from sklearn.preprocessing import OneHotEncoder\n",
    "from sklearn.preprocessing import OrdinalEncoder\n",
    "from sklearn.preprocessing import LabelEncoder\n",
    "\n",
    "# Scalers\n",
    "from sklearn.preprocessing import MinMaxScaler\n",
    "\n",
    "# Models\n",
    "from sklearn.linear_model import LogisticRegression\n",
    "\n",
    "# Cross validation\n",
    "from sklearn.model_selection import cross_val_score\n",
    "\n",
    "# Train/test split\n",
    "from sklearn.model_selection import train_test_split\n",
    "\n",
    "# Pipeline\n",
    "from sklearn.pipeline import Pipeline\n",
    "from sklearn.pipeline import make_pipeline\n",
    "\n",
    "# ColumnTransformer\n",
    "from sklearn.compose import ColumnTransformer\n",
    "\n",
    "# Oversampling SMOTE\n",
    "from imblearn.over_sampling import SMOTE"
   ]
  },
  {
   "cell_type": "markdown",
   "id": "1171d37a",
   "metadata": {},
   "source": [
    "## Exploratory Data Analysis"
   ]
  },
  {
   "cell_type": "code",
   "execution_count": 261,
   "id": "c7e095fa",
   "metadata": {},
   "outputs": [],
   "source": [
    "# Import csv files as pandas dataframe\n",
    "customer = pd.read_csv(\"data/rest.csv\", sep = \";\")\n",
    "age_and_sex = pd.read_csv(\"data/alter_geschlecht.csv\")\n",
    "interest = pd.read_csv(\"data/interesse.csv\")"
   ]
  },
  {
   "cell_type": "code",
   "execution_count": 262,
   "id": "0bcc5bc1",
   "metadata": {},
   "outputs": [
    {
     "data": {
      "text/html": [
       "<div>\n",
       "<style scoped>\n",
       "    .dataframe tbody tr th:only-of-type {\n",
       "        vertical-align: middle;\n",
       "    }\n",
       "\n",
       "    .dataframe tbody tr th {\n",
       "        vertical-align: top;\n",
       "    }\n",
       "\n",
       "    .dataframe thead th {\n",
       "        text-align: right;\n",
       "    }\n",
       "</style>\n",
       "<table border=\"1\" class=\"dataframe\">\n",
       "  <thead>\n",
       "    <tr style=\"text-align: right;\">\n",
       "      <th></th>\n",
       "      <th>Fahrerlaubnis</th>\n",
       "      <th>Regional_Code</th>\n",
       "      <th>Vorversicherung</th>\n",
       "      <th>Alter_Fzg</th>\n",
       "      <th>Vorschaden</th>\n",
       "      <th>Jahresbeitrag</th>\n",
       "      <th>Vertriebskanal</th>\n",
       "      <th>Kundentreue</th>\n",
       "      <th>id</th>\n",
       "    </tr>\n",
       "  </thead>\n",
       "  <tbody>\n",
       "    <tr>\n",
       "      <th>0</th>\n",
       "      <td>1</td>\n",
       "      <td>15.0</td>\n",
       "      <td>1</td>\n",
       "      <td>1-2 Year</td>\n",
       "      <td>No</td>\n",
       "      <td>2630.0</td>\n",
       "      <td>124.0</td>\n",
       "      <td>74</td>\n",
       "      <td>317635</td>\n",
       "    </tr>\n",
       "    <tr>\n",
       "      <th>1</th>\n",
       "      <td>1</td>\n",
       "      <td>28.0</td>\n",
       "      <td>0</td>\n",
       "      <td>1-2 Year</td>\n",
       "      <td>Yes</td>\n",
       "      <td>2630.0</td>\n",
       "      <td>125.0</td>\n",
       "      <td>213</td>\n",
       "      <td>337993</td>\n",
       "    </tr>\n",
       "    <tr>\n",
       "      <th>2</th>\n",
       "      <td>1</td>\n",
       "      <td>33.0</td>\n",
       "      <td>0</td>\n",
       "      <td>1-2 Year</td>\n",
       "      <td>Yes</td>\n",
       "      <td>27204.0</td>\n",
       "      <td>124.0</td>\n",
       "      <td>114</td>\n",
       "      <td>160325</td>\n",
       "    </tr>\n",
       "    <tr>\n",
       "      <th>3</th>\n",
       "      <td>1</td>\n",
       "      <td>46.0</td>\n",
       "      <td>1</td>\n",
       "      <td>&lt; 1 Year</td>\n",
       "      <td>No</td>\n",
       "      <td>31999.0</td>\n",
       "      <td>152.0</td>\n",
       "      <td>251</td>\n",
       "      <td>141620</td>\n",
       "    </tr>\n",
       "    <tr>\n",
       "      <th>4</th>\n",
       "      <td>1</td>\n",
       "      <td>49.0</td>\n",
       "      <td>0</td>\n",
       "      <td>1-2 Year</td>\n",
       "      <td>Yes</td>\n",
       "      <td>28262.0</td>\n",
       "      <td>26.0</td>\n",
       "      <td>60</td>\n",
       "      <td>75060</td>\n",
       "    </tr>\n",
       "  </tbody>\n",
       "</table>\n",
       "</div>"
      ],
      "text/plain": [
       "   Fahrerlaubnis  Regional_Code  Vorversicherung Alter_Fzg Vorschaden  \\\n",
       "0              1           15.0                1  1-2 Year         No   \n",
       "1              1           28.0                0  1-2 Year        Yes   \n",
       "2              1           33.0                0  1-2 Year        Yes   \n",
       "3              1           46.0                1  < 1 Year         No   \n",
       "4              1           49.0                0  1-2 Year        Yes   \n",
       "\n",
       "   Jahresbeitrag  Vertriebskanal  Kundentreue      id  \n",
       "0         2630.0           124.0           74  317635  \n",
       "1         2630.0           125.0          213  337993  \n",
       "2        27204.0           124.0          114  160325  \n",
       "3        31999.0           152.0          251  141620  \n",
       "4        28262.0            26.0           60   75060  "
      ]
     },
     "execution_count": 262,
     "metadata": {},
     "output_type": "execute_result"
    }
   ],
   "source": [
    "customer.head()"
   ]
  },
  {
   "cell_type": "code",
   "execution_count": 263,
   "id": "d54e5153",
   "metadata": {},
   "outputs": [
    {
     "data": {
      "text/html": [
       "<div>\n",
       "<style scoped>\n",
       "    .dataframe tbody tr th:only-of-type {\n",
       "        vertical-align: middle;\n",
       "    }\n",
       "\n",
       "    .dataframe tbody tr th {\n",
       "        vertical-align: top;\n",
       "    }\n",
       "\n",
       "    .dataframe thead th {\n",
       "        text-align: right;\n",
       "    }\n",
       "</style>\n",
       "<table border=\"1\" class=\"dataframe\">\n",
       "  <thead>\n",
       "    <tr style=\"text-align: right;\">\n",
       "      <th></th>\n",
       "      <th>id</th>\n",
       "      <th>Geschlecht</th>\n",
       "      <th>Alter</th>\n",
       "    </tr>\n",
       "  </thead>\n",
       "  <tbody>\n",
       "    <tr>\n",
       "      <th>0</th>\n",
       "      <td>170727</td>\n",
       "      <td>Male</td>\n",
       "      <td>42</td>\n",
       "    </tr>\n",
       "    <tr>\n",
       "      <th>1</th>\n",
       "      <td>41795</td>\n",
       "      <td>Male</td>\n",
       "      <td>24</td>\n",
       "    </tr>\n",
       "    <tr>\n",
       "      <th>2</th>\n",
       "      <td>369321</td>\n",
       "      <td>Female</td>\n",
       "      <td>30</td>\n",
       "    </tr>\n",
       "    <tr>\n",
       "      <th>3</th>\n",
       "      <td>500463</td>\n",
       "      <td>Female</td>\n",
       "      <td>32</td>\n",
       "    </tr>\n",
       "    <tr>\n",
       "      <th>4</th>\n",
       "      <td>327695</td>\n",
       "      <td>Male</td>\n",
       "      <td>34</td>\n",
       "    </tr>\n",
       "  </tbody>\n",
       "</table>\n",
       "</div>"
      ],
      "text/plain": [
       "       id Geschlecht  Alter\n",
       "0  170727       Male     42\n",
       "1   41795       Male     24\n",
       "2  369321     Female     30\n",
       "3  500463     Female     32\n",
       "4  327695       Male     34"
      ]
     },
     "execution_count": 263,
     "metadata": {},
     "output_type": "execute_result"
    }
   ],
   "source": [
    "age_and_sex.head()"
   ]
  },
  {
   "cell_type": "code",
   "execution_count": 264,
   "id": "b4508870",
   "metadata": {},
   "outputs": [
    {
     "data": {
      "text/html": [
       "<div>\n",
       "<style scoped>\n",
       "    .dataframe tbody tr th:only-of-type {\n",
       "        vertical-align: middle;\n",
       "    }\n",
       "\n",
       "    .dataframe tbody tr th {\n",
       "        vertical-align: top;\n",
       "    }\n",
       "\n",
       "    .dataframe thead th {\n",
       "        text-align: right;\n",
       "    }\n",
       "</style>\n",
       "<table border=\"1\" class=\"dataframe\">\n",
       "  <thead>\n",
       "    <tr style=\"text-align: right;\">\n",
       "      <th></th>\n",
       "      <th>id</th>\n",
       "      <th>Interesse</th>\n",
       "    </tr>\n",
       "  </thead>\n",
       "  <tbody>\n",
       "    <tr>\n",
       "      <th>0</th>\n",
       "      <td>1</td>\n",
       "      <td>1.0</td>\n",
       "    </tr>\n",
       "    <tr>\n",
       "      <th>1</th>\n",
       "      <td>2</td>\n",
       "      <td>0.0</td>\n",
       "    </tr>\n",
       "    <tr>\n",
       "      <th>2</th>\n",
       "      <td>3</td>\n",
       "      <td>1.0</td>\n",
       "    </tr>\n",
       "    <tr>\n",
       "      <th>3</th>\n",
       "      <td>4</td>\n",
       "      <td>0.0</td>\n",
       "    </tr>\n",
       "    <tr>\n",
       "      <th>4</th>\n",
       "      <td>5</td>\n",
       "      <td>0.0</td>\n",
       "    </tr>\n",
       "  </tbody>\n",
       "</table>\n",
       "</div>"
      ],
      "text/plain": [
       "   id  Interesse\n",
       "0   1        1.0\n",
       "1   2        0.0\n",
       "2   3        1.0\n",
       "3   4        0.0\n",
       "4   5        0.0"
      ]
     },
     "execution_count": 264,
     "metadata": {},
     "output_type": "execute_result"
    }
   ],
   "source": [
    "interest.head()"
   ]
  },
  {
   "cell_type": "code",
   "execution_count": 265,
   "id": "e62e8bc6",
   "metadata": {},
   "outputs": [
    {
     "name": "stdout",
     "output_type": "stream",
     "text": [
      "508146\n",
      "508146\n",
      "381109\n"
     ]
    }
   ],
   "source": [
    "# Exploring lenght of the tables\n",
    "print(len(customer))\n",
    "print(len(age_and_sex))\n",
    "print(len(interest))"
   ]
  },
  {
   "cell_type": "markdown",
   "id": "e5947b79",
   "metadata": {},
   "source": [
    "Interest table contains fewer rows than two other tables => In this scenario, we should only keep the rows in the \"customer\" and \"age_and_sex\" dataframes that match the IDs in the \"interest\" dataframe since the \"interest\" dataframe contains the target variable we want to predict. The rest we can keep for predicting after training the model"
   ]
  },
  {
   "cell_type": "code",
   "execution_count": 320,
   "id": "484449ce",
   "metadata": {},
   "outputs": [
    {
     "data": {
      "text/html": [
       "<div>\n",
       "<style scoped>\n",
       "    .dataframe tbody tr th:only-of-type {\n",
       "        vertical-align: middle;\n",
       "    }\n",
       "\n",
       "    .dataframe tbody tr th {\n",
       "        vertical-align: top;\n",
       "    }\n",
       "\n",
       "    .dataframe thead th {\n",
       "        text-align: right;\n",
       "    }\n",
       "</style>\n",
       "<table border=\"1\" class=\"dataframe\">\n",
       "  <thead>\n",
       "    <tr style=\"text-align: right;\">\n",
       "      <th></th>\n",
       "      <th>id</th>\n",
       "      <th>Interesse</th>\n",
       "      <th>Geschlecht</th>\n",
       "      <th>Alter</th>\n",
       "      <th>Fahrerlaubnis</th>\n",
       "      <th>Regional_Code</th>\n",
       "      <th>Vorversicherung</th>\n",
       "      <th>Alter_Fzg</th>\n",
       "      <th>Vorschaden</th>\n",
       "      <th>Jahresbeitrag</th>\n",
       "      <th>Vertriebskanal</th>\n",
       "      <th>Kundentreue</th>\n",
       "    </tr>\n",
       "  </thead>\n",
       "  <tbody>\n",
       "    <tr>\n",
       "      <th>0</th>\n",
       "      <td>1</td>\n",
       "      <td>1.0</td>\n",
       "      <td>Male</td>\n",
       "      <td>44</td>\n",
       "      <td>1</td>\n",
       "      <td>28.0</td>\n",
       "      <td>0</td>\n",
       "      <td>&gt; 2 Years</td>\n",
       "      <td>Yes</td>\n",
       "      <td>40454.0</td>\n",
       "      <td>26.0</td>\n",
       "      <td>217</td>\n",
       "    </tr>\n",
       "    <tr>\n",
       "      <th>1</th>\n",
       "      <td>2</td>\n",
       "      <td>0.0</td>\n",
       "      <td>Male</td>\n",
       "      <td>76</td>\n",
       "      <td>1</td>\n",
       "      <td>3.0</td>\n",
       "      <td>0</td>\n",
       "      <td>1-2 Year</td>\n",
       "      <td>No</td>\n",
       "      <td>33536.0</td>\n",
       "      <td>26.0</td>\n",
       "      <td>183</td>\n",
       "    </tr>\n",
       "    <tr>\n",
       "      <th>2</th>\n",
       "      <td>3</td>\n",
       "      <td>1.0</td>\n",
       "      <td>Male</td>\n",
       "      <td>47</td>\n",
       "      <td>1</td>\n",
       "      <td>28.0</td>\n",
       "      <td>0</td>\n",
       "      <td>&gt; 2 Years</td>\n",
       "      <td>Yes</td>\n",
       "      <td>38294.0</td>\n",
       "      <td>26.0</td>\n",
       "      <td>27</td>\n",
       "    </tr>\n",
       "    <tr>\n",
       "      <th>3</th>\n",
       "      <td>4</td>\n",
       "      <td>0.0</td>\n",
       "      <td>Male</td>\n",
       "      <td>21</td>\n",
       "      <td>1</td>\n",
       "      <td>11.0</td>\n",
       "      <td>1</td>\n",
       "      <td>&lt; 1 Year</td>\n",
       "      <td>No</td>\n",
       "      <td>28619.0</td>\n",
       "      <td>152.0</td>\n",
       "      <td>203</td>\n",
       "    </tr>\n",
       "    <tr>\n",
       "      <th>4</th>\n",
       "      <td>5</td>\n",
       "      <td>0.0</td>\n",
       "      <td>Female</td>\n",
       "      <td>29</td>\n",
       "      <td>1</td>\n",
       "      <td>41.0</td>\n",
       "      <td>1</td>\n",
       "      <td>&lt; 1 Year</td>\n",
       "      <td>No</td>\n",
       "      <td>27496.0</td>\n",
       "      <td>152.0</td>\n",
       "      <td>39</td>\n",
       "    </tr>\n",
       "  </tbody>\n",
       "</table>\n",
       "</div>"
      ],
      "text/plain": [
       "   id  Interesse Geschlecht  Alter  Fahrerlaubnis  Regional_Code  \\\n",
       "0   1        1.0       Male     44              1           28.0   \n",
       "1   2        0.0       Male     76              1            3.0   \n",
       "2   3        1.0       Male     47              1           28.0   \n",
       "3   4        0.0       Male     21              1           11.0   \n",
       "4   5        0.0     Female     29              1           41.0   \n",
       "\n",
       "   Vorversicherung  Alter_Fzg Vorschaden  Jahresbeitrag  Vertriebskanal  \\\n",
       "0                0  > 2 Years        Yes        40454.0            26.0   \n",
       "1                0   1-2 Year         No        33536.0            26.0   \n",
       "2                0  > 2 Years        Yes        38294.0            26.0   \n",
       "3                1   < 1 Year         No        28619.0           152.0   \n",
       "4                1   < 1 Year         No        27496.0           152.0   \n",
       "\n",
       "   Kundentreue  \n",
       "0          217  \n",
       "1          183  \n",
       "2           27  \n",
       "3          203  \n",
       "4           39  "
      ]
     },
     "execution_count": 320,
     "metadata": {},
     "output_type": "execute_result"
    }
   ],
   "source": [
    "# Merge dataframes -> use left join for interest table\n",
    "data = interest.merge(age_and_sex, on='id', how='left')\n",
    "data = data.merge(customer, on='id', how='left')\n",
    "data.head()"
   ]
  },
  {
   "cell_type": "code",
   "execution_count": 291,
   "id": "db899a1f",
   "metadata": {},
   "outputs": [
    {
     "name": "stdout",
     "output_type": "stream",
     "text": [
      "<class 'pandas.core.frame.DataFrame'>\n",
      "Int64Index: 381109 entries, 0 to 381108\n",
      "Data columns (total 12 columns):\n",
      " #   Column           Non-Null Count   Dtype  \n",
      "---  ------           --------------   -----  \n",
      " 0   id               381109 non-null  int64  \n",
      " 1   Interesse        381109 non-null  float64\n",
      " 2   Geschlecht       381109 non-null  object \n",
      " 3   Alter            381109 non-null  int64  \n",
      " 4   Fahrerlaubnis    381109 non-null  int64  \n",
      " 5   Regional_Code    381109 non-null  float64\n",
      " 6   Vorversicherung  381109 non-null  int64  \n",
      " 7   Alter_Fzg        381109 non-null  object \n",
      " 8   Vorschaden       381109 non-null  object \n",
      " 9   Jahresbeitrag    381109 non-null  float64\n",
      " 10  Vertriebskanal   381109 non-null  float64\n",
      " 11  Kundentreue      381109 non-null  int64  \n",
      "dtypes: float64(4), int64(5), object(3)\n",
      "memory usage: 37.8+ MB\n",
      "None\n"
     ]
    }
   ],
   "source": [
    "# Examine the structure of the table\n",
    "print(data.info())"
   ]
  },
  {
   "cell_type": "code",
   "execution_count": 292,
   "id": "9bffa4bc",
   "metadata": {},
   "outputs": [
    {
     "name": "stdout",
     "output_type": "stream",
     "text": [
      "id                 0\n",
      "Interesse          0\n",
      "Geschlecht         0\n",
      "Alter              0\n",
      "Fahrerlaubnis      0\n",
      "Regional_Code      0\n",
      "Vorversicherung    0\n",
      "Alter_Fzg          0\n",
      "Vorschaden         0\n",
      "Jahresbeitrag      0\n",
      "Vertriebskanal     0\n",
      "Kundentreue        0\n",
      "dtype: int64\n"
     ]
    }
   ],
   "source": [
    "# Explore missing values\n",
    "print(data.isna().sum()) # -> no missing values"
   ]
  },
  {
   "cell_type": "code",
   "execution_count": 293,
   "id": "c7aa7bf3",
   "metadata": {},
   "outputs": [
    {
     "name": "stdout",
     "output_type": "stream",
     "text": [
      "0\n"
     ]
    }
   ],
   "source": [
    "# Explore duplicated rows\n",
    "print(data.duplicated().sum()) # -> no duplicates"
   ]
  },
  {
   "cell_type": "code",
   "execution_count": 294,
   "id": "373c607c",
   "metadata": {},
   "outputs": [
    {
     "name": "stdout",
     "output_type": "stream",
     "text": [
      "[1. 0.]\n",
      "['Male' 'Female']\n",
      "[1 0]\n",
      "[0 1]\n",
      "['> 2 Years' '1-2 Year' '< 1 Year']\n",
      "['Yes' 'No']\n"
     ]
    }
   ],
   "source": [
    "# Detecting outliers\n",
    "\n",
    "# Check categorical features on unexpected values\n",
    "print(data[\"Interesse\"].unique())\n",
    "print(data[\"Geschlecht\"].unique())\n",
    "print(data[\"Fahrerlaubnis\"].unique())\n",
    "print(data[\"Vorversicherung\"].unique())\n",
    "print(data[\"Alter_Fzg\"].unique())\n",
    "print(data[\"Vorschaden\"].unique())"
   ]
  },
  {
   "cell_type": "code",
   "execution_count": 295,
   "id": "77bf627d",
   "metadata": {},
   "outputs": [
    {
     "data": {
      "text/plain": [
       "array([ 0.,  1.,  2.,  3.,  4.,  5.,  6.,  7.,  8.,  9., 10., 11., 12.,\n",
       "       13., 14., 15., 16., 17., 18., 19., 20., 21., 22., 23., 24., 25.,\n",
       "       26., 27., 28., 29., 30., 31., 32., 33., 34., 35., 36., 37., 38.,\n",
       "       39., 40., 41., 42., 43., 44., 45., 46., 47., 48., 49., 50., 51.,\n",
       "       52.])"
      ]
     },
     "execution_count": 295,
     "metadata": {},
     "output_type": "execute_result"
    }
   ],
   "source": [
    "# Check values in Regional_Code\n",
    "np.sort(data['Regional_Code'].unique()) # -> 53 regions"
   ]
  },
  {
   "cell_type": "code",
   "execution_count": 296,
   "id": "9f8b2c27",
   "metadata": {},
   "outputs": [
    {
     "data": {
      "text/plain": [
       "array([  1.,   2.,   3.,   4.,   6.,   7.,   8.,   9.,  10.,  11.,  12.,\n",
       "        13.,  14.,  15.,  16.,  17.,  18.,  19.,  20.,  21.,  22.,  23.,\n",
       "        24.,  25.,  26.,  27.,  28.,  29.,  30.,  31.,  32.,  33.,  34.,\n",
       "        35.,  36.,  37.,  38.,  39.,  40.,  41.,  42.,  43.,  44.,  45.,\n",
       "        46.,  47.,  48.,  49.,  50.,  51.,  52.,  53.,  54.,  55.,  56.,\n",
       "        57.,  58.,  59.,  60.,  61.,  62.,  63.,  64.,  65.,  66.,  67.,\n",
       "        68.,  69.,  70.,  71.,  73.,  74.,  75.,  76.,  78.,  79.,  80.,\n",
       "        81.,  82.,  83.,  84.,  86.,  87.,  88.,  89.,  90.,  91.,  92.,\n",
       "        93.,  94.,  95.,  96.,  97.,  98.,  99., 100., 101., 102., 103.,\n",
       "       104., 105., 106., 107., 108., 109., 110., 111., 112., 113., 114.,\n",
       "       115., 116., 117., 118., 119., 120., 121., 122., 123., 124., 125.,\n",
       "       126., 127., 128., 129., 130., 131., 132., 133., 134., 135., 136.,\n",
       "       137., 138., 139., 140., 143., 144., 145., 146., 147., 148., 149.,\n",
       "       150., 151., 152., 153., 154., 155., 156., 157., 158., 159., 160.,\n",
       "       163.])"
      ]
     },
     "execution_count": 296,
     "metadata": {},
     "output_type": "execute_result"
    }
   ],
   "source": [
    "# Check values in Vertriebskanal\n",
    "np.sort(data['Vertriebskanal'].unique()) # -> 163 channels"
   ]
  },
  {
   "cell_type": "code",
   "execution_count": 297,
   "id": "836017a1",
   "metadata": {},
   "outputs": [
    {
     "data": {
      "image/png": "[encoded data removed]",
      "text/plain": [
       "<Figure size 1200x400 with 2 Axes>"
      ]
     },
     "metadata": {},
     "output_type": "display_data"
    }
   ],
   "source": [
    "# Check Regional_Code and Vertriebskanal distribution\n",
    "fig = plt.figure(figsize=(12,4))\n",
    "\n",
    "plt.subplot(1, 2, 1)\n",
    "plt.hist(data['Regional_Code'], bins=20, rwidth=0.8)\n",
    "plt.xlabel('Regions')\n",
    "plt.ylabel('Frequency')\n",
    "\n",
    "plt.subplot(1, 2, 2)\n",
    "plt.hist(data['Vertriebskanal'], bins=30, rwidth=0.8)\n",
    "plt.xlabel('Channels')\n",
    "plt.ylabel('Frequency')\n",
    "\n",
    "plt.show()"
   ]
  },
  {
   "cell_type": "code",
   "execution_count": 232,
   "id": "9e49ad7d",
   "metadata": {},
   "outputs": [
    {
     "data": {
      "image/png": "[encoded data removed]",
      "text/plain": [
       "<Figure size 1200x400 with 2 Axes>"
      ]
     },
     "metadata": {},
     "output_type": "display_data"
    }
   ],
   "source": [
    "# Check numerical features\n",
    "\n",
    "# Check age and annual premium\n",
    "fig = plt.figure(figsize=(12,4))\n",
    "\n",
    "plt.subplot(1, 2, 1)\n",
    "plt.hist(data['Alter'], bins=20, rwidth=0.8)\n",
    "plt.xlabel('Age')\n",
    "plt.ylabel('Frequency')\n",
    "\n",
    "plt.subplot(1, 2, 2)\n",
    "plt.hist(data['Jahresbeitrag'], bins=100, rwidth=0.8)\n",
    "plt.xlabel('Annual insurance premium')\n",
    "plt.ylabel('Frequency')\n",
    "\n",
    "plt.show()"
   ]
  },
  {
   "cell_type": "code",
   "execution_count": 233,
   "id": "40b27ce8",
   "metadata": {},
   "outputs": [
    {
     "data": {
      "image/png": "[encoded data removed]",
      "text/plain": [
       "<Figure size 640x480 with 1 Axes>"
      ]
     },
     "metadata": {},
     "output_type": "display_data"
    }
   ],
   "source": [
    "# Plot boxplot of Jahresbeitrag column\n",
    "plt.boxplot(data['Jahresbeitrag'])\n",
    "plt.xlabel('Annual insurance premium')\n",
    "plt.ylabel('Values')\n",
    "plt.show()"
   ]
  },
  {
   "cell_type": "code",
   "execution_count": 234,
   "id": "59b90428",
   "metadata": {},
   "outputs": [
    {
     "data": {
      "image/png": "[encoded data removed]",
      "text/plain": [
       "<Figure size 640x480 with 1 Axes>"
      ]
     },
     "metadata": {},
     "output_type": "display_data"
    }
   ],
   "source": [
    "# Check values in Kundentreue\n",
    "plt.hist(data['Kundentreue'], bins=20, rwidth=0.8)\n",
    "plt.xlabel('Customer Loyalty')\n",
    "plt.ylabel('Frequency')\n",
    "plt.show()"
   ]
  },
  {
   "cell_type": "markdown",
   "id": "586d1842",
   "metadata": {},
   "source": [
    "Conclusions:\n",
    "We have 7 categoracal variables: Geschlecht, Fahrerlaubnis, Regional_Code, Vorversicherung, Alter_Fzg, Vorschaden and Vertriebskanal. Some of them need to be encoded:\n",
    "* Geschlecht -> one-hot-encoding since they don't have ordinal structure\n",
    "* Alter_Fzg -> ordinal encoder since they have hierarchy\n",
    "* Vorschaden -> label encoder that put 1 if there are previous damages and 0 if not\n",
    "* Regional_Code and Vertriebskanal -> it is necessary to encode them using different strategy since some algorithms are sensitive to the ordering of the categories and may assign a higher weight to categories with larger numerical values -> use target encoding\n",
    "\n",
    "Our numerical values are: Alter, Jahresbeitrag and Kundentreue.\n",
    "\n",
    "* Jahresbeitrag -> has a lot of extreme values but I think that they are full part of the dataset and shouldn't be removed -> MinMax Scaling\n",
    "* Alter -> MinMax Scaling as for Jahresbeitrag. Also, it may make sense to discretize Alter column into groups according to car accident statistics (https://www.gdv.de/gdv/themen/mobilitaet/so-wirkt-sich-das-alter-auf-den-kfz-versicherungsbeitrag-aus-12464)\n",
    "* Kundentreue -> MinMax Scaling as for Jahresbeitrag\n",
    "\n",
    "Note: I will first proceed with logistic regression, such algorithms assume that the input variables are on the same scale and that the scale of the coefficients is meaningful. That is why I need to scale my variables. I will also later try other algorithms such as random forest. Such algorithms are not sensitive to the scale of the features, so normalization or scaling is not necessary. But still scaling doesn't hurt."
   ]
  },
  {
   "cell_type": "markdown",
   "id": "b43cd6a7",
   "metadata": {},
   "source": [
    "## Feature Engineering and Encoding"
   ]
  },
  {
   "cell_type": "code",
   "execution_count": 321,
   "id": "54931417",
   "metadata": {},
   "outputs": [],
   "source": [
    "# Discretize Alter column\n",
    "bins = [0, 30, 50, 65, 75, 100]\n",
    "bin_labels = ['<30', '30-50', '50-65', '65-75', '>75']\n",
    "data['Alter_binned'] = pd.cut(data['Alter'], bins=bins, labels=bin_labels, right=False)"
   ]
  },
  {
   "cell_type": "code",
   "execution_count": 322,
   "id": "56a1d410",
   "metadata": {},
   "outputs": [],
   "source": [
    "# one-hot encode the Alter_binned column\n",
    "data = pd.get_dummies(data, columns=['Alter_binned'])"
   ]
  },
  {
   "cell_type": "code",
   "execution_count": 323,
   "id": "f45515da",
   "metadata": {},
   "outputs": [],
   "source": [
    "# Drop the column \"id\" since we don't need it anymore\n",
    "data.drop(columns = [\"id\"], inplace = True)"
   ]
  },
  {
   "cell_type": "code",
   "execution_count": 324,
   "id": "9c2429d7",
   "metadata": {},
   "outputs": [],
   "source": [
    "# Encoding Regional_Code and Vertriebskanal \n",
    "\n",
    "# Import function from utils\n",
    "from utils.functions import calc_target_encoding\n",
    "\n",
    "# Apply function to Regional_Code and Vertriebskanal columns\n",
    "target_mean_regional = calc_target_encoding(data, 'Regional_Code', 'Interesse')\n",
    "target_mean_channel = calc_target_encoding(data, 'Vertriebskanal', 'Interesse')\n",
    "\n",
    "# Apply target encoding to the original data\n",
    "data['Regional_Code_enc'] = data['Regional_Code'].map(target_mean_regional)\n",
    "data['Vertriebskanal_enc'] = data['Vertriebskanal'].map(target_mean_channel)\n",
    "\n",
    "# Drop columns which have been encoded\n",
    "data.drop(columns = [\"Regional_Code\"], inplace = True)\n",
    "data.drop(columns = [\"Vertriebskanal\"], inplace = True)"
   ]
  },
  {
   "cell_type": "code",
   "execution_count": 325,
   "id": "d62899ec",
   "metadata": {},
   "outputs": [],
   "source": [
    "# Alter_Fzg\n",
    "\n",
    "# Instantiate the OrdinalEncoder\n",
    "ordinal_encoder = OrdinalEncoder()\n",
    "\n",
    "# Define the mapping for each category in the \"Alter_Fzg\" column\n",
    "ordinal_mapping = {\"< 1 Year\": 0, \"1-2 Year\": 1, \"> 2 Years\": 2}\n",
    "\n",
    "# Creating an array that contains the categories of the \"Alter_Fzg\" column\n",
    "Alter_Fzg_array = data['Alter_Fzg'].map(lambda x: ordinal_mapping[x]).values.reshape(-1, 1)\n",
    "\n",
    "# Fit and transform the Alter_Fzg_array to a numerical representation\n",
    "Alter_Fzg_encoded = ordinal_encoder.fit_transform(Alter_Fzg_array)\n",
    "\n",
    "# Adding the encoded \"Alter_Fzg\" column to the original dataframe\n",
    "data['Alter_Fzg_enc'] = Alter_Fzg_encoded\n",
    "\n",
    "# Drop the column \"Alter_Fzg\" which has been encoded\n",
    "data.drop(columns = [\"Alter_Fzg\"], inplace = True)"
   ]
  },
  {
   "cell_type": "code",
   "execution_count": 326,
   "id": "d0a3dcae",
   "metadata": {},
   "outputs": [],
   "source": [
    "# Geschlecht\n",
    "\n",
    "# Instantiate the OneHotEncoder\n",
    "ohe_binary = OneHotEncoder(sparse = False, drop=\"if_binary\") \n",
    "\n",
    "# Fit encoder\n",
    "ohe_binary.fit(data[['Geschlecht']]) \n",
    "\n",
    "# Transform the current \"Geschlecht\" column\n",
    "data[ohe_binary.get_feature_names_out()] = ohe_binary.transform(data[['Geschlecht']])\n",
    "\n",
    "# Drop the column \"Geschlecht\" which has been encoded\n",
    "data.drop(columns = [\"Geschlecht\"], inplace = True)"
   ]
  },
  {
   "cell_type": "code",
   "execution_count": 327,
   "id": "2b86af81",
   "metadata": {},
   "outputs": [],
   "source": [
    "# Vorschaden\n",
    "\n",
    "# Initialize the LabelEncoder\n",
    "le = LabelEncoder()\n",
    "\n",
    "# Fit and transform the Vorschaden column\n",
    "data['Vorschaden'] = le.fit_transform(data['Vorschaden'].values)"
   ]
  },
  {
   "cell_type": "code",
   "execution_count": 328,
   "id": "b9c3c55a",
   "metadata": {},
   "outputs": [
    {
     "data": {
      "text/html": [
       "<div>\n",
       "<style scoped>\n",
       "    .dataframe tbody tr th:only-of-type {\n",
       "        vertical-align: middle;\n",
       "    }\n",
       "\n",
       "    .dataframe tbody tr th {\n",
       "        vertical-align: top;\n",
       "    }\n",
       "\n",
       "    .dataframe thead th {\n",
       "        text-align: right;\n",
       "    }\n",
       "</style>\n",
       "<table border=\"1\" class=\"dataframe\">\n",
       "  <thead>\n",
       "    <tr style=\"text-align: right;\">\n",
       "      <th></th>\n",
       "      <th>Interesse</th>\n",
       "      <th>Alter</th>\n",
       "      <th>Fahrerlaubnis</th>\n",
       "      <th>Vorversicherung</th>\n",
       "      <th>Vorschaden</th>\n",
       "      <th>Jahresbeitrag</th>\n",
       "      <th>Kundentreue</th>\n",
       "      <th>Alter_binned_&lt;30</th>\n",
       "      <th>Alter_binned_30-50</th>\n",
       "      <th>Alter_binned_50-65</th>\n",
       "      <th>Alter_binned_65-75</th>\n",
       "      <th>Alter_binned_&gt;75</th>\n",
       "      <th>Regional_Code_enc</th>\n",
       "      <th>Vertriebskanal_enc</th>\n",
       "      <th>Alter_Fzg_enc</th>\n",
       "      <th>Geschlecht_Male</th>\n",
       "    </tr>\n",
       "  </thead>\n",
       "  <tbody>\n",
       "    <tr>\n",
       "      <th>0</th>\n",
       "      <td>1.0</td>\n",
       "      <td>44</td>\n",
       "      <td>1</td>\n",
       "      <td>0</td>\n",
       "      <td>1</td>\n",
       "      <td>40454.0</td>\n",
       "      <td>217</td>\n",
       "      <td>0</td>\n",
       "      <td>1</td>\n",
       "      <td>0</td>\n",
       "      <td>0</td>\n",
       "      <td>0</td>\n",
       "      <td>0.187163</td>\n",
       "      <td>0.199385</td>\n",
       "      <td>2.0</td>\n",
       "      <td>1.0</td>\n",
       "    </tr>\n",
       "    <tr>\n",
       "      <th>1</th>\n",
       "      <td>0.0</td>\n",
       "      <td>76</td>\n",
       "      <td>1</td>\n",
       "      <td>0</td>\n",
       "      <td>0</td>\n",
       "      <td>33536.0</td>\n",
       "      <td>183</td>\n",
       "      <td>0</td>\n",
       "      <td>0</td>\n",
       "      <td>0</td>\n",
       "      <td>0</td>\n",
       "      <td>1</td>\n",
       "      <td>0.127662</td>\n",
       "      <td>0.199385</td>\n",
       "      <td>1.0</td>\n",
       "      <td>1.0</td>\n",
       "    </tr>\n",
       "    <tr>\n",
       "      <th>2</th>\n",
       "      <td>1.0</td>\n",
       "      <td>47</td>\n",
       "      <td>1</td>\n",
       "      <td>0</td>\n",
       "      <td>1</td>\n",
       "      <td>38294.0</td>\n",
       "      <td>27</td>\n",
       "      <td>0</td>\n",
       "      <td>1</td>\n",
       "      <td>0</td>\n",
       "      <td>0</td>\n",
       "      <td>0</td>\n",
       "      <td>0.187163</td>\n",
       "      <td>0.199385</td>\n",
       "      <td>2.0</td>\n",
       "      <td>1.0</td>\n",
       "    </tr>\n",
       "    <tr>\n",
       "      <th>3</th>\n",
       "      <td>0.0</td>\n",
       "      <td>21</td>\n",
       "      <td>1</td>\n",
       "      <td>1</td>\n",
       "      <td>0</td>\n",
       "      <td>28619.0</td>\n",
       "      <td>203</td>\n",
       "      <td>1</td>\n",
       "      <td>0</td>\n",
       "      <td>0</td>\n",
       "      <td>0</td>\n",
       "      <td>0</td>\n",
       "      <td>0.112760</td>\n",
       "      <td>0.028624</td>\n",
       "      <td>0.0</td>\n",
       "      <td>1.0</td>\n",
       "    </tr>\n",
       "    <tr>\n",
       "      <th>4</th>\n",
       "      <td>0.0</td>\n",
       "      <td>29</td>\n",
       "      <td>1</td>\n",
       "      <td>1</td>\n",
       "      <td>0</td>\n",
       "      <td>27496.0</td>\n",
       "      <td>39</td>\n",
       "      <td>1</td>\n",
       "      <td>0</td>\n",
       "      <td>0</td>\n",
       "      <td>0</td>\n",
       "      <td>0</td>\n",
       "      <td>0.121776</td>\n",
       "      <td>0.028624</td>\n",
       "      <td>0.0</td>\n",
       "      <td>0.0</td>\n",
       "    </tr>\n",
       "  </tbody>\n",
       "</table>\n",
       "</div>"
      ],
      "text/plain": [
       "   Interesse  Alter  Fahrerlaubnis  Vorversicherung  Vorschaden  \\\n",
       "0        1.0     44              1                0           1   \n",
       "1        0.0     76              1                0           0   \n",
       "2        1.0     47              1                0           1   \n",
       "3        0.0     21              1                1           0   \n",
       "4        0.0     29              1                1           0   \n",
       "\n",
       "   Jahresbeitrag  Kundentreue  Alter_binned_<30  Alter_binned_30-50  \\\n",
       "0        40454.0          217                 0                   1   \n",
       "1        33536.0          183                 0                   0   \n",
       "2        38294.0           27                 0                   1   \n",
       "3        28619.0          203                 1                   0   \n",
       "4        27496.0           39                 1                   0   \n",
       "\n",
       "   Alter_binned_50-65  Alter_binned_65-75  Alter_binned_>75  \\\n",
       "0                   0                   0                 0   \n",
       "1                   0                   0                 1   \n",
       "2                   0                   0                 0   \n",
       "3                   0                   0                 0   \n",
       "4                   0                   0                 0   \n",
       "\n",
       "   Regional_Code_enc  Vertriebskanal_enc  Alter_Fzg_enc  Geschlecht_Male  \n",
       "0           0.187163            0.199385            2.0              1.0  \n",
       "1           0.127662            0.199385            1.0              1.0  \n",
       "2           0.187163            0.199385            2.0              1.0  \n",
       "3           0.112760            0.028624            0.0              1.0  \n",
       "4           0.121776            0.028624            0.0              0.0  "
      ]
     },
     "execution_count": 328,
     "metadata": {},
     "output_type": "execute_result"
    }
   ],
   "source": [
    "data.head()"
   ]
  },
  {
   "cell_type": "markdown",
   "id": "ac8a9396",
   "metadata": {},
   "source": [
    "## Preprocessing Pipeline"
   ]
  },
  {
   "cell_type": "code",
   "execution_count": 329,
   "id": "7906011c",
   "metadata": {},
   "outputs": [
    {
     "data": {
      "text/plain": [
       "((266776, 15), (114333, 15), (266776,), (114333,))"
      ]
     },
     "execution_count": 329,
     "metadata": {},
     "output_type": "execute_result"
    }
   ],
   "source": [
    "# Defining the features and the target\n",
    "X = data.drop(columns='Interesse')\n",
    "y = data['Interesse']\n",
    "\n",
    "# Train-Test split\n",
    "X_train, X_test, y_train, y_test = train_test_split(X, y, test_size = 0.30)\n",
    "X_train.shape, X_test.shape, y_train.shape, y_test.shape"
   ]
  },
  {
   "cell_type": "code",
   "execution_count": 332,
   "id": "0c62198c",
   "metadata": {},
   "outputs": [
    {
     "data": {
      "text/html": [
       "<style>#sk-container-id-5 {color: black;background-color: white;}#sk-container-id-5 pre{padding: 0;}#sk-container-id-5 div.sk-toggleable {background-color: white;}#sk-container-id-5 label.sk-toggleable__label {cursor: pointer;display: block;width: 100%;margin-bottom: 0;padding: 0.3em;box-sizing: border-box;text-align: center;}#sk-container-id-5 label.sk-toggleable__label-arrow:before {content: \"▸\";float: left;margin-right: 0.25em;color: #696969;}#sk-container-id-5 label.sk-toggleable__label-arrow:hover:before {color: black;}#sk-container-id-5 div.sk-estimator:hover label.sk-toggleable__label-arrow:before {color: black;}#sk-container-id-5 div.sk-toggleable__content {max-height: 0;max-width: 0;overflow: hidden;text-align: left;background-color: #f0f8ff;}#sk-container-id-5 div.sk-toggleable__content pre {margin: 0.2em;color: black;border-radius: 0.25em;background-color: #f0f8ff;}#sk-container-id-5 input.sk-toggleable__control:checked~div.sk-toggleable__content {max-height: 200px;max-width: 100%;overflow: auto;}#sk-container-id-5 input.sk-toggleable__control:checked~label.sk-toggleable__label-arrow:before {content: \"▾\";}#sk-container-id-5 div.sk-estimator input.sk-toggleable__control:checked~label.sk-toggleable__label {background-color: #d4ebff;}#sk-container-id-5 div.sk-label input.sk-toggleable__control:checked~label.sk-toggleable__label {background-color: #d4ebff;}#sk-container-id-5 input.sk-hidden--visually {border: 0;clip: rect(1px 1px 1px 1px);clip: rect(1px, 1px, 1px, 1px);height: 1px;margin: -1px;overflow: hidden;padding: 0;position: absolute;width: 1px;}#sk-container-id-5 div.sk-estimator {font-family: monospace;background-color: #f0f8ff;border: 1px dotted black;border-radius: 0.25em;box-sizing: border-box;margin-bottom: 0.5em;}#sk-container-id-5 div.sk-estimator:hover {background-color: #d4ebff;}#sk-container-id-5 div.sk-parallel-item::after {content: \"\";width: 100%;border-bottom: 1px solid gray;flex-grow: 1;}#sk-container-id-5 div.sk-label:hover label.sk-toggleable__label {background-color: #d4ebff;}#sk-container-id-5 div.sk-serial::before {content: \"\";position: absolute;border-left: 1px solid gray;box-sizing: border-box;top: 0;bottom: 0;left: 50%;z-index: 0;}#sk-container-id-5 div.sk-serial {display: flex;flex-direction: column;align-items: center;background-color: white;padding-right: 0.2em;padding-left: 0.2em;position: relative;}#sk-container-id-5 div.sk-item {position: relative;z-index: 1;}#sk-container-id-5 div.sk-parallel {display: flex;align-items: stretch;justify-content: center;background-color: white;position: relative;}#sk-container-id-5 div.sk-item::before, #sk-container-id-5 div.sk-parallel-item::before {content: \"\";position: absolute;border-left: 1px solid gray;box-sizing: border-box;top: 0;bottom: 0;left: 50%;z-index: -1;}#sk-container-id-5 div.sk-parallel-item {display: flex;flex-direction: column;z-index: 1;position: relative;background-color: white;}#sk-container-id-5 div.sk-parallel-item:first-child::after {align-self: flex-end;width: 50%;}#sk-container-id-5 div.sk-parallel-item:last-child::after {align-self: flex-start;width: 50%;}#sk-container-id-5 div.sk-parallel-item:only-child::after {width: 0;}#sk-container-id-5 div.sk-dashed-wrapped {border: 1px dashed gray;margin: 0 0.4em 0.5em 0.4em;box-sizing: border-box;padding-bottom: 0.4em;background-color: white;}#sk-container-id-5 div.sk-label label {font-family: monospace;font-weight: bold;display: inline-block;line-height: 1.2em;}#sk-container-id-5 div.sk-label-container {text-align: center;}#sk-container-id-5 div.sk-container {/* jupyter's `normalize.less` sets `[hidden] { display: none; }` but bootstrap.min.css set `[hidden] { display: none !important; }` so we also need the `!important` here to be able to override the default hidden behavior on the sphinx rendered scikit-learn.org. See: https://github.com/scikit-learn/scikit-learn/issues/21755 */display: inline-block !important;position: relative;}#sk-container-id-5 div.sk-text-repr-fallback {display: none;}</style><div id=\"sk-container-id-5\" class=\"sk-top-container\"><div class=\"sk-text-repr-fallback\"><pre>ColumnTransformer(remainder=&#x27;passthrough&#x27;,\n",
       "                  transformers=[(&#x27;num_transformer&#x27;,\n",
       "                                 Pipeline(steps=[(&#x27;minmax_scaler&#x27;,\n",
       "                                                  MinMaxScaler())]),\n",
       "                                 [&#x27;Jahresbeitrag&#x27;, &#x27;Alter&#x27;, &#x27;Kundentreue&#x27;])])</pre><b>In a Jupyter environment, please rerun this cell to show the HTML representation or trust the notebook. <br />On GitHub, the HTML representation is unable to render, please try loading this page with nbviewer.org.</b></div><div class=\"sk-container\" hidden><div class=\"sk-item sk-dashed-wrapped\"><div class=\"sk-label-container\"><div class=\"sk-label sk-toggleable\"><input class=\"sk-toggleable__control sk-hidden--visually\" id=\"sk-estimator-id-27\" type=\"checkbox\" ><label for=\"sk-estimator-id-27\" class=\"sk-toggleable__label sk-toggleable__label-arrow\">ColumnTransformer</label><div class=\"sk-toggleable__content\"><pre>ColumnTransformer(remainder=&#x27;passthrough&#x27;,\n",
       "                  transformers=[(&#x27;num_transformer&#x27;,\n",
       "                                 Pipeline(steps=[(&#x27;minmax_scaler&#x27;,\n",
       "                                                  MinMaxScaler())]),\n",
       "                                 [&#x27;Jahresbeitrag&#x27;, &#x27;Alter&#x27;, &#x27;Kundentreue&#x27;])])</pre></div></div></div><div class=\"sk-parallel\"><div class=\"sk-parallel-item\"><div class=\"sk-item\"><div class=\"sk-label-container\"><div class=\"sk-label sk-toggleable\"><input class=\"sk-toggleable__control sk-hidden--visually\" id=\"sk-estimator-id-28\" type=\"checkbox\" ><label for=\"sk-estimator-id-28\" class=\"sk-toggleable__label sk-toggleable__label-arrow\">num_transformer</label><div class=\"sk-toggleable__content\"><pre>[&#x27;Jahresbeitrag&#x27;, &#x27;Alter&#x27;, &#x27;Kundentreue&#x27;]</pre></div></div></div><div class=\"sk-serial\"><div class=\"sk-item\"><div class=\"sk-serial\"><div class=\"sk-item\"><div class=\"sk-estimator sk-toggleable\"><input class=\"sk-toggleable__control sk-hidden--visually\" id=\"sk-estimator-id-29\" type=\"checkbox\" ><label for=\"sk-estimator-id-29\" class=\"sk-toggleable__label sk-toggleable__label-arrow\">MinMaxScaler</label><div class=\"sk-toggleable__content\"><pre>MinMaxScaler()</pre></div></div></div></div></div></div></div></div><div class=\"sk-parallel-item\"><div class=\"sk-item\"><div class=\"sk-label-container\"><div class=\"sk-label sk-toggleable\"><input class=\"sk-toggleable__control sk-hidden--visually\" id=\"sk-estimator-id-30\" type=\"checkbox\" ><label for=\"sk-estimator-id-30\" class=\"sk-toggleable__label sk-toggleable__label-arrow\">remainder</label><div class=\"sk-toggleable__content\"><pre></pre></div></div></div><div class=\"sk-serial\"><div class=\"sk-item\"><div class=\"sk-estimator sk-toggleable\"><input class=\"sk-toggleable__control sk-hidden--visually\" id=\"sk-estimator-id-31\" type=\"checkbox\" ><label for=\"sk-estimator-id-31\" class=\"sk-toggleable__label sk-toggleable__label-arrow\">passthrough</label><div class=\"sk-toggleable__content\"><pre>passthrough</pre></div></div></div></div></div></div></div></div></div></div>"
      ],
      "text/plain": [
       "ColumnTransformer(remainder='passthrough',\n",
       "                  transformers=[('num_transformer',\n",
       "                                 Pipeline(steps=[('minmax_scaler',\n",
       "                                                  MinMaxScaler())]),\n",
       "                                 ['Jahresbeitrag', 'Alter', 'Kundentreue'])])"
      ]
     },
     "execution_count": 332,
     "metadata": {},
     "output_type": "execute_result"
    }
   ],
   "source": [
    "# Scale numerical values: \n",
    "num_transformer = Pipeline([('minmax_scaler', MinMaxScaler())])\n",
    "\n",
    "# Parallelize transformers\n",
    "preprocessor = ColumnTransformer([\n",
    "    ('num_transformer', num_transformer, ['Jahresbeitrag', 'Alter', 'Kundentreue'])],\n",
    "    remainder='passthrough'\n",
    ")\n",
    "\n",
    "preprocessor"
   ]
  },
  {
   "cell_type": "code",
   "execution_count": 339,
   "id": "573dcb8b",
   "metadata": {},
   "outputs": [],
   "source": [
    "X_train_transformed = preprocessor.fit_transform(X_train)"
   ]
  },
  {
   "cell_type": "code",
   "execution_count": 340,
   "id": "a782f074",
   "metadata": {},
   "outputs": [],
   "source": [
    "norm_data = pd.DataFrame(\n",
    "    X_train_transformed, \n",
    "    columns=preprocessor.get_feature_names_out())"
   ]
  },
  {
   "cell_type": "code",
   "execution_count": 341,
   "id": "d4fd9d2f",
   "metadata": {},
   "outputs": [
    {
     "data": {
      "text/html": [
       "<div>\n",
       "<style scoped>\n",
       "    .dataframe tbody tr th:only-of-type {\n",
       "        vertical-align: middle;\n",
       "    }\n",
       "\n",
       "    .dataframe tbody tr th {\n",
       "        vertical-align: top;\n",
       "    }\n",
       "\n",
       "    .dataframe thead th {\n",
       "        text-align: right;\n",
       "    }\n",
       "</style>\n",
       "<table border=\"1\" class=\"dataframe\">\n",
       "  <thead>\n",
       "    <tr style=\"text-align: right;\">\n",
       "      <th></th>\n",
       "      <th>num_transformer__Jahresbeitrag</th>\n",
       "      <th>num_transformer__Alter</th>\n",
       "      <th>num_transformer__Kundentreue</th>\n",
       "      <th>remainder__Fahrerlaubnis</th>\n",
       "      <th>remainder__Vorversicherung</th>\n",
       "      <th>remainder__Vorschaden</th>\n",
       "      <th>remainder__Alter_binned_&lt;30</th>\n",
       "      <th>remainder__Alter_binned_30-50</th>\n",
       "      <th>remainder__Alter_binned_50-65</th>\n",
       "      <th>remainder__Alter_binned_65-75</th>\n",
       "      <th>remainder__Alter_binned_&gt;75</th>\n",
       "      <th>remainder__Regional_Code_enc</th>\n",
       "      <th>remainder__Vertriebskanal_enc</th>\n",
       "      <th>remainder__Alter_Fzg_enc</th>\n",
       "      <th>remainder__Geschlecht_Male</th>\n",
       "    </tr>\n",
       "  </thead>\n",
       "  <tbody>\n",
       "    <tr>\n",
       "      <th>0</th>\n",
       "      <td>0.043662</td>\n",
       "      <td>0.046154</td>\n",
       "      <td>0.262976</td>\n",
       "      <td>1.0</td>\n",
       "      <td>1.0</td>\n",
       "      <td>0.0</td>\n",
       "      <td>1.0</td>\n",
       "      <td>0.0</td>\n",
       "      <td>0.0</td>\n",
       "      <td>0.0</td>\n",
       "      <td>0.0</td>\n",
       "      <td>0.073825</td>\n",
       "      <td>0.028624</td>\n",
       "      <td>0.0</td>\n",
       "      <td>1.0</td>\n",
       "    </tr>\n",
       "    <tr>\n",
       "      <th>1</th>\n",
       "      <td>0.000000</td>\n",
       "      <td>0.323077</td>\n",
       "      <td>1.000000</td>\n",
       "      <td>1.0</td>\n",
       "      <td>1.0</td>\n",
       "      <td>0.0</td>\n",
       "      <td>0.0</td>\n",
       "      <td>1.0</td>\n",
       "      <td>0.0</td>\n",
       "      <td>0.0</td>\n",
       "      <td>0.0</td>\n",
       "      <td>0.070310</td>\n",
       "      <td>0.199385</td>\n",
       "      <td>1.0</td>\n",
       "      <td>0.0</td>\n",
       "    </tr>\n",
       "    <tr>\n",
       "      <th>2</th>\n",
       "      <td>0.032493</td>\n",
       "      <td>0.369231</td>\n",
       "      <td>0.342561</td>\n",
       "      <td>1.0</td>\n",
       "      <td>0.0</td>\n",
       "      <td>1.0</td>\n",
       "      <td>0.0</td>\n",
       "      <td>1.0</td>\n",
       "      <td>0.0</td>\n",
       "      <td>0.0</td>\n",
       "      <td>0.0</td>\n",
       "      <td>0.127662</td>\n",
       "      <td>0.199385</td>\n",
       "      <td>1.0</td>\n",
       "      <td>1.0</td>\n",
       "    </tr>\n",
       "    <tr>\n",
       "      <th>3</th>\n",
       "      <td>0.053544</td>\n",
       "      <td>0.046154</td>\n",
       "      <td>0.903114</td>\n",
       "      <td>1.0</td>\n",
       "      <td>1.0</td>\n",
       "      <td>0.0</td>\n",
       "      <td>1.0</td>\n",
       "      <td>0.0</td>\n",
       "      <td>0.0</td>\n",
       "      <td>0.0</td>\n",
       "      <td>0.0</td>\n",
       "      <td>0.121776</td>\n",
       "      <td>0.028624</td>\n",
       "      <td>0.0</td>\n",
       "      <td>1.0</td>\n",
       "    </tr>\n",
       "    <tr>\n",
       "      <th>4</th>\n",
       "      <td>0.049913</td>\n",
       "      <td>0.492308</td>\n",
       "      <td>0.093426</td>\n",
       "      <td>1.0</td>\n",
       "      <td>0.0</td>\n",
       "      <td>1.0</td>\n",
       "      <td>0.0</td>\n",
       "      <td>0.0</td>\n",
       "      <td>1.0</td>\n",
       "      <td>0.0</td>\n",
       "      <td>0.0</td>\n",
       "      <td>0.187163</td>\n",
       "      <td>0.189148</td>\n",
       "      <td>1.0</td>\n",
       "      <td>0.0</td>\n",
       "    </tr>\n",
       "  </tbody>\n",
       "</table>\n",
       "</div>"
      ],
      "text/plain": [
       "   num_transformer__Jahresbeitrag  num_transformer__Alter  \\\n",
       "0                        0.043662                0.046154   \n",
       "1                        0.000000                0.323077   \n",
       "2                        0.032493                0.369231   \n",
       "3                        0.053544                0.046154   \n",
       "4                        0.049913                0.492308   \n",
       "\n",
       "   num_transformer__Kundentreue  remainder__Fahrerlaubnis  \\\n",
       "0                      0.262976                       1.0   \n",
       "1                      1.000000                       1.0   \n",
       "2                      0.342561                       1.0   \n",
       "3                      0.903114                       1.0   \n",
       "4                      0.093426                       1.0   \n",
       "\n",
       "   remainder__Vorversicherung  remainder__Vorschaden  \\\n",
       "0                         1.0                    0.0   \n",
       "1                         1.0                    0.0   \n",
       "2                         0.0                    1.0   \n",
       "3                         1.0                    0.0   \n",
       "4                         0.0                    1.0   \n",
       "\n",
       "   remainder__Alter_binned_<30  remainder__Alter_binned_30-50  \\\n",
       "0                          1.0                            0.0   \n",
       "1                          0.0                            1.0   \n",
       "2                          0.0                            1.0   \n",
       "3                          1.0                            0.0   \n",
       "4                          0.0                            0.0   \n",
       "\n",
       "   remainder__Alter_binned_50-65  remainder__Alter_binned_65-75  \\\n",
       "0                            0.0                            0.0   \n",
       "1                            0.0                            0.0   \n",
       "2                            0.0                            0.0   \n",
       "3                            0.0                            0.0   \n",
       "4                            1.0                            0.0   \n",
       "\n",
       "   remainder__Alter_binned_>75  remainder__Regional_Code_enc  \\\n",
       "0                          0.0                      0.073825   \n",
       "1                          0.0                      0.070310   \n",
       "2                          0.0                      0.127662   \n",
       "3                          0.0                      0.121776   \n",
       "4                          0.0                      0.187163   \n",
       "\n",
       "   remainder__Vertriebskanal_enc  remainder__Alter_Fzg_enc  \\\n",
       "0                       0.028624                       0.0   \n",
       "1                       0.199385                       1.0   \n",
       "2                       0.199385                       1.0   \n",
       "3                       0.028624                       0.0   \n",
       "4                       0.189148                       1.0   \n",
       "\n",
       "   remainder__Geschlecht_Male  \n",
       "0                         1.0  \n",
       "1                         0.0  \n",
       "2                         1.0  \n",
       "3                         1.0  \n",
       "4                         0.0  "
      ]
     },
     "execution_count": 341,
     "metadata": {},
     "output_type": "execute_result"
    }
   ],
   "source": [
    "norm_data.head()"
   ]
  },
  {
   "cell_type": "markdown",
   "id": "b11cc08b",
   "metadata": {},
   "source": [
    "## Preliminary Statistical Analysis"
   ]
  },
  {
   "cell_type": "code",
   "execution_count": 342,
   "id": "d2091cbd",
   "metadata": {},
   "outputs": [
    {
     "data": {
      "image/png": "[encoded data removed]",
      "text/plain": [
       "<Figure size 640x480 with 2 Axes>"
      ]
     },
     "metadata": {},
     "output_type": "display_data"
    }
   ],
   "source": [
    "# Heatmap of pairwise correlations\n",
    "correlation_matrix = norm_data.corr()\n",
    "column_names = correlation_matrix.columns\n",
    "sns.heatmap(correlation_matrix, xticklabels=column_names, yticklabels=column_names,cmap= \"bwr\");"
   ]
  },
  {
   "cell_type": "code",
   "execution_count": 343,
   "id": "49ee34a0",
   "metadata": {},
   "outputs": [],
   "source": [
    "# Converting the correlation matrix into a DataFrame\n",
    "corr_df = correlation_matrix.stack().reset_index()\n",
    "\n",
    "# Renaming the columns\n",
    "corr_df.columns = ['feature_1','feature_2', 'correlation']\n",
    "\n",
    "# Remove \"self correlations\"\n",
    "no_self_correlation = (corr_df['feature_1'] != corr_df['feature_2'])\n",
    "corr_df = corr_df[no_self_correlation]"
   ]
  },
  {
   "cell_type": "code",
   "execution_count": 344,
   "id": "93dd34f4",
   "metadata": {},
   "outputs": [
    {
     "data": {
      "text/html": [
       "<div>\n",
       "<style scoped>\n",
       "    .dataframe tbody tr th:only-of-type {\n",
       "        vertical-align: middle;\n",
       "    }\n",
       "\n",
       "    .dataframe tbody tr th {\n",
       "        vertical-align: top;\n",
       "    }\n",
       "\n",
       "    .dataframe thead th {\n",
       "        text-align: right;\n",
       "    }\n",
       "</style>\n",
       "<table border=\"1\" class=\"dataframe\">\n",
       "  <thead>\n",
       "    <tr style=\"text-align: right;\">\n",
       "      <th></th>\n",
       "      <th>feature_1</th>\n",
       "      <th>feature_2</th>\n",
       "      <th>correlation</th>\n",
       "      <th>absolute_correlation</th>\n",
       "    </tr>\n",
       "  </thead>\n",
       "  <tbody>\n",
       "    <tr>\n",
       "      <th>103</th>\n",
       "      <td>remainder__Alter_binned_&lt;30</td>\n",
       "      <td>remainder__Alter_Fzg_enc</td>\n",
       "      <td>-0.830399</td>\n",
       "      <td>0.830399</td>\n",
       "    </tr>\n",
       "    <tr>\n",
       "      <th>201</th>\n",
       "      <td>remainder__Alter_Fzg_enc</td>\n",
       "      <td>remainder__Alter_binned_&lt;30</td>\n",
       "      <td>-0.830399</td>\n",
       "      <td>0.830399</td>\n",
       "    </tr>\n",
       "    <tr>\n",
       "      <th>65</th>\n",
       "      <td>remainder__Vorversicherung</td>\n",
       "      <td>remainder__Vorschaden</td>\n",
       "      <td>-0.823262</td>\n",
       "      <td>0.823262</td>\n",
       "    </tr>\n",
       "    <tr>\n",
       "      <th>79</th>\n",
       "      <td>remainder__Vorschaden</td>\n",
       "      <td>remainder__Vorversicherung</td>\n",
       "      <td>-0.823262</td>\n",
       "      <td>0.823262</td>\n",
       "    </tr>\n",
       "    <tr>\n",
       "      <th>91</th>\n",
       "      <td>remainder__Alter_binned_&lt;30</td>\n",
       "      <td>num_transformer__Alter</td>\n",
       "      <td>-0.787407</td>\n",
       "      <td>0.787407</td>\n",
       "    </tr>\n",
       "    <tr>\n",
       "      <th>21</th>\n",
       "      <td>num_transformer__Alter</td>\n",
       "      <td>remainder__Alter_binned_&lt;30</td>\n",
       "      <td>-0.787407</td>\n",
       "      <td>0.787407</td>\n",
       "    </tr>\n",
       "    <tr>\n",
       "      <th>207</th>\n",
       "      <td>remainder__Alter_Fzg_enc</td>\n",
       "      <td>remainder__Vertriebskanal_enc</td>\n",
       "      <td>0.768649</td>\n",
       "      <td>0.768649</td>\n",
       "    </tr>\n",
       "    <tr>\n",
       "      <th>193</th>\n",
       "      <td>remainder__Vertriebskanal_enc</td>\n",
       "      <td>remainder__Alter_Fzg_enc</td>\n",
       "      <td>0.768649</td>\n",
       "      <td>0.768649</td>\n",
       "    </tr>\n",
       "    <tr>\n",
       "      <th>196</th>\n",
       "      <td>remainder__Alter_Fzg_enc</td>\n",
       "      <td>num_transformer__Alter</td>\n",
       "      <td>0.765724</td>\n",
       "      <td>0.765724</td>\n",
       "    </tr>\n",
       "    <tr>\n",
       "      <th>28</th>\n",
       "      <td>num_transformer__Alter</td>\n",
       "      <td>remainder__Alter_Fzg_enc</td>\n",
       "      <td>0.765724</td>\n",
       "      <td>0.765724</td>\n",
       "    </tr>\n",
       "  </tbody>\n",
       "</table>\n",
       "</div>"
      ],
      "text/plain": [
       "                         feature_1                      feature_2  \\\n",
       "103    remainder__Alter_binned_<30       remainder__Alter_Fzg_enc   \n",
       "201       remainder__Alter_Fzg_enc    remainder__Alter_binned_<30   \n",
       "65      remainder__Vorversicherung          remainder__Vorschaden   \n",
       "79           remainder__Vorschaden     remainder__Vorversicherung   \n",
       "91     remainder__Alter_binned_<30         num_transformer__Alter   \n",
       "21          num_transformer__Alter    remainder__Alter_binned_<30   \n",
       "207       remainder__Alter_Fzg_enc  remainder__Vertriebskanal_enc   \n",
       "193  remainder__Vertriebskanal_enc       remainder__Alter_Fzg_enc   \n",
       "196       remainder__Alter_Fzg_enc         num_transformer__Alter   \n",
       "28          num_transformer__Alter       remainder__Alter_Fzg_enc   \n",
       "\n",
       "     correlation  absolute_correlation  \n",
       "103    -0.830399              0.830399  \n",
       "201    -0.830399              0.830399  \n",
       "65     -0.823262              0.823262  \n",
       "79     -0.823262              0.823262  \n",
       "91     -0.787407              0.787407  \n",
       "21     -0.787407              0.787407  \n",
       "207     0.768649              0.768649  \n",
       "193     0.768649              0.768649  \n",
       "196     0.765724              0.765724  \n",
       "28      0.765724              0.765724  "
      ]
     },
     "execution_count": 344,
     "metadata": {},
     "output_type": "execute_result"
    }
   ],
   "source": [
    "# Computing the absolute correlation\n",
    "corr_df['absolute_correlation'] = np.abs(corr_df['correlation'])\n",
    "\n",
    "# Showing the top 5 most correlated pairs of feature\n",
    "corr_df.sort_values(by=\"absolute_correlation\", ascending=False).head(5*2)"
   ]
  },
  {
   "cell_type": "markdown",
   "id": "f9652a77",
   "metadata": {},
   "source": [
    "## Modelling"
   ]
  },
  {
   "cell_type": "markdown",
   "id": "69c00c84",
   "metadata": {},
   "source": [
    "### Choosing the right metrics"
   ]
  },
  {
   "cell_type": "code",
   "execution_count": 350,
   "id": "49a4a6c7",
   "metadata": {},
   "outputs": [
    {
     "name": "stdout",
     "output_type": "stream",
     "text": [
      "Class distribution:\n",
      "0.0    334399\n",
      "1.0     46710\n",
      "Name: Interesse, dtype: int64\n"
     ]
    }
   ],
   "source": [
    "target_count = data['Interesse'].value_counts()\n",
    "print(\"Class distribution:\")\n",
    "print(target_count)"
   ]
  },
  {
   "cell_type": "code",
   "execution_count": 357,
   "id": "c964ec87",
   "metadata": {},
   "outputs": [
    {
     "name": "stdout",
     "output_type": "stream",
     "text": [
      "Ratio of classes: 0.13968343206767964\n"
     ]
    }
   ],
   "source": [
    "# Calculate the ratio of each class\n",
    "class_ratio = target_count[1] / target_count[0]\n",
    "print(\"Ratio of classes:\", class_ratio)"
   ]
  },
  {
   "cell_type": "markdown",
   "id": "850325c5",
   "metadata": {},
   "source": [
    "Target classes are not balanced -> accuracy isn't an option. Recall is a better choice since we don't want to miss any positive classes (customers that have interest in offer). We want to reduce false negatives (customers who are interested in offer but were recognized as not-interested). \n",
    "\n",
    "We can also use F1 score as a combination of precision and recall"
   ]
  },
  {
   "cell_type": "markdown",
   "id": "a1a51b78",
   "metadata": {},
   "source": [
    "### Pipeline"
   ]
  },
  {
   "cell_type": "code",
   "execution_count": 353,
   "id": "8b8f7455",
   "metadata": {},
   "outputs": [
    {
     "data": {
      "text/html": [
       "<style>#sk-container-id-7 {color: black;background-color: white;}#sk-container-id-7 pre{padding: 0;}#sk-container-id-7 div.sk-toggleable {background-color: white;}#sk-container-id-7 label.sk-toggleable__label {cursor: pointer;display: block;width: 100%;margin-bottom: 0;padding: 0.3em;box-sizing: border-box;text-align: center;}#sk-container-id-7 label.sk-toggleable__label-arrow:before {content: \"▸\";float: left;margin-right: 0.25em;color: #696969;}#sk-container-id-7 label.sk-toggleable__label-arrow:hover:before {color: black;}#sk-container-id-7 div.sk-estimator:hover label.sk-toggleable__label-arrow:before {color: black;}#sk-container-id-7 div.sk-toggleable__content {max-height: 0;max-width: 0;overflow: hidden;text-align: left;background-color: #f0f8ff;}#sk-container-id-7 div.sk-toggleable__content pre {margin: 0.2em;color: black;border-radius: 0.25em;background-color: #f0f8ff;}#sk-container-id-7 input.sk-toggleable__control:checked~div.sk-toggleable__content {max-height: 200px;max-width: 100%;overflow: auto;}#sk-container-id-7 input.sk-toggleable__control:checked~label.sk-toggleable__label-arrow:before {content: \"▾\";}#sk-container-id-7 div.sk-estimator input.sk-toggleable__control:checked~label.sk-toggleable__label {background-color: #d4ebff;}#sk-container-id-7 div.sk-label input.sk-toggleable__control:checked~label.sk-toggleable__label {background-color: #d4ebff;}#sk-container-id-7 input.sk-hidden--visually {border: 0;clip: rect(1px 1px 1px 1px);clip: rect(1px, 1px, 1px, 1px);height: 1px;margin: -1px;overflow: hidden;padding: 0;position: absolute;width: 1px;}#sk-container-id-7 div.sk-estimator {font-family: monospace;background-color: #f0f8ff;border: 1px dotted black;border-radius: 0.25em;box-sizing: border-box;margin-bottom: 0.5em;}#sk-container-id-7 div.sk-estimator:hover {background-color: #d4ebff;}#sk-container-id-7 div.sk-parallel-item::after {content: \"\";width: 100%;border-bottom: 1px solid gray;flex-grow: 1;}#sk-container-id-7 div.sk-label:hover label.sk-toggleable__label {background-color: #d4ebff;}#sk-container-id-7 div.sk-serial::before {content: \"\";position: absolute;border-left: 1px solid gray;box-sizing: border-box;top: 0;bottom: 0;left: 50%;z-index: 0;}#sk-container-id-7 div.sk-serial {display: flex;flex-direction: column;align-items: center;background-color: white;padding-right: 0.2em;padding-left: 0.2em;position: relative;}#sk-container-id-7 div.sk-item {position: relative;z-index: 1;}#sk-container-id-7 div.sk-parallel {display: flex;align-items: stretch;justify-content: center;background-color: white;position: relative;}#sk-container-id-7 div.sk-item::before, #sk-container-id-7 div.sk-parallel-item::before {content: \"\";position: absolute;border-left: 1px solid gray;box-sizing: border-box;top: 0;bottom: 0;left: 50%;z-index: -1;}#sk-container-id-7 div.sk-parallel-item {display: flex;flex-direction: column;z-index: 1;position: relative;background-color: white;}#sk-container-id-7 div.sk-parallel-item:first-child::after {align-self: flex-end;width: 50%;}#sk-container-id-7 div.sk-parallel-item:last-child::after {align-self: flex-start;width: 50%;}#sk-container-id-7 div.sk-parallel-item:only-child::after {width: 0;}#sk-container-id-7 div.sk-dashed-wrapped {border: 1px dashed gray;margin: 0 0.4em 0.5em 0.4em;box-sizing: border-box;padding-bottom: 0.4em;background-color: white;}#sk-container-id-7 div.sk-label label {font-family: monospace;font-weight: bold;display: inline-block;line-height: 1.2em;}#sk-container-id-7 div.sk-label-container {text-align: center;}#sk-container-id-7 div.sk-container {/* jupyter's `normalize.less` sets `[hidden] { display: none; }` but bootstrap.min.css set `[hidden] { display: none !important; }` so we also need the `!important` here to be able to override the default hidden behavior on the sphinx rendered scikit-learn.org. See: https://github.com/scikit-learn/scikit-learn/issues/21755 */display: inline-block !important;position: relative;}#sk-container-id-7 div.sk-text-repr-fallback {display: none;}</style><div id=\"sk-container-id-7\" class=\"sk-top-container\"><div class=\"sk-text-repr-fallback\"><pre>Pipeline(steps=[(&#x27;columntransformer&#x27;,\n",
       "                 ColumnTransformer(remainder=&#x27;passthrough&#x27;,\n",
       "                                   transformers=[(&#x27;num_transformer&#x27;,\n",
       "                                                  Pipeline(steps=[(&#x27;minmax_scaler&#x27;,\n",
       "                                                                   MinMaxScaler())]),\n",
       "                                                  [&#x27;Jahresbeitrag&#x27;, &#x27;Alter&#x27;,\n",
       "                                                   &#x27;Kundentreue&#x27;])])),\n",
       "                (&#x27;logisticregression&#x27;, LogisticRegression(max_iter=1000))])</pre><b>In a Jupyter environment, please rerun this cell to show the HTML representation or trust the notebook. <br />On GitHub, the HTML representation is unable to render, please try loading this page with nbviewer.org.</b></div><div class=\"sk-container\" hidden><div class=\"sk-item sk-dashed-wrapped\"><div class=\"sk-label-container\"><div class=\"sk-label sk-toggleable\"><input class=\"sk-toggleable__control sk-hidden--visually\" id=\"sk-estimator-id-39\" type=\"checkbox\" ><label for=\"sk-estimator-id-39\" class=\"sk-toggleable__label sk-toggleable__label-arrow\">Pipeline</label><div class=\"sk-toggleable__content\"><pre>Pipeline(steps=[(&#x27;columntransformer&#x27;,\n",
       "                 ColumnTransformer(remainder=&#x27;passthrough&#x27;,\n",
       "                                   transformers=[(&#x27;num_transformer&#x27;,\n",
       "                                                  Pipeline(steps=[(&#x27;minmax_scaler&#x27;,\n",
       "                                                                   MinMaxScaler())]),\n",
       "                                                  [&#x27;Jahresbeitrag&#x27;, &#x27;Alter&#x27;,\n",
       "                                                   &#x27;Kundentreue&#x27;])])),\n",
       "                (&#x27;logisticregression&#x27;, LogisticRegression(max_iter=1000))])</pre></div></div></div><div class=\"sk-serial\"><div class=\"sk-item sk-dashed-wrapped\"><div class=\"sk-label-container\"><div class=\"sk-label sk-toggleable\"><input class=\"sk-toggleable__control sk-hidden--visually\" id=\"sk-estimator-id-40\" type=\"checkbox\" ><label for=\"sk-estimator-id-40\" class=\"sk-toggleable__label sk-toggleable__label-arrow\">columntransformer: ColumnTransformer</label><div class=\"sk-toggleable__content\"><pre>ColumnTransformer(remainder=&#x27;passthrough&#x27;,\n",
       "                  transformers=[(&#x27;num_transformer&#x27;,\n",
       "                                 Pipeline(steps=[(&#x27;minmax_scaler&#x27;,\n",
       "                                                  MinMaxScaler())]),\n",
       "                                 [&#x27;Jahresbeitrag&#x27;, &#x27;Alter&#x27;, &#x27;Kundentreue&#x27;])])</pre></div></div></div><div class=\"sk-parallel\"><div class=\"sk-parallel-item\"><div class=\"sk-item\"><div class=\"sk-label-container\"><div class=\"sk-label sk-toggleable\"><input class=\"sk-toggleable__control sk-hidden--visually\" id=\"sk-estimator-id-41\" type=\"checkbox\" ><label for=\"sk-estimator-id-41\" class=\"sk-toggleable__label sk-toggleable__label-arrow\">num_transformer</label><div class=\"sk-toggleable__content\"><pre>[&#x27;Jahresbeitrag&#x27;, &#x27;Alter&#x27;, &#x27;Kundentreue&#x27;]</pre></div></div></div><div class=\"sk-serial\"><div class=\"sk-item\"><div class=\"sk-serial\"><div class=\"sk-item\"><div class=\"sk-estimator sk-toggleable\"><input class=\"sk-toggleable__control sk-hidden--visually\" id=\"sk-estimator-id-42\" type=\"checkbox\" ><label for=\"sk-estimator-id-42\" class=\"sk-toggleable__label sk-toggleable__label-arrow\">MinMaxScaler</label><div class=\"sk-toggleable__content\"><pre>MinMaxScaler()</pre></div></div></div></div></div></div></div></div><div class=\"sk-parallel-item\"><div class=\"sk-item\"><div class=\"sk-label-container\"><div class=\"sk-label sk-toggleable\"><input class=\"sk-toggleable__control sk-hidden--visually\" id=\"sk-estimator-id-43\" type=\"checkbox\" ><label for=\"sk-estimator-id-43\" class=\"sk-toggleable__label sk-toggleable__label-arrow\">remainder</label><div class=\"sk-toggleable__content\"><pre>[&#x27;Fahrerlaubnis&#x27;, &#x27;Vorversicherung&#x27;, &#x27;Vorschaden&#x27;, &#x27;Alter_binned_&lt;30&#x27;, &#x27;Alter_binned_30-50&#x27;, &#x27;Alter_binned_50-65&#x27;, &#x27;Alter_binned_65-75&#x27;, &#x27;Alter_binned_&gt;75&#x27;, &#x27;Regional_Code_enc&#x27;, &#x27;Vertriebskanal_enc&#x27;, &#x27;Alter_Fzg_enc&#x27;, &#x27;Geschlecht_Male&#x27;]</pre></div></div></div><div class=\"sk-serial\"><div class=\"sk-item\"><div class=\"sk-estimator sk-toggleable\"><input class=\"sk-toggleable__control sk-hidden--visually\" id=\"sk-estimator-id-44\" type=\"checkbox\" ><label for=\"sk-estimator-id-44\" class=\"sk-toggleable__label sk-toggleable__label-arrow\">passthrough</label><div class=\"sk-toggleable__content\"><pre>passthrough</pre></div></div></div></div></div></div></div></div><div class=\"sk-item\"><div class=\"sk-estimator sk-toggleable\"><input class=\"sk-toggleable__control sk-hidden--visually\" id=\"sk-estimator-id-45\" type=\"checkbox\" ><label for=\"sk-estimator-id-45\" class=\"sk-toggleable__label sk-toggleable__label-arrow\">LogisticRegression</label><div class=\"sk-toggleable__content\"><pre>LogisticRegression(max_iter=1000)</pre></div></div></div></div></div></div></div>"
      ],
      "text/plain": [
       "Pipeline(steps=[('columntransformer',\n",
       "                 ColumnTransformer(remainder='passthrough',\n",
       "                                   transformers=[('num_transformer',\n",
       "                                                  Pipeline(steps=[('minmax_scaler',\n",
       "                                                                   MinMaxScaler())]),\n",
       "                                                  ['Jahresbeitrag', 'Alter',\n",
       "                                                   'Kundentreue'])])),\n",
       "                ('logisticregression', LogisticRegression(max_iter=1000))])"
      ]
     },
     "execution_count": 353,
     "metadata": {},
     "output_type": "execute_result"
    }
   ],
   "source": [
    "# Instantiate model\n",
    "log_reg = LogisticRegression(max_iter=1000) \n",
    "\n",
    "# Add estimator\n",
    "pipeline = make_pipeline(preprocessor, log_reg)\n",
    "pipeline"
   ]
  },
  {
   "cell_type": "code",
   "execution_count": 358,
   "id": "4c600cbe",
   "metadata": {},
   "outputs": [
    {
     "name": "stdout",
     "output_type": "stream",
     "text": [
      "Mean recall score: 0.0038387511933586833\n"
     ]
    }
   ],
   "source": [
    "# Use recall as the scoring metric\n",
    "recall_scores = cross_val_score(pipeline, X_train, y_train, cv=5, scoring='recall')\n",
    "mean_recall = recall_scores.mean()\n",
    "print(\"Mean recall score:\", mean_recall)"
   ]
  },
  {
   "cell_type": "markdown",
   "id": "42d2d4ca",
   "metadata": {},
   "source": [
    "We have an imbalanced dataset and the mean recall score is extremely low, it's likely that the model is biased towards the majority class and is not detecting the minority class well. We can try to oversample minority class."
   ]
  },
  {
   "cell_type": "code",
   "execution_count": 366,
   "id": "c54ba8b9",
   "metadata": {},
   "outputs": [],
   "source": [
    "# Create an instance of the SMOTE class\n",
    "smote = SMOTE(sampling_strategy='minority', random_state=42)\n",
    "\n",
    "# Fit the SMOTE model to the training data\n",
    "X_train_resampled, y_train_resampled = smote.fit_resample(X_train, y_train)"
   ]
  },
  {
   "cell_type": "code",
   "execution_count": 369,
   "id": "9bbe23ee",
   "metadata": {},
   "outputs": [
    {
     "name": "stdout",
     "output_type": "stream",
     "text": [
      "Mean recall score: 0.8932950944195153\n"
     ]
    }
   ],
   "source": [
    "# Cross-validate the model again\n",
    "recall_scores = cross_val_score(pipeline, X_train_resampled, y_train_resampled, cv=5, scoring='recall')\n",
    "mean_recall = recall_scores.mean()\n",
    "print(\"Mean recall score:\", mean_recall)"
   ]
  },
  {
   "cell_type": "markdown",
   "id": "6185dd86",
   "metadata": {},
   "source": [
    "It is now far better. We can also try to find good precision-recall tradeoff and optimize threshold for desicion"
   ]
  },
  {
   "cell_type": "code",
   "execution_count": null,
   "id": "17b801a8",
   "metadata": {},
   "outputs": [],
   "source": []
  },
  {
   "cell_type": "code",
   "execution_count": null,
   "id": "e1dc842a",
   "metadata": {},
   "outputs": [],
   "source": []
  },
  {
   "cell_type": "code",
   "execution_count": null,
   "id": "8789134b",
   "metadata": {},
   "outputs": [],
   "source": []
  },
  {
   "cell_type": "code",
   "execution_count": null,
   "id": "3ca938df",
   "metadata": {},
   "outputs": [],
   "source": []
  }
 ],
 "metadata": {
  "kernelspec": {
   "display_name": "Python 3 (ipykernel)",
   "language": "python",
   "name": "python3"
  },
  "language_info": {
   "codemirror_mode": {
    "name": "ipython",
    "version": 3
   },
   "file_extension": ".py",
   "mimetype": "text/x-python",
   "name": "python",
   "nbconvert_exporter": "python",
   "pygments_lexer": "ipython3",
   "version": "3.10.6"
  },
  "toc": {
   "base_numbering": 1,
   "nav_menu": {},
   "number_sections": true,
   "sideBar": true,
   "skip_h1_title": false,
   "title_cell": "Table of Contents",
   "title_sidebar": "Contents",
   "toc_cell": false,
   "toc_position": {},
   "toc_section_display": true,
   "toc_window_display": false
  },
  "varInspector": {
   "cols": {
    "lenName": 16,
    "lenType": 16,
    "lenVar": 40
   },
   "kernels_config": {
    "python": {
     "delete_cmd_postfix": "",
     "delete_cmd_prefix": "del ",
     "library": "var_list.py",
     "varRefreshCmd": "print(var_dic_list())"
    },
    "r": {
     "delete_cmd_postfix": ") ",
     "delete_cmd_prefix": "rm(",
     "library": "var_list.r",
     "varRefreshCmd": "cat(var_dic_list()) "
    }
   },
   "types_to_exclude": [
    "module",
    "function",
    "builtin_function_or_method",
    "instance",
    "_Feature"
   ],
   "window_display": false
  }
 },
 "nbformat": 4,
 "nbformat_minor": 5
}
