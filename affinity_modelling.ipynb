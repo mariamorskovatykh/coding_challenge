{
 "cells": [
  {
   "cell_type": "markdown",
   "id": "cf102c6f",
   "metadata": {},
   "source": [
    "# Modeling the Affinity of Customers"
   ]
  },
  {
   "cell_type": "markdown",
   "id": "896306d6",
   "metadata": {},
   "source": [
    "## Import libraries"
   ]
  },
  {
   "cell_type": "code",
   "execution_count": 133,
   "id": "39c4af3d",
   "metadata": {},
   "outputs": [],
   "source": [
    "# Basic libraries\n",
    "import pandas as pd\n",
    "import numpy as np\n",
    "from scipy import stats\n",
    "import matplotlib.pyplot as plt\n",
    "import seaborn as sns\n",
    "%matplotlib inline"
   ]
  },
  {
   "cell_type": "code",
   "execution_count": null,
   "id": "d242781b",
   "metadata": {},
   "outputs": [],
   "source": [
    "# Scikit-learn\n",
    "\n",
    "# Pipeline\n",
    "from sklearn.pipeline import Pipeline\n",
    "from sklearn.pipeline import make_pipeline\n",
    "\n",
    "# Encoders\n",
    "from sklearn.preprocessing import OneHotEncoder\n",
    "from sklearn.preprocessing import OrdinalEncoder\n",
    "from sklearn.preprocessing import LabelEncoder\n",
    "from category_encoders import TargetEncoder\n",
    "\n",
    "# Scalers\n",
    "from sklearn.preprocessing import MinMaxScaler\n",
    "\n",
    "# ColumnTransformer\n",
    "from sklearn.compose import ColumnTransformer\n",
    "from sklearn.preprocessing import FunctionTransformer\n",
    "\n",
    "# Train/test split\n",
    "from sklearn.model_selection import train_test_split\n",
    "\n",
    "# Oversampling SMOTE\n",
    "from imblearn.over_sampling import SMOTE\n",
    "\n",
    "# Metrics\n",
    "from sklearn.metrics import make_scorer\n",
    "from sklearn.metrics import accuracy_score, precision_score, recall_score, f1_score\n",
    "from sklearn.metrics import precision_recall_curve\n",
    "\n",
    "# Models\n",
    "from sklearn.linear_model import LogisticRegression\n",
    "from sklearn.ensemble import RandomForestClassifier\n",
    "from sklearn.svm import SVC\n",
    "from sklearn.linear_model import SGDClassifier\n",
    "\n",
    "# Cross validation\n",
    "from sklearn.model_selection import cross_val_score\n",
    "from sklearn.model_selection import cross_val_predict\n",
    "\n",
    "# Classification report\n",
    "from sklearn.metrics import classification_report\n",
    "\n",
    "# Model tuning\n",
    "from sklearn.model_selection import GridSearchCV\n",
    "from sklearn.model_selection import RandomizedSearchCV\n",
    "from sklearn.inspection import permutation_importance"
   ]
  },
  {
   "cell_type": "code",
   "execution_count": 72,
   "id": "96ea3cfb",
   "metadata": {},
   "outputs": [],
   "source": [
    "import warnings\n",
    "warnings.filterwarnings(\"ignore\")"
   ]
  },
  {
   "cell_type": "markdown",
   "id": "1171d37a",
   "metadata": {},
   "source": [
    "## Exploratory Data Analysis"
   ]
  },
  {
   "cell_type": "code",
   "execution_count": 4,
   "id": "c7e095fa",
   "metadata": {},
   "outputs": [],
   "source": [
    "# Import csv files as pandas dataframe\n",
    "customer = pd.read_csv(\"data/rest.csv\", sep = \";\")\n",
    "age_and_sex = pd.read_csv(\"data/alter_geschlecht.csv\")\n",
    "interest = pd.read_csv(\"data/interesse.csv\")"
   ]
  },
  {
   "cell_type": "code",
   "execution_count": 5,
   "id": "0bcc5bc1",
   "metadata": {},
   "outputs": [
    {
     "data": {
      "text/html": [
       "<div>\n",
       "<style scoped>\n",
       "    .dataframe tbody tr th:only-of-type {\n",
       "        vertical-align: middle;\n",
       "    }\n",
       "\n",
       "    .dataframe tbody tr th {\n",
       "        vertical-align: top;\n",
       "    }\n",
       "\n",
       "    .dataframe thead th {\n",
       "        text-align: right;\n",
       "    }\n",
       "</style>\n",
       "<table border=\"1\" class=\"dataframe\">\n",
       "  <thead>\n",
       "    <tr style=\"text-align: right;\">\n",
       "      <th></th>\n",
       "      <th>Fahrerlaubnis</th>\n",
       "      <th>Regional_Code</th>\n",
       "      <th>Vorversicherung</th>\n",
       "      <th>Alter_Fzg</th>\n",
       "      <th>Vorschaden</th>\n",
       "      <th>Jahresbeitrag</th>\n",
       "      <th>Vertriebskanal</th>\n",
       "      <th>Kundentreue</th>\n",
       "      <th>id</th>\n",
       "    </tr>\n",
       "  </thead>\n",
       "  <tbody>\n",
       "    <tr>\n",
       "      <th>0</th>\n",
       "      <td>1</td>\n",
       "      <td>15.0</td>\n",
       "      <td>1</td>\n",
       "      <td>1-2 Year</td>\n",
       "      <td>No</td>\n",
       "      <td>2630.0</td>\n",
       "      <td>124.0</td>\n",
       "      <td>74</td>\n",
       "      <td>317635</td>\n",
       "    </tr>\n",
       "    <tr>\n",
       "      <th>1</th>\n",
       "      <td>1</td>\n",
       "      <td>28.0</td>\n",
       "      <td>0</td>\n",
       "      <td>1-2 Year</td>\n",
       "      <td>Yes</td>\n",
       "      <td>2630.0</td>\n",
       "      <td>125.0</td>\n",
       "      <td>213</td>\n",
       "      <td>337993</td>\n",
       "    </tr>\n",
       "    <tr>\n",
       "      <th>2</th>\n",
       "      <td>1</td>\n",
       "      <td>33.0</td>\n",
       "      <td>0</td>\n",
       "      <td>1-2 Year</td>\n",
       "      <td>Yes</td>\n",
       "      <td>27204.0</td>\n",
       "      <td>124.0</td>\n",
       "      <td>114</td>\n",
       "      <td>160325</td>\n",
       "    </tr>\n",
       "    <tr>\n",
       "      <th>3</th>\n",
       "      <td>1</td>\n",
       "      <td>46.0</td>\n",
       "      <td>1</td>\n",
       "      <td>&lt; 1 Year</td>\n",
       "      <td>No</td>\n",
       "      <td>31999.0</td>\n",
       "      <td>152.0</td>\n",
       "      <td>251</td>\n",
       "      <td>141620</td>\n",
       "    </tr>\n",
       "    <tr>\n",
       "      <th>4</th>\n",
       "      <td>1</td>\n",
       "      <td>49.0</td>\n",
       "      <td>0</td>\n",
       "      <td>1-2 Year</td>\n",
       "      <td>Yes</td>\n",
       "      <td>28262.0</td>\n",
       "      <td>26.0</td>\n",
       "      <td>60</td>\n",
       "      <td>75060</td>\n",
       "    </tr>\n",
       "  </tbody>\n",
       "</table>\n",
       "</div>"
      ],
      "text/plain": [
       "   Fahrerlaubnis  Regional_Code  Vorversicherung Alter_Fzg Vorschaden  \\\n",
       "0              1           15.0                1  1-2 Year         No   \n",
       "1              1           28.0                0  1-2 Year        Yes   \n",
       "2              1           33.0                0  1-2 Year        Yes   \n",
       "3              1           46.0                1  < 1 Year         No   \n",
       "4              1           49.0                0  1-2 Year        Yes   \n",
       "\n",
       "   Jahresbeitrag  Vertriebskanal  Kundentreue      id  \n",
       "0         2630.0           124.0           74  317635  \n",
       "1         2630.0           125.0          213  337993  \n",
       "2        27204.0           124.0          114  160325  \n",
       "3        31999.0           152.0          251  141620  \n",
       "4        28262.0            26.0           60   75060  "
      ]
     },
     "execution_count": 5,
     "metadata": {},
     "output_type": "execute_result"
    }
   ],
   "source": [
    "customer.head()"
   ]
  },
  {
   "cell_type": "code",
   "execution_count": 6,
   "id": "d54e5153",
   "metadata": {},
   "outputs": [
    {
     "data": {
      "text/html": [
       "<div>\n",
       "<style scoped>\n",
       "    .dataframe tbody tr th:only-of-type {\n",
       "        vertical-align: middle;\n",
       "    }\n",
       "\n",
       "    .dataframe tbody tr th {\n",
       "        vertical-align: top;\n",
       "    }\n",
       "\n",
       "    .dataframe thead th {\n",
       "        text-align: right;\n",
       "    }\n",
       "</style>\n",
       "<table border=\"1\" class=\"dataframe\">\n",
       "  <thead>\n",
       "    <tr style=\"text-align: right;\">\n",
       "      <th></th>\n",
       "      <th>id</th>\n",
       "      <th>Geschlecht</th>\n",
       "      <th>Alter</th>\n",
       "    </tr>\n",
       "  </thead>\n",
       "  <tbody>\n",
       "    <tr>\n",
       "      <th>0</th>\n",
       "      <td>170727</td>\n",
       "      <td>Male</td>\n",
       "      <td>42</td>\n",
       "    </tr>\n",
       "    <tr>\n",
       "      <th>1</th>\n",
       "      <td>41795</td>\n",
       "      <td>Male</td>\n",
       "      <td>24</td>\n",
       "    </tr>\n",
       "    <tr>\n",
       "      <th>2</th>\n",
       "      <td>369321</td>\n",
       "      <td>Female</td>\n",
       "      <td>30</td>\n",
       "    </tr>\n",
       "    <tr>\n",
       "      <th>3</th>\n",
       "      <td>500463</td>\n",
       "      <td>Female</td>\n",
       "      <td>32</td>\n",
       "    </tr>\n",
       "    <tr>\n",
       "      <th>4</th>\n",
       "      <td>327695</td>\n",
       "      <td>Male</td>\n",
       "      <td>34</td>\n",
       "    </tr>\n",
       "  </tbody>\n",
       "</table>\n",
       "</div>"
      ],
      "text/plain": [
       "       id Geschlecht  Alter\n",
       "0  170727       Male     42\n",
       "1   41795       Male     24\n",
       "2  369321     Female     30\n",
       "3  500463     Female     32\n",
       "4  327695       Male     34"
      ]
     },
     "execution_count": 6,
     "metadata": {},
     "output_type": "execute_result"
    }
   ],
   "source": [
    "age_and_sex.head()"
   ]
  },
  {
   "cell_type": "code",
   "execution_count": 7,
   "id": "b4508870",
   "metadata": {},
   "outputs": [
    {
     "data": {
      "text/html": [
       "<div>\n",
       "<style scoped>\n",
       "    .dataframe tbody tr th:only-of-type {\n",
       "        vertical-align: middle;\n",
       "    }\n",
       "\n",
       "    .dataframe tbody tr th {\n",
       "        vertical-align: top;\n",
       "    }\n",
       "\n",
       "    .dataframe thead th {\n",
       "        text-align: right;\n",
       "    }\n",
       "</style>\n",
       "<table border=\"1\" class=\"dataframe\">\n",
       "  <thead>\n",
       "    <tr style=\"text-align: right;\">\n",
       "      <th></th>\n",
       "      <th>id</th>\n",
       "      <th>Interesse</th>\n",
       "    </tr>\n",
       "  </thead>\n",
       "  <tbody>\n",
       "    <tr>\n",
       "      <th>0</th>\n",
       "      <td>1</td>\n",
       "      <td>1.0</td>\n",
       "    </tr>\n",
       "    <tr>\n",
       "      <th>1</th>\n",
       "      <td>2</td>\n",
       "      <td>0.0</td>\n",
       "    </tr>\n",
       "    <tr>\n",
       "      <th>2</th>\n",
       "      <td>3</td>\n",
       "      <td>1.0</td>\n",
       "    </tr>\n",
       "    <tr>\n",
       "      <th>3</th>\n",
       "      <td>4</td>\n",
       "      <td>0.0</td>\n",
       "    </tr>\n",
       "    <tr>\n",
       "      <th>4</th>\n",
       "      <td>5</td>\n",
       "      <td>0.0</td>\n",
       "    </tr>\n",
       "  </tbody>\n",
       "</table>\n",
       "</div>"
      ],
      "text/plain": [
       "   id  Interesse\n",
       "0   1        1.0\n",
       "1   2        0.0\n",
       "2   3        1.0\n",
       "3   4        0.0\n",
       "4   5        0.0"
      ]
     },
     "execution_count": 7,
     "metadata": {},
     "output_type": "execute_result"
    }
   ],
   "source": [
    "interest.head()"
   ]
  },
  {
   "cell_type": "code",
   "execution_count": 8,
   "id": "e62e8bc6",
   "metadata": {},
   "outputs": [
    {
     "name": "stdout",
     "output_type": "stream",
     "text": [
      "508146\n",
      "508146\n",
      "381109\n"
     ]
    }
   ],
   "source": [
    "# Exploring lenght of the tables\n",
    "print(len(customer))\n",
    "print(len(age_and_sex))\n",
    "print(len(interest))"
   ]
  },
  {
   "cell_type": "markdown",
   "id": "e5947b79",
   "metadata": {},
   "source": [
    "Interest table contains fewer rows than two other tables => In this scenario, we should only keep the rows in the \"customer\" and \"age_and_sex\" dataframes that match the IDs in the \"interest\" dataframe since the \"interest\" dataframe contains the target variable we want to predict. The rest we can keep for predicting after training the model"
   ]
  },
  {
   "cell_type": "code",
   "execution_count": 156,
   "id": "484449ce",
   "metadata": {},
   "outputs": [
    {
     "data": {
      "text/html": [
       "<div>\n",
       "<style scoped>\n",
       "    .dataframe tbody tr th:only-of-type {\n",
       "        vertical-align: middle;\n",
       "    }\n",
       "\n",
       "    .dataframe tbody tr th {\n",
       "        vertical-align: top;\n",
       "    }\n",
       "\n",
       "    .dataframe thead th {\n",
       "        text-align: right;\n",
       "    }\n",
       "</style>\n",
       "<table border=\"1\" class=\"dataframe\">\n",
       "  <thead>\n",
       "    <tr style=\"text-align: right;\">\n",
       "      <th></th>\n",
       "      <th>id</th>\n",
       "      <th>Interesse</th>\n",
       "      <th>Geschlecht</th>\n",
       "      <th>Alter</th>\n",
       "      <th>Fahrerlaubnis</th>\n",
       "      <th>Regional_Code</th>\n",
       "      <th>Vorversicherung</th>\n",
       "      <th>Alter_Fzg</th>\n",
       "      <th>Vorschaden</th>\n",
       "      <th>Jahresbeitrag</th>\n",
       "      <th>Vertriebskanal</th>\n",
       "      <th>Kundentreue</th>\n",
       "    </tr>\n",
       "  </thead>\n",
       "  <tbody>\n",
       "    <tr>\n",
       "      <th>0</th>\n",
       "      <td>1</td>\n",
       "      <td>1.0</td>\n",
       "      <td>Male</td>\n",
       "      <td>44</td>\n",
       "      <td>1</td>\n",
       "      <td>28.0</td>\n",
       "      <td>0</td>\n",
       "      <td>&gt; 2 Years</td>\n",
       "      <td>Yes</td>\n",
       "      <td>40454.0</td>\n",
       "      <td>26.0</td>\n",
       "      <td>217</td>\n",
       "    </tr>\n",
       "    <tr>\n",
       "      <th>1</th>\n",
       "      <td>2</td>\n",
       "      <td>0.0</td>\n",
       "      <td>Male</td>\n",
       "      <td>76</td>\n",
       "      <td>1</td>\n",
       "      <td>3.0</td>\n",
       "      <td>0</td>\n",
       "      <td>1-2 Year</td>\n",
       "      <td>No</td>\n",
       "      <td>33536.0</td>\n",
       "      <td>26.0</td>\n",
       "      <td>183</td>\n",
       "    </tr>\n",
       "    <tr>\n",
       "      <th>2</th>\n",
       "      <td>3</td>\n",
       "      <td>1.0</td>\n",
       "      <td>Male</td>\n",
       "      <td>47</td>\n",
       "      <td>1</td>\n",
       "      <td>28.0</td>\n",
       "      <td>0</td>\n",
       "      <td>&gt; 2 Years</td>\n",
       "      <td>Yes</td>\n",
       "      <td>38294.0</td>\n",
       "      <td>26.0</td>\n",
       "      <td>27</td>\n",
       "    </tr>\n",
       "    <tr>\n",
       "      <th>3</th>\n",
       "      <td>4</td>\n",
       "      <td>0.0</td>\n",
       "      <td>Male</td>\n",
       "      <td>21</td>\n",
       "      <td>1</td>\n",
       "      <td>11.0</td>\n",
       "      <td>1</td>\n",
       "      <td>&lt; 1 Year</td>\n",
       "      <td>No</td>\n",
       "      <td>28619.0</td>\n",
       "      <td>152.0</td>\n",
       "      <td>203</td>\n",
       "    </tr>\n",
       "    <tr>\n",
       "      <th>4</th>\n",
       "      <td>5</td>\n",
       "      <td>0.0</td>\n",
       "      <td>Female</td>\n",
       "      <td>29</td>\n",
       "      <td>1</td>\n",
       "      <td>41.0</td>\n",
       "      <td>1</td>\n",
       "      <td>&lt; 1 Year</td>\n",
       "      <td>No</td>\n",
       "      <td>27496.0</td>\n",
       "      <td>152.0</td>\n",
       "      <td>39</td>\n",
       "    </tr>\n",
       "  </tbody>\n",
       "</table>\n",
       "</div>"
      ],
      "text/plain": [
       "   id  Interesse Geschlecht  Alter  Fahrerlaubnis  Regional_Code  \\\n",
       "0   1        1.0       Male     44              1           28.0   \n",
       "1   2        0.0       Male     76              1            3.0   \n",
       "2   3        1.0       Male     47              1           28.0   \n",
       "3   4        0.0       Male     21              1           11.0   \n",
       "4   5        0.0     Female     29              1           41.0   \n",
       "\n",
       "   Vorversicherung  Alter_Fzg Vorschaden  Jahresbeitrag  Vertriebskanal  \\\n",
       "0                0  > 2 Years        Yes        40454.0            26.0   \n",
       "1                0   1-2 Year         No        33536.0            26.0   \n",
       "2                0  > 2 Years        Yes        38294.0            26.0   \n",
       "3                1   < 1 Year         No        28619.0           152.0   \n",
       "4                1   < 1 Year         No        27496.0           152.0   \n",
       "\n",
       "   Kundentreue  \n",
       "0          217  \n",
       "1          183  \n",
       "2           27  \n",
       "3          203  \n",
       "4           39  "
      ]
     },
     "execution_count": 156,
     "metadata": {},
     "output_type": "execute_result"
    }
   ],
   "source": [
    "# Merge dataframes -> use left join for interest table\n",
    "data = interest.merge(age_and_sex, on='id', how='left')\n",
    "data = data.merge(customer, on='id', how='left')\n",
    "data.head()"
   ]
  },
  {
   "cell_type": "code",
   "execution_count": 11,
   "id": "db899a1f",
   "metadata": {},
   "outputs": [
    {
     "name": "stdout",
     "output_type": "stream",
     "text": [
      "<class 'pandas.core.frame.DataFrame'>\n",
      "Int64Index: 381109 entries, 0 to 381108\n",
      "Data columns (total 12 columns):\n",
      " #   Column           Non-Null Count   Dtype  \n",
      "---  ------           --------------   -----  \n",
      " 0   id               381109 non-null  int64  \n",
      " 1   Interesse        381109 non-null  float64\n",
      " 2   Geschlecht       381109 non-null  object \n",
      " 3   Alter            381109 non-null  int64  \n",
      " 4   Fahrerlaubnis    381109 non-null  int64  \n",
      " 5   Regional_Code    381109 non-null  float64\n",
      " 6   Vorversicherung  381109 non-null  int64  \n",
      " 7   Alter_Fzg        381109 non-null  object \n",
      " 8   Vorschaden       381109 non-null  object \n",
      " 9   Jahresbeitrag    381109 non-null  float64\n",
      " 10  Vertriebskanal   381109 non-null  float64\n",
      " 11  Kundentreue      381109 non-null  int64  \n",
      "dtypes: float64(4), int64(5), object(3)\n",
      "memory usage: 37.8+ MB\n",
      "None\n"
     ]
    }
   ],
   "source": [
    "# Examine the structure of the table\n",
    "print(data.info())"
   ]
  },
  {
   "cell_type": "code",
   "execution_count": 12,
   "id": "9bffa4bc",
   "metadata": {},
   "outputs": [
    {
     "name": "stdout",
     "output_type": "stream",
     "text": [
      "id                 0\n",
      "Interesse          0\n",
      "Geschlecht         0\n",
      "Alter              0\n",
      "Fahrerlaubnis      0\n",
      "Regional_Code      0\n",
      "Vorversicherung    0\n",
      "Alter_Fzg          0\n",
      "Vorschaden         0\n",
      "Jahresbeitrag      0\n",
      "Vertriebskanal     0\n",
      "Kundentreue        0\n",
      "dtype: int64\n"
     ]
    }
   ],
   "source": [
    "# Explore missing values\n",
    "print(data.isna().sum()) # -> no missing values"
   ]
  },
  {
   "cell_type": "code",
   "execution_count": 13,
   "id": "c7aa7bf3",
   "metadata": {},
   "outputs": [
    {
     "name": "stdout",
     "output_type": "stream",
     "text": [
      "0\n"
     ]
    }
   ],
   "source": [
    "# Explore duplicated rows\n",
    "print(data.duplicated().sum()) # -> no duplicates"
   ]
  },
  {
   "cell_type": "code",
   "execution_count": 14,
   "id": "373c607c",
   "metadata": {},
   "outputs": [
    {
     "name": "stdout",
     "output_type": "stream",
     "text": [
      "[1. 0.]\n",
      "['Male' 'Female']\n",
      "[1 0]\n",
      "[0 1]\n",
      "['> 2 Years' '1-2 Year' '< 1 Year']\n",
      "['Yes' 'No']\n"
     ]
    }
   ],
   "source": [
    "# Detecting outliers\n",
    "\n",
    "# Check categorical features on unexpected values\n",
    "print(data[\"Interesse\"].unique())\n",
    "print(data[\"Geschlecht\"].unique())\n",
    "print(data[\"Fahrerlaubnis\"].unique())\n",
    "print(data[\"Vorversicherung\"].unique())\n",
    "print(data[\"Alter_Fzg\"].unique())\n",
    "print(data[\"Vorschaden\"].unique())"
   ]
  },
  {
   "cell_type": "code",
   "execution_count": 15,
   "id": "77bf627d",
   "metadata": {},
   "outputs": [
    {
     "data": {
      "text/plain": [
       "array([ 0.,  1.,  2.,  3.,  4.,  5.,  6.,  7.,  8.,  9., 10., 11., 12.,\n",
       "       13., 14., 15., 16., 17., 18., 19., 20., 21., 22., 23., 24., 25.,\n",
       "       26., 27., 28., 29., 30., 31., 32., 33., 34., 35., 36., 37., 38.,\n",
       "       39., 40., 41., 42., 43., 44., 45., 46., 47., 48., 49., 50., 51.,\n",
       "       52.])"
      ]
     },
     "execution_count": 15,
     "metadata": {},
     "output_type": "execute_result"
    }
   ],
   "source": [
    "# Check values in Regional_Code\n",
    "np.sort(data['Regional_Code'].unique()) # -> 53 regions"
   ]
  },
  {
   "cell_type": "code",
   "execution_count": 16,
   "id": "9f8b2c27",
   "metadata": {},
   "outputs": [
    {
     "data": {
      "text/plain": [
       "array([  1.,   2.,   3.,   4.,   6.,   7.,   8.,   9.,  10.,  11.,  12.,\n",
       "        13.,  14.,  15.,  16.,  17.,  18.,  19.,  20.,  21.,  22.,  23.,\n",
       "        24.,  25.,  26.,  27.,  28.,  29.,  30.,  31.,  32.,  33.,  34.,\n",
       "        35.,  36.,  37.,  38.,  39.,  40.,  41.,  42.,  43.,  44.,  45.,\n",
       "        46.,  47.,  48.,  49.,  50.,  51.,  52.,  53.,  54.,  55.,  56.,\n",
       "        57.,  58.,  59.,  60.,  61.,  62.,  63.,  64.,  65.,  66.,  67.,\n",
       "        68.,  69.,  70.,  71.,  73.,  74.,  75.,  76.,  78.,  79.,  80.,\n",
       "        81.,  82.,  83.,  84.,  86.,  87.,  88.,  89.,  90.,  91.,  92.,\n",
       "        93.,  94.,  95.,  96.,  97.,  98.,  99., 100., 101., 102., 103.,\n",
       "       104., 105., 106., 107., 108., 109., 110., 111., 112., 113., 114.,\n",
       "       115., 116., 117., 118., 119., 120., 121., 122., 123., 124., 125.,\n",
       "       126., 127., 128., 129., 130., 131., 132., 133., 134., 135., 136.,\n",
       "       137., 138., 139., 140., 143., 144., 145., 146., 147., 148., 149.,\n",
       "       150., 151., 152., 153., 154., 155., 156., 157., 158., 159., 160.,\n",
       "       163.])"
      ]
     },
     "execution_count": 16,
     "metadata": {},
     "output_type": "execute_result"
    }
   ],
   "source": [
    "# Check values in Vertriebskanal\n",
    "np.sort(data['Vertriebskanal'].unique()) # -> 163 channels"
   ]
  },
  {
   "cell_type": "code",
   "execution_count": 17,
   "id": "836017a1",
   "metadata": {},
   "outputs": [
    {
     "data": {
      "image/png": "[encoded data removed]",
      "text/plain": [
       "<Figure size 1200x400 with 2 Axes>"
      ]
     },
     "metadata": {},
     "output_type": "display_data"
    }
   ],
   "source": [
    "# Check Regional_Code and Vertriebskanal distribution\n",
    "fig = plt.figure(figsize=(12,4))\n",
    "\n",
    "plt.subplot(1, 2, 1)\n",
    "plt.hist(data['Regional_Code'], bins=20, rwidth=0.8)\n",
    "plt.xlabel('Regional_Code')\n",
    "plt.ylabel('Häufigkeit')\n",
    "\n",
    "plt.subplot(1, 2, 2)\n",
    "plt.hist(data['Vertriebskanal'], bins=30, rwidth=0.8)\n",
    "plt.xlabel('Vertriebskanal')\n",
    "plt.ylabel('Häufigkeit')\n",
    "\n",
    "plt.show()"
   ]
  },
  {
   "cell_type": "code",
   "execution_count": 80,
   "id": "9e49ad7d",
   "metadata": {},
   "outputs": [
    {
     "data": {
      "image/png": "[encoded data removed]",
      "text/plain": [
       "<Figure size 1900x300 with 3 Axes>"
      ]
     },
     "metadata": {},
     "output_type": "display_data"
    }
   ],
   "source": [
    "# Check numerical features\n",
    "\n",
    "fig = plt.figure(figsize=(19,3))\n",
    "\n",
    "plt.subplot(1, 3, 1)\n",
    "plt.hist(data['Alter'], bins=20, rwidth=0.8)\n",
    "plt.xlabel('Alter')\n",
    "plt.ylabel('Häufigkeit')\n",
    "\n",
    "plt.subplot(1, 3, 2)\n",
    "plt.hist(data['Jahresbeitrag'], bins=100, rwidth=0.8)\n",
    "plt.xlabel('Jährlicher Versicherungsbeitrag')\n",
    "plt.ylabel('Häufigkeit')\n",
    "\n",
    "plt.subplot(1, 3, 3)\n",
    "plt.hist(data['Kundentreue'], bins=20, rwidth=0.8)\n",
    "plt.xlabel('Kundentreue (Tage)')\n",
    "plt.ylabel('Häufigkeit')\n",
    "plt.show()"
   ]
  },
  {
   "cell_type": "code",
   "execution_count": 81,
   "id": "40b27ce8",
   "metadata": {},
   "outputs": [
    {
     "data": {
      "image/png": "[encoded data removed]",
      "text/plain": [
       "<Figure size 640x480 with 1 Axes>"
      ]
     },
     "metadata": {},
     "output_type": "display_data"
    }
   ],
   "source": [
    "# Plot boxplot of Jahresbeitrag column\n",
    "plt.boxplot(data['Jahresbeitrag'])\n",
    "plt.xlabel('Jahresbeitrag')\n",
    "plt.ylabel('Werte')\n",
    "plt.show()"
   ]
  },
  {
   "cell_type": "markdown",
   "id": "75e59001",
   "metadata": {},
   "source": [
    "There are clearly outliers in Jahresbeitrag column. We can further check it with IQR"
   ]
  },
  {
   "cell_type": "code",
   "execution_count": 157,
   "id": "7c8c077d",
   "metadata": {},
   "outputs": [],
   "source": [
    "# Calculate the quartiles\n",
    "Q1 = data['Jahresbeitrag'].quantile(0.25)\n",
    "Q3 = data['Jahresbeitrag'].quantile(0.75)\n",
    "\n",
    "# Calculate the IQR\n",
    "IQR = Q3 - Q1\n",
    "\n",
    "# Calculate the lower and upper bounds for outliers\n",
    "lower_bound = Q1 - 1.5 * IQR\n",
    "upper_bound = Q3 + 1.5 * IQR\n",
    "\n",
    "# Detect outliers\n",
    "outliers = data[(data['Jahresbeitrag'] < lower_bound) | (data['Jahresbeitrag'] > upper_bound)]"
   ]
  },
  {
   "cell_type": "code",
   "execution_count": 158,
   "id": "b0cb0e21",
   "metadata": {},
   "outputs": [
    {
     "name": "stdout",
     "output_type": "stream",
     "text": [
      "Percentage of outliers: 2.71%\n"
     ]
    }
   ],
   "source": [
    "num_outliers = len(outliers)\n",
    "num_non_outliers = len(data) - num_outliers\n",
    "ratio = (num_outliers / len(data)) * 100\n",
    "print(\"Percentage of outliers: {:.2f}%\".format(ratio))"
   ]
  },
  {
   "cell_type": "markdown",
   "id": "ab73b470",
   "metadata": {},
   "source": [
    "There are different approaches for dealing with outliers. For now I would just remove outliers. Normally, it is only recommended if the outliers are due to measurement error or other issues and not to actual differences in the data. Since I don't know the nature of outlier and their persentage in the whode data is not so big, I will remove them"
   ]
  },
  {
   "cell_type": "code",
   "execution_count": 159,
   "id": "2b76d7eb",
   "metadata": {},
   "outputs": [],
   "source": [
    "# Remove outliers from the main dataframe\n",
    "data = data[~data['Jahresbeitrag'].isin(outliers['Jahresbeitrag'])]"
   ]
  },
  {
   "cell_type": "code",
   "execution_count": 12,
   "id": "17621888",
   "metadata": {},
   "outputs": [
    {
     "data": {
      "image/png": "[encoded data removed]",
      "text/plain": [
       "<Figure size 640x480 with 1 Axes>"
      ]
     },
     "metadata": {},
     "output_type": "display_data"
    }
   ],
   "source": [
    "# Check values in Jahresbeitrag after removing outliers\n",
    "plt.hist(data['Jahresbeitrag'], bins=50, rwidth=0.8)\n",
    "plt.xlabel('Jahresbeitrag')\n",
    "plt.ylabel('Häufigkeit')\n",
    "plt.show()"
   ]
  },
  {
   "cell_type": "markdown",
   "id": "86e729ba",
   "metadata": {},
   "source": [
    "The data is still not normally distributed. The peak at low values may suggest that the huge proportion of customers has not very expensive annual premium. It might be useful to split the data into two groups based on the high peak at low values and the lower right-skewed distribution at around 30000"
   ]
  },
  {
   "cell_type": "markdown",
   "id": "586d1842",
   "metadata": {},
   "source": [
    "Conclusions:\n",
    "We have 7 categoracal variables: Geschlecht, Fahrerlaubnis, Regional_Code, Vorversicherung, Alter_Fzg, Vorschaden and Vertriebskanal. Some of them need to be encoded:\n",
    "* Geschlecht -> one-hot-encoding since they don't have ordinal structure\n",
    "* Alter_Fzg -> ordinal encoder since they have hierarchy (new-middle-old)\n",
    "* Vorschaden -> label encoder that put 1 if there are previous damages and 0 if not\n",
    "* Regional_Code and Vertriebskanal -> I cannot use one-hot encoder because it will create too many featurea. Also I cannot use LabelEncoder since some algorithms are sensitive to the ordering of the categories and may assign a higher weight to categories with larger numerical values -> use target encoding\n",
    "\n",
    "Our numerical values are: Alter, Jahresbeitrag and Kundentreue.\n",
    "\n",
    "* Jahresbeitrag -> has two peaks -> discretize based on these peaks (low and high annual premium)\n",
    "* Alter -> it may make sense to discretize Alter column into groups according to car accident statistics (https://www.gdv.de/gdv/themen/mobilitaet/so-wirkt-sich-das-alter-auf-den-kfz-versicherungsbeitrag-aus-12464)\n",
    "* Kundentreue -> MinMax Scaling"
   ]
  },
  {
   "cell_type": "markdown",
   "id": "d5d221be",
   "metadata": {},
   "source": [
    "## Data Preprocessing"
   ]
  },
  {
   "cell_type": "markdown",
   "id": "0f0726d2",
   "metadata": {},
   "source": [
    "### Feature Engineering and Encoding"
   ]
  },
  {
   "cell_type": "code",
   "execution_count": null,
   "id": "cf19896d",
   "metadata": {},
   "outputs": [],
   "source": [
    "# Drop the column id since we don't need it anymore\n",
    "data.drop(columns = [\"id\"], inplace = True)"
   ]
  },
  {
   "cell_type": "code",
   "execution_count": 160,
   "id": "45b2e039",
   "metadata": {},
   "outputs": [],
   "source": [
    "# Discretize Jahresbeitrag column\n",
    "\n",
    "# Threshold value to split the column into two groups\n",
    "threshold = 7000\n",
    "\n",
    "# Create a new column to store the group labels\n",
    "data['Jahresbeitrag_bin'] = \"high\"\n",
    "data.loc[data['Jahresbeitrag'] < threshold, 'Jahresbeitrag_bin'] = \"low\"\n",
    "\n",
    "# One-hot encoding of Jahresbeitrag_bin column\n",
    "# Define the mapping from original categorical values to encoded values\n",
    "ordinal_mapping = {'low': 0, 'high': 1}\n",
    "\n",
    "# Use the map function to perform the encoding\n",
    "data['Jahresbeitrag_bin_enc'] = data['Jahresbeitrag_bin'].map(ordinal_mapping)\n",
    "\n",
    "# Drop the columns which have been encoded\n",
    "data.drop(columns = [\"Jahresbeitrag_bin\"], inplace = True)\n",
    "data.drop(columns = [\"Jahresbeitrag\"], inplace = True)"
   ]
  },
  {
   "cell_type": "code",
   "execution_count": 161,
   "id": "7cf4e8c5",
   "metadata": {},
   "outputs": [],
   "source": [
    "# Discretize Alter column\n",
    "bins = [0, 30, 50, 65, 75, 100]\n",
    "bin_labels = ['<30', '30-50', '50-65', '65-75', '>75']\n",
    "data['Alter_binned'] = pd.cut(data['Alter'], bins=bins, labels=bin_labels, right=False)\n",
    "\n",
    "# One-hot encode the Alter_binned column\n",
    "data = pd.get_dummies(data, columns=['Alter_binned'])\n",
    "\n",
    "# Drop Alter column\n",
    "data.drop(columns = [\"Alter\"], inplace = True)"
   ]
  },
  {
   "cell_type": "code",
   "execution_count": 163,
   "id": "34827d82",
   "metadata": {},
   "outputs": [],
   "source": [
    "# Alter_Fzg\n",
    "\n",
    "# Instantiate the OrdinalEncoder\n",
    "ordinal_encoder = OrdinalEncoder()\n",
    "\n",
    "# Define the mapping for each category in the \"Alter_Fzg\" column\n",
    "ordinal_mapping = {\"< 1 Year\": 0, \"1-2 Year\": 1, \"> 2 Years\": 2}\n",
    "\n",
    "# Creating an array that contains the categories of the \"Alter_Fzg\" column\n",
    "Alter_Fzg_array = data['Alter_Fzg'].map(lambda x: ordinal_mapping[x]).values.reshape(-1, 1)\n",
    "\n",
    "# Fit and transform the Alter_Fzg_array to a numerical representation\n",
    "Alter_Fzg_encoded = ordinal_encoder.fit_transform(Alter_Fzg_array)\n",
    "\n",
    "# Adding the encoded \"Alter_Fzg\" column to the original dataframe\n",
    "data['Alter_Fzg_enc'] = Alter_Fzg_encoded\n",
    "\n",
    "# Drop the column \"Alter_Fzg\" which has been encoded\n",
    "data.drop(columns = [\"Alter_Fzg\"], inplace = True)"
   ]
  },
  {
   "cell_type": "code",
   "execution_count": 164,
   "id": "00adeb3a",
   "metadata": {},
   "outputs": [],
   "source": [
    "# Geschlecht\n",
    "\n",
    "# Instantiate the OneHotEncoder\n",
    "ohe_binary = OneHotEncoder(sparse = False, drop=\"if_binary\") \n",
    "\n",
    "# Fit encoder\n",
    "ohe_binary.fit(data[['Geschlecht']]) \n",
    "\n",
    "# Transform the current \"Geschlecht\" column\n",
    "data[ohe_binary.get_feature_names_out()] = ohe_binary.transform(data[['Geschlecht']])\n",
    "\n",
    "# Drop the column \"Geschlecht\" which has been encoded\n",
    "data.drop(columns = [\"Geschlecht\"], inplace = True)"
   ]
  },
  {
   "cell_type": "code",
   "execution_count": 165,
   "id": "587c6b3f",
   "metadata": {},
   "outputs": [
    {
     "data": {
      "text/html": [
       "<div>\n",
       "<style scoped>\n",
       "    .dataframe tbody tr th:only-of-type {\n",
       "        vertical-align: middle;\n",
       "    }\n",
       "\n",
       "    .dataframe tbody tr th {\n",
       "        vertical-align: top;\n",
       "    }\n",
       "\n",
       "    .dataframe thead th {\n",
       "        text-align: right;\n",
       "    }\n",
       "</style>\n",
       "<table border=\"1\" class=\"dataframe\">\n",
       "  <thead>\n",
       "    <tr style=\"text-align: right;\">\n",
       "      <th></th>\n",
       "      <th>id</th>\n",
       "      <th>Interesse</th>\n",
       "      <th>Fahrerlaubnis</th>\n",
       "      <th>Regional_Code</th>\n",
       "      <th>Vorversicherung</th>\n",
       "      <th>Vorschaden</th>\n",
       "      <th>Vertriebskanal</th>\n",
       "      <th>Kundentreue</th>\n",
       "      <th>Jahresbeitrag_bin_enc</th>\n",
       "      <th>Alter_binned_&lt;30</th>\n",
       "      <th>Alter_binned_30-50</th>\n",
       "      <th>Alter_binned_50-65</th>\n",
       "      <th>Alter_binned_65-75</th>\n",
       "      <th>Alter_binned_&gt;75</th>\n",
       "      <th>Alter_Fzg_enc</th>\n",
       "      <th>Geschlecht_Male</th>\n",
       "    </tr>\n",
       "  </thead>\n",
       "  <tbody>\n",
       "    <tr>\n",
       "      <th>0</th>\n",
       "      <td>1</td>\n",
       "      <td>1.0</td>\n",
       "      <td>1</td>\n",
       "      <td>28.0</td>\n",
       "      <td>0</td>\n",
       "      <td>1</td>\n",
       "      <td>26.0</td>\n",
       "      <td>217</td>\n",
       "      <td>1</td>\n",
       "      <td>0</td>\n",
       "      <td>1</td>\n",
       "      <td>0</td>\n",
       "      <td>0</td>\n",
       "      <td>0</td>\n",
       "      <td>2.0</td>\n",
       "      <td>1.0</td>\n",
       "    </tr>\n",
       "    <tr>\n",
       "      <th>1</th>\n",
       "      <td>2</td>\n",
       "      <td>0.0</td>\n",
       "      <td>1</td>\n",
       "      <td>3.0</td>\n",
       "      <td>0</td>\n",
       "      <td>0</td>\n",
       "      <td>26.0</td>\n",
       "      <td>183</td>\n",
       "      <td>1</td>\n",
       "      <td>0</td>\n",
       "      <td>0</td>\n",
       "      <td>0</td>\n",
       "      <td>0</td>\n",
       "      <td>1</td>\n",
       "      <td>1.0</td>\n",
       "      <td>1.0</td>\n",
       "    </tr>\n",
       "    <tr>\n",
       "      <th>2</th>\n",
       "      <td>3</td>\n",
       "      <td>1.0</td>\n",
       "      <td>1</td>\n",
       "      <td>28.0</td>\n",
       "      <td>0</td>\n",
       "      <td>1</td>\n",
       "      <td>26.0</td>\n",
       "      <td>27</td>\n",
       "      <td>1</td>\n",
       "      <td>0</td>\n",
       "      <td>1</td>\n",
       "      <td>0</td>\n",
       "      <td>0</td>\n",
       "      <td>0</td>\n",
       "      <td>2.0</td>\n",
       "      <td>1.0</td>\n",
       "    </tr>\n",
       "    <tr>\n",
       "      <th>3</th>\n",
       "      <td>4</td>\n",
       "      <td>0.0</td>\n",
       "      <td>1</td>\n",
       "      <td>11.0</td>\n",
       "      <td>1</td>\n",
       "      <td>0</td>\n",
       "      <td>152.0</td>\n",
       "      <td>203</td>\n",
       "      <td>1</td>\n",
       "      <td>1</td>\n",
       "      <td>0</td>\n",
       "      <td>0</td>\n",
       "      <td>0</td>\n",
       "      <td>0</td>\n",
       "      <td>0.0</td>\n",
       "      <td>1.0</td>\n",
       "    </tr>\n",
       "    <tr>\n",
       "      <th>4</th>\n",
       "      <td>5</td>\n",
       "      <td>0.0</td>\n",
       "      <td>1</td>\n",
       "      <td>41.0</td>\n",
       "      <td>1</td>\n",
       "      <td>0</td>\n",
       "      <td>152.0</td>\n",
       "      <td>39</td>\n",
       "      <td>1</td>\n",
       "      <td>1</td>\n",
       "      <td>0</td>\n",
       "      <td>0</td>\n",
       "      <td>0</td>\n",
       "      <td>0</td>\n",
       "      <td>0.0</td>\n",
       "      <td>0.0</td>\n",
       "    </tr>\n",
       "  </tbody>\n",
       "</table>\n",
       "</div>"
      ],
      "text/plain": [
       "   id  Interesse  Fahrerlaubnis  Regional_Code  Vorversicherung  Vorschaden  \\\n",
       "0   1        1.0              1           28.0                0           1   \n",
       "1   2        0.0              1            3.0                0           0   \n",
       "2   3        1.0              1           28.0                0           1   \n",
       "3   4        0.0              1           11.0                1           0   \n",
       "4   5        0.0              1           41.0                1           0   \n",
       "\n",
       "   Vertriebskanal  Kundentreue  Jahresbeitrag_bin_enc  Alter_binned_<30  \\\n",
       "0            26.0          217                      1                 0   \n",
       "1            26.0          183                      1                 0   \n",
       "2            26.0           27                      1                 0   \n",
       "3           152.0          203                      1                 1   \n",
       "4           152.0           39                      1                 1   \n",
       "\n",
       "   Alter_binned_30-50  Alter_binned_50-65  Alter_binned_65-75  \\\n",
       "0                   1                   0                   0   \n",
       "1                   0                   0                   0   \n",
       "2                   1                   0                   0   \n",
       "3                   0                   0                   0   \n",
       "4                   0                   0                   0   \n",
       "\n",
       "   Alter_binned_>75  Alter_Fzg_enc  Geschlecht_Male  \n",
       "0                 0            2.0              1.0  \n",
       "1                 1            1.0              1.0  \n",
       "2                 0            2.0              1.0  \n",
       "3                 0            0.0              1.0  \n",
       "4                 0            0.0              0.0  "
      ]
     },
     "execution_count": 165,
     "metadata": {},
     "output_type": "execute_result"
    }
   ],
   "source": [
    "# Vorschaden\n",
    "\n",
    "# Initialize the LabelEncoder\n",
    "le = LabelEncoder()\n",
    "\n",
    "# Fit and transform the Vorschaden column\n",
    "data['Vorschaden'] = le.fit_transform(data['Vorschaden'].values)\n",
    "\n",
    "data.head()"
   ]
  },
  {
   "cell_type": "markdown",
   "id": "52ae2e9c",
   "metadata": {},
   "source": [
    "### Target Classes Balancing"
   ]
  },
  {
   "cell_type": "code",
   "execution_count": 166,
   "id": "2f64f90f",
   "metadata": {},
   "outputs": [
    {
     "name": "stdout",
     "output_type": "stream",
     "text": [
      "Class distribution:\n",
      "0.0    325634\n",
      "1.0     45155\n",
      "Name: Interesse, dtype: int64\n"
     ]
    }
   ],
   "source": [
    "target_count = data['Interesse'].value_counts()\n",
    "print(\"Class distribution:\")\n",
    "print(target_count)"
   ]
  },
  {
   "cell_type": "code",
   "execution_count": 173,
   "id": "17505ebc",
   "metadata": {},
   "outputs": [
    {
     "name": "stdout",
     "output_type": "stream",
     "text": [
      "Ratio of classes: 13.87\n"
     ]
    }
   ],
   "source": [
    "# Calculate the ratio of each class\n",
    "class_ratio = target_count[1] / target_count[0]\n",
    "print(\"Ratio of classes:\", round(class_ratio*100,2))"
   ]
  },
  {
   "cell_type": "code",
   "execution_count": 168,
   "id": "7eab07ad",
   "metadata": {},
   "outputs": [
    {
     "data": {
      "text/plain": [
       "((259552, 15), (111237, 15), (259552,), (111237,))"
      ]
     },
     "execution_count": 168,
     "metadata": {},
     "output_type": "execute_result"
    }
   ],
   "source": [
    "# Defining the features and the target\n",
    "X = data.drop(columns='Interesse')\n",
    "y = data['Interesse']\n",
    "\n",
    "# Train-Test split\n",
    "X_train, X_test, y_train, y_test = train_test_split(X, y, test_size = 0.30)\n",
    "X_train.shape, X_test.shape, y_train.shape, y_test.shape"
   ]
  },
  {
   "cell_type": "code",
   "execution_count": 169,
   "id": "05c6461f",
   "metadata": {},
   "outputs": [],
   "source": [
    "# Create an instance of the SMOTE class\n",
    "smote = SMOTE(sampling_strategy='minority', random_state=42)\n",
    "\n",
    "# Fit the SMOTE model to the training data\n",
    "X_train, y_train = smote.fit_resample(X_train, y_train)\n",
    "\n",
    "# Fit the SMOTE model to the test data\n",
    "X_test, y_test = smote.fit_resample(X_test, y_test)"
   ]
  },
  {
   "cell_type": "markdown",
   "id": "93ad5824",
   "metadata": {},
   "source": [
    "Important note:\n",
    "It is important to fit the scaler (especially target scaler!) only on the train dataset and then transform both the train and test datasets to prevent data leakage.\n",
    "\n",
    "By fitting the scaler on the training dataset only, we are not using any information from the test set to transform the train set, so we are not leaking any information from the future into the present.\n",
    "\n",
    "It is especially important for target encoding because it uses the information about target class (replaces categorical variables with their mean target value), which can lead to data leakage if the target encoding is done on the entire dataset, including the test data."
   ]
  },
  {
   "cell_type": "code",
   "execution_count": 171,
   "id": "0251e227",
   "metadata": {},
   "outputs": [],
   "source": [
    "# Create the target encoder object\n",
    "encoder = TargetEncoder(cols=['Regional_Code', 'Vertriebskanal'])\n",
    "\n",
    "# Fit the encoder on the training data\n",
    "encoder.fit(X_train, y_train)\n",
    "\n",
    "# Transform the data\n",
    "X_train = encoder.transform(X_train)\n",
    "X_test = encoder.transform(X_test)"
   ]
  },
  {
   "cell_type": "markdown",
   "id": "a1c9b91a",
   "metadata": {},
   "source": [
    "### Scaling"
   ]
  },
  {
   "cell_type": "code",
   "execution_count": 113,
   "id": "c1ccba8e",
   "metadata": {},
   "outputs": [
    {
     "data": {
      "text/html": [
       "<style>#sk-container-id-5 {color: black;background-color: white;}#sk-container-id-5 pre{padding: 0;}#sk-container-id-5 div.sk-toggleable {background-color: white;}#sk-container-id-5 label.sk-toggleable__label {cursor: pointer;display: block;width: 100%;margin-bottom: 0;padding: 0.3em;box-sizing: border-box;text-align: center;}#sk-container-id-5 label.sk-toggleable__label-arrow:before {content: \"▸\";float: left;margin-right: 0.25em;color: #696969;}#sk-container-id-5 label.sk-toggleable__label-arrow:hover:before {color: black;}#sk-container-id-5 div.sk-estimator:hover label.sk-toggleable__label-arrow:before {color: black;}#sk-container-id-5 div.sk-toggleable__content {max-height: 0;max-width: 0;overflow: hidden;text-align: left;background-color: #f0f8ff;}#sk-container-id-5 div.sk-toggleable__content pre {margin: 0.2em;color: black;border-radius: 0.25em;background-color: #f0f8ff;}#sk-container-id-5 input.sk-toggleable__control:checked~div.sk-toggleable__content {max-height: 200px;max-width: 100%;overflow: auto;}#sk-container-id-5 input.sk-toggleable__control:checked~label.sk-toggleable__label-arrow:before {content: \"▾\";}#sk-container-id-5 div.sk-estimator input.sk-toggleable__control:checked~label.sk-toggleable__label {background-color: #d4ebff;}#sk-container-id-5 div.sk-label input.sk-toggleable__control:checked~label.sk-toggleable__label {background-color: #d4ebff;}#sk-container-id-5 input.sk-hidden--visually {border: 0;clip: rect(1px 1px 1px 1px);clip: rect(1px, 1px, 1px, 1px);height: 1px;margin: -1px;overflow: hidden;padding: 0;position: absolute;width: 1px;}#sk-container-id-5 div.sk-estimator {font-family: monospace;background-color: #f0f8ff;border: 1px dotted black;border-radius: 0.25em;box-sizing: border-box;margin-bottom: 0.5em;}#sk-container-id-5 div.sk-estimator:hover {background-color: #d4ebff;}#sk-container-id-5 div.sk-parallel-item::after {content: \"\";width: 100%;border-bottom: 1px solid gray;flex-grow: 1;}#sk-container-id-5 div.sk-label:hover label.sk-toggleable__label {background-color: #d4ebff;}#sk-container-id-5 div.sk-serial::before {content: \"\";position: absolute;border-left: 1px solid gray;box-sizing: border-box;top: 0;bottom: 0;left: 50%;z-index: 0;}#sk-container-id-5 div.sk-serial {display: flex;flex-direction: column;align-items: center;background-color: white;padding-right: 0.2em;padding-left: 0.2em;position: relative;}#sk-container-id-5 div.sk-item {position: relative;z-index: 1;}#sk-container-id-5 div.sk-parallel {display: flex;align-items: stretch;justify-content: center;background-color: white;position: relative;}#sk-container-id-5 div.sk-item::before, #sk-container-id-5 div.sk-parallel-item::before {content: \"\";position: absolute;border-left: 1px solid gray;box-sizing: border-box;top: 0;bottom: 0;left: 50%;z-index: -1;}#sk-container-id-5 div.sk-parallel-item {display: flex;flex-direction: column;z-index: 1;position: relative;background-color: white;}#sk-container-id-5 div.sk-parallel-item:first-child::after {align-self: flex-end;width: 50%;}#sk-container-id-5 div.sk-parallel-item:last-child::after {align-self: flex-start;width: 50%;}#sk-container-id-5 div.sk-parallel-item:only-child::after {width: 0;}#sk-container-id-5 div.sk-dashed-wrapped {border: 1px dashed gray;margin: 0 0.4em 0.5em 0.4em;box-sizing: border-box;padding-bottom: 0.4em;background-color: white;}#sk-container-id-5 div.sk-label label {font-family: monospace;font-weight: bold;display: inline-block;line-height: 1.2em;}#sk-container-id-5 div.sk-label-container {text-align: center;}#sk-container-id-5 div.sk-container {/* jupyter's `normalize.less` sets `[hidden] { display: none; }` but bootstrap.min.css set `[hidden] { display: none !important; }` so we also need the `!important` here to be able to override the default hidden behavior on the sphinx rendered scikit-learn.org. See: https://github.com/scikit-learn/scikit-learn/issues/21755 */display: inline-block !important;position: relative;}#sk-container-id-5 div.sk-text-repr-fallback {display: none;}</style><div id=\"sk-container-id-5\" class=\"sk-top-container\"><div class=\"sk-text-repr-fallback\"><pre>ColumnTransformer(remainder=&#x27;passthrough&#x27;,\n",
       "                  transformers=[(&#x27;num_transformer&#x27;,\n",
       "                                 Pipeline(steps=[(&#x27;minmax_scaler&#x27;,\n",
       "                                                  MinMaxScaler())]),\n",
       "                                 [&#x27;Kundentreue&#x27;])])</pre><b>In a Jupyter environment, please rerun this cell to show the HTML representation or trust the notebook. <br />On GitHub, the HTML representation is unable to render, please try loading this page with nbviewer.org.</b></div><div class=\"sk-container\" hidden><div class=\"sk-item sk-dashed-wrapped\"><div class=\"sk-label-container\"><div class=\"sk-label sk-toggleable\"><input class=\"sk-toggleable__control sk-hidden--visually\" id=\"sk-estimator-id-25\" type=\"checkbox\" ><label for=\"sk-estimator-id-25\" class=\"sk-toggleable__label sk-toggleable__label-arrow\">ColumnTransformer</label><div class=\"sk-toggleable__content\"><pre>ColumnTransformer(remainder=&#x27;passthrough&#x27;,\n",
       "                  transformers=[(&#x27;num_transformer&#x27;,\n",
       "                                 Pipeline(steps=[(&#x27;minmax_scaler&#x27;,\n",
       "                                                  MinMaxScaler())]),\n",
       "                                 [&#x27;Kundentreue&#x27;])])</pre></div></div></div><div class=\"sk-parallel\"><div class=\"sk-parallel-item\"><div class=\"sk-item\"><div class=\"sk-label-container\"><div class=\"sk-label sk-toggleable\"><input class=\"sk-toggleable__control sk-hidden--visually\" id=\"sk-estimator-id-26\" type=\"checkbox\" ><label for=\"sk-estimator-id-26\" class=\"sk-toggleable__label sk-toggleable__label-arrow\">num_transformer</label><div class=\"sk-toggleable__content\"><pre>[&#x27;Kundentreue&#x27;]</pre></div></div></div><div class=\"sk-serial\"><div class=\"sk-item\"><div class=\"sk-serial\"><div class=\"sk-item\"><div class=\"sk-estimator sk-toggleable\"><input class=\"sk-toggleable__control sk-hidden--visually\" id=\"sk-estimator-id-27\" type=\"checkbox\" ><label for=\"sk-estimator-id-27\" class=\"sk-toggleable__label sk-toggleable__label-arrow\">MinMaxScaler</label><div class=\"sk-toggleable__content\"><pre>MinMaxScaler()</pre></div></div></div></div></div></div></div></div><div class=\"sk-parallel-item\"><div class=\"sk-item\"><div class=\"sk-label-container\"><div class=\"sk-label sk-toggleable\"><input class=\"sk-toggleable__control sk-hidden--visually\" id=\"sk-estimator-id-28\" type=\"checkbox\" ><label for=\"sk-estimator-id-28\" class=\"sk-toggleable__label sk-toggleable__label-arrow\">remainder</label><div class=\"sk-toggleable__content\"><pre></pre></div></div></div><div class=\"sk-serial\"><div class=\"sk-item\"><div class=\"sk-estimator sk-toggleable\"><input class=\"sk-toggleable__control sk-hidden--visually\" id=\"sk-estimator-id-29\" type=\"checkbox\" ><label for=\"sk-estimator-id-29\" class=\"sk-toggleable__label sk-toggleable__label-arrow\">passthrough</label><div class=\"sk-toggleable__content\"><pre>passthrough</pre></div></div></div></div></div></div></div></div></div></div>"
      ],
      "text/plain": [
       "ColumnTransformer(remainder='passthrough',\n",
       "                  transformers=[('num_transformer',\n",
       "                                 Pipeline(steps=[('minmax_scaler',\n",
       "                                                  MinMaxScaler())]),\n",
       "                                 ['Kundentreue'])])"
      ]
     },
     "execution_count": 113,
     "metadata": {},
     "output_type": "execute_result"
    }
   ],
   "source": [
    "# Scale numerical values: \n",
    "num_transformer = Pipeline([('minmax_scaler', MinMaxScaler())])\n",
    "\n",
    "# Parallelize transformers\n",
    "preprocessor = ColumnTransformer([\n",
    "    ('num_transformer', num_transformer, ['Kundentreue'])], \n",
    "    remainder='passthrough')\n",
    "\n",
    "preprocessor"
   ]
  },
  {
   "cell_type": "code",
   "execution_count": null,
   "id": "0c5c9022",
   "metadata": {},
   "outputs": [],
   "source": [
    "# Fit-transform X_train and X_test\n",
    "X_train_transformed = preprocessor.fit_transform(X_train,y_train)\n",
    "X_test_transformed = preprocessor.transform(X_test, y_test)"
   ]
  },
  {
   "cell_type": "code",
   "execution_count": null,
   "id": "40c736b5",
   "metadata": {},
   "outputs": [],
   "source": [
    "# Create a dataframe from transformed tables\n",
    "norm_data_train = pd.DataFrame(\n",
    "    X_train_transformed, \n",
    "    columns=preprocessor.get_feature_names_out())\n",
    "\n",
    "norm_data_test = pd.DataFrame(\n",
    "    X_test_transformed, \n",
    "    columns=preprocessor.get_feature_names_out())"
   ]
  },
  {
   "cell_type": "markdown",
   "id": "07e27755",
   "metadata": {},
   "source": [
    "## Preliminary Statistical Analysis"
   ]
  },
  {
   "cell_type": "code",
   "execution_count": null,
   "id": "d2091cbd",
   "metadata": {},
   "outputs": [],
   "source": [
    "# Heatmap of pairwise correlations\n",
    "correlation_matrix = norm_data_train.corr()\n",
    "column_names = correlation_matrix.columns\n",
    "sns.heatmap(correlation_matrix, xticklabels=column_names, yticklabels=column_names,cmap= \"bwr\");"
   ]
  },
  {
   "cell_type": "code",
   "execution_count": 91,
   "id": "347505d3",
   "metadata": {},
   "outputs": [],
   "source": [
    "# Converting the correlation matrix into a DataFrame\n",
    "corr_df = correlation_matrix.stack().reset_index()\n",
    "\n",
    "# Renaming the columns\n",
    "corr_df.columns = ['feature_1','feature_2', 'correlation']\n",
    "\n",
    "# Remove \"self correlations\"\n",
    "no_self_correlation = (corr_df['feature_1'] != corr_df['feature_2'])\n",
    "corr_df = corr_df[no_self_correlation]"
   ]
  },
  {
   "cell_type": "code",
   "execution_count": 92,
   "id": "93dd34f4",
   "metadata": {},
   "outputs": [
    {
     "data": {
      "text/html": [
       "<div>\n",
       "<style scoped>\n",
       "    .dataframe tbody tr th:only-of-type {\n",
       "        vertical-align: middle;\n",
       "    }\n",
       "\n",
       "    .dataframe tbody tr th {\n",
       "        vertical-align: top;\n",
       "    }\n",
       "\n",
       "    .dataframe thead th {\n",
       "        text-align: right;\n",
       "    }\n",
       "</style>\n",
       "<table border=\"1\" class=\"dataframe\">\n",
       "  <thead>\n",
       "    <tr style=\"text-align: right;\">\n",
       "      <th></th>\n",
       "      <th>feature_1</th>\n",
       "      <th>feature_2</th>\n",
       "      <th>correlation</th>\n",
       "      <th>absolute_correlation</th>\n",
       "    </tr>\n",
       "  </thead>\n",
       "  <tbody>\n",
       "    <tr>\n",
       "      <th>82</th>\n",
       "      <td>Alter_binned_&lt;30</td>\n",
       "      <td>Alter_Fzg_enc</td>\n",
       "      <td>-0.831481</td>\n",
       "      <td>0.831481</td>\n",
       "    </tr>\n",
       "    <tr>\n",
       "      <th>173</th>\n",
       "      <td>Alter_Fzg_enc</td>\n",
       "      <td>Alter_binned_&lt;30</td>\n",
       "      <td>-0.831481</td>\n",
       "      <td>0.831481</td>\n",
       "    </tr>\n",
       "    <tr>\n",
       "      <th>44</th>\n",
       "      <td>Vorschaden</td>\n",
       "      <td>Vorversicherung</td>\n",
       "      <td>-0.823819</td>\n",
       "      <td>0.823819</td>\n",
       "    </tr>\n",
       "    <tr>\n",
       "      <th>31</th>\n",
       "      <td>Vorversicherung</td>\n",
       "      <td>Vorschaden</td>\n",
       "      <td>-0.823819</td>\n",
       "      <td>0.823819</td>\n",
       "    </tr>\n",
       "    <tr>\n",
       "      <th>179</th>\n",
       "      <td>Alter_Fzg_enc</td>\n",
       "      <td>Vertriebskanal_enc</td>\n",
       "      <td>0.769153</td>\n",
       "      <td>0.769153</td>\n",
       "    </tr>\n",
       "    <tr>\n",
       "      <th>166</th>\n",
       "      <td>Vertriebskanal_enc</td>\n",
       "      <td>Alter_Fzg_enc</td>\n",
       "      <td>0.769153</td>\n",
       "      <td>0.769153</td>\n",
       "    </tr>\n",
       "    <tr>\n",
       "      <th>81</th>\n",
       "      <td>Alter_binned_&lt;30</td>\n",
       "      <td>Vertriebskanal_enc</td>\n",
       "      <td>-0.731720</td>\n",
       "      <td>0.731720</td>\n",
       "    </tr>\n",
       "    <tr>\n",
       "      <th>159</th>\n",
       "      <td>Vertriebskanal_enc</td>\n",
       "      <td>Alter_binned_&lt;30</td>\n",
       "      <td>-0.731720</td>\n",
       "      <td>0.731720</td>\n",
       "    </tr>\n",
       "    <tr>\n",
       "      <th>89</th>\n",
       "      <td>Alter_binned_30-50</td>\n",
       "      <td>Alter_binned_&lt;30</td>\n",
       "      <td>-0.604029</td>\n",
       "      <td>0.604029</td>\n",
       "    </tr>\n",
       "    <tr>\n",
       "      <th>76</th>\n",
       "      <td>Alter_binned_&lt;30</td>\n",
       "      <td>Alter_binned_30-50</td>\n",
       "      <td>-0.604029</td>\n",
       "      <td>0.604029</td>\n",
       "    </tr>\n",
       "  </tbody>\n",
       "</table>\n",
       "</div>"
      ],
      "text/plain": [
       "              feature_1           feature_2  correlation  absolute_correlation\n",
       "82     Alter_binned_<30       Alter_Fzg_enc    -0.831481              0.831481\n",
       "173       Alter_Fzg_enc    Alter_binned_<30    -0.831481              0.831481\n",
       "44           Vorschaden     Vorversicherung    -0.823819              0.823819\n",
       "31      Vorversicherung          Vorschaden    -0.823819              0.823819\n",
       "179       Alter_Fzg_enc  Vertriebskanal_enc     0.769153              0.769153\n",
       "166  Vertriebskanal_enc       Alter_Fzg_enc     0.769153              0.769153\n",
       "81     Alter_binned_<30  Vertriebskanal_enc    -0.731720              0.731720\n",
       "159  Vertriebskanal_enc    Alter_binned_<30    -0.731720              0.731720\n",
       "89   Alter_binned_30-50    Alter_binned_<30    -0.604029              0.604029\n",
       "76     Alter_binned_<30  Alter_binned_30-50    -0.604029              0.604029"
      ]
     },
     "execution_count": 92,
     "metadata": {},
     "output_type": "execute_result"
    }
   ],
   "source": [
    "# Computing the absolute correlation\n",
    "corr_df['absolute_correlation'] = np.abs(corr_df['correlation'])\n",
    "\n",
    "# Showing the top 5 most correlated pairs of feature\n",
    "corr_df.sort_values(by=\"absolute_correlation\", ascending=False).head(5*2)"
   ]
  },
  {
   "cell_type": "markdown",
   "id": "8098f8cf",
   "metadata": {},
   "source": [
    "## Logistic Regression Modell"
   ]
  },
  {
   "cell_type": "markdown",
   "id": "aae2ad63",
   "metadata": {},
   "source": [
    "Before training the model, we have to choose suitable metrics.\n",
    "\n",
    "Recall is a better choice since we don't want to miss any positive classes (customers that have interest in offer). We want to reduce false negatives (customers who are interested in offer but were recognized as not-interested). \n",
    "\n",
    "We can also use F1 score as a combination of precision and recall"
   ]
  },
  {
   "cell_type": "markdown",
   "id": "ccee3e33",
   "metadata": {},
   "source": [
    "### Pipeline"
   ]
  },
  {
   "cell_type": "code",
   "execution_count": 174,
   "id": "8b8f7455",
   "metadata": {},
   "outputs": [
    {
     "data": {
      "text/html": [
       "<style>#sk-container-id-6 {color: black;background-color: white;}#sk-container-id-6 pre{padding: 0;}#sk-container-id-6 div.sk-toggleable {background-color: white;}#sk-container-id-6 label.sk-toggleable__label {cursor: pointer;display: block;width: 100%;margin-bottom: 0;padding: 0.3em;box-sizing: border-box;text-align: center;}#sk-container-id-6 label.sk-toggleable__label-arrow:before {content: \"▸\";float: left;margin-right: 0.25em;color: #696969;}#sk-container-id-6 label.sk-toggleable__label-arrow:hover:before {color: black;}#sk-container-id-6 div.sk-estimator:hover label.sk-toggleable__label-arrow:before {color: black;}#sk-container-id-6 div.sk-toggleable__content {max-height: 0;max-width: 0;overflow: hidden;text-align: left;background-color: #f0f8ff;}#sk-container-id-6 div.sk-toggleable__content pre {margin: 0.2em;color: black;border-radius: 0.25em;background-color: #f0f8ff;}#sk-container-id-6 input.sk-toggleable__control:checked~div.sk-toggleable__content {max-height: 200px;max-width: 100%;overflow: auto;}#sk-container-id-6 input.sk-toggleable__control:checked~label.sk-toggleable__label-arrow:before {content: \"▾\";}#sk-container-id-6 div.sk-estimator input.sk-toggleable__control:checked~label.sk-toggleable__label {background-color: #d4ebff;}#sk-container-id-6 div.sk-label input.sk-toggleable__control:checked~label.sk-toggleable__label {background-color: #d4ebff;}#sk-container-id-6 input.sk-hidden--visually {border: 0;clip: rect(1px 1px 1px 1px);clip: rect(1px, 1px, 1px, 1px);height: 1px;margin: -1px;overflow: hidden;padding: 0;position: absolute;width: 1px;}#sk-container-id-6 div.sk-estimator {font-family: monospace;background-color: #f0f8ff;border: 1px dotted black;border-radius: 0.25em;box-sizing: border-box;margin-bottom: 0.5em;}#sk-container-id-6 div.sk-estimator:hover {background-color: #d4ebff;}#sk-container-id-6 div.sk-parallel-item::after {content: \"\";width: 100%;border-bottom: 1px solid gray;flex-grow: 1;}#sk-container-id-6 div.sk-label:hover label.sk-toggleable__label {background-color: #d4ebff;}#sk-container-id-6 div.sk-serial::before {content: \"\";position: absolute;border-left: 1px solid gray;box-sizing: border-box;top: 0;bottom: 0;left: 50%;z-index: 0;}#sk-container-id-6 div.sk-serial {display: flex;flex-direction: column;align-items: center;background-color: white;padding-right: 0.2em;padding-left: 0.2em;position: relative;}#sk-container-id-6 div.sk-item {position: relative;z-index: 1;}#sk-container-id-6 div.sk-parallel {display: flex;align-items: stretch;justify-content: center;background-color: white;position: relative;}#sk-container-id-6 div.sk-item::before, #sk-container-id-6 div.sk-parallel-item::before {content: \"\";position: absolute;border-left: 1px solid gray;box-sizing: border-box;top: 0;bottom: 0;left: 50%;z-index: -1;}#sk-container-id-6 div.sk-parallel-item {display: flex;flex-direction: column;z-index: 1;position: relative;background-color: white;}#sk-container-id-6 div.sk-parallel-item:first-child::after {align-self: flex-end;width: 50%;}#sk-container-id-6 div.sk-parallel-item:last-child::after {align-self: flex-start;width: 50%;}#sk-container-id-6 div.sk-parallel-item:only-child::after {width: 0;}#sk-container-id-6 div.sk-dashed-wrapped {border: 1px dashed gray;margin: 0 0.4em 0.5em 0.4em;box-sizing: border-box;padding-bottom: 0.4em;background-color: white;}#sk-container-id-6 div.sk-label label {font-family: monospace;font-weight: bold;display: inline-block;line-height: 1.2em;}#sk-container-id-6 div.sk-label-container {text-align: center;}#sk-container-id-6 div.sk-container {/* jupyter's `normalize.less` sets `[hidden] { display: none; }` but bootstrap.min.css set `[hidden] { display: none !important; }` so we also need the `!important` here to be able to override the default hidden behavior on the sphinx rendered scikit-learn.org. See: https://github.com/scikit-learn/scikit-learn/issues/21755 */display: inline-block !important;position: relative;}#sk-container-id-6 div.sk-text-repr-fallback {display: none;}</style><div id=\"sk-container-id-6\" class=\"sk-top-container\"><div class=\"sk-text-repr-fallback\"><pre>Pipeline(steps=[(&#x27;columntransformer&#x27;,\n",
       "                 ColumnTransformer(remainder=&#x27;passthrough&#x27;,\n",
       "                                   transformers=[(&#x27;num_transformer&#x27;,\n",
       "                                                  Pipeline(steps=[(&#x27;minmax_scaler&#x27;,\n",
       "                                                                   MinMaxScaler())]),\n",
       "                                                  [&#x27;Kundentreue&#x27;])])),\n",
       "                (&#x27;logisticregression&#x27;,\n",
       "                 LogisticRegression(max_iter=1000, solver=&#x27;liblinear&#x27;))])</pre><b>In a Jupyter environment, please rerun this cell to show the HTML representation or trust the notebook. <br />On GitHub, the HTML representation is unable to render, please try loading this page with nbviewer.org.</b></div><div class=\"sk-container\" hidden><div class=\"sk-item sk-dashed-wrapped\"><div class=\"sk-label-container\"><div class=\"sk-label sk-toggleable\"><input class=\"sk-toggleable__control sk-hidden--visually\" id=\"sk-estimator-id-30\" type=\"checkbox\" ><label for=\"sk-estimator-id-30\" class=\"sk-toggleable__label sk-toggleable__label-arrow\">Pipeline</label><div class=\"sk-toggleable__content\"><pre>Pipeline(steps=[(&#x27;columntransformer&#x27;,\n",
       "                 ColumnTransformer(remainder=&#x27;passthrough&#x27;,\n",
       "                                   transformers=[(&#x27;num_transformer&#x27;,\n",
       "                                                  Pipeline(steps=[(&#x27;minmax_scaler&#x27;,\n",
       "                                                                   MinMaxScaler())]),\n",
       "                                                  [&#x27;Kundentreue&#x27;])])),\n",
       "                (&#x27;logisticregression&#x27;,\n",
       "                 LogisticRegression(max_iter=1000, solver=&#x27;liblinear&#x27;))])</pre></div></div></div><div class=\"sk-serial\"><div class=\"sk-item sk-dashed-wrapped\"><div class=\"sk-label-container\"><div class=\"sk-label sk-toggleable\"><input class=\"sk-toggleable__control sk-hidden--visually\" id=\"sk-estimator-id-31\" type=\"checkbox\" ><label for=\"sk-estimator-id-31\" class=\"sk-toggleable__label sk-toggleable__label-arrow\">columntransformer: ColumnTransformer</label><div class=\"sk-toggleable__content\"><pre>ColumnTransformer(remainder=&#x27;passthrough&#x27;,\n",
       "                  transformers=[(&#x27;num_transformer&#x27;,\n",
       "                                 Pipeline(steps=[(&#x27;minmax_scaler&#x27;,\n",
       "                                                  MinMaxScaler())]),\n",
       "                                 [&#x27;Kundentreue&#x27;])])</pre></div></div></div><div class=\"sk-parallel\"><div class=\"sk-parallel-item\"><div class=\"sk-item\"><div class=\"sk-label-container\"><div class=\"sk-label sk-toggleable\"><input class=\"sk-toggleable__control sk-hidden--visually\" id=\"sk-estimator-id-32\" type=\"checkbox\" ><label for=\"sk-estimator-id-32\" class=\"sk-toggleable__label sk-toggleable__label-arrow\">num_transformer</label><div class=\"sk-toggleable__content\"><pre>[&#x27;Kundentreue&#x27;]</pre></div></div></div><div class=\"sk-serial\"><div class=\"sk-item\"><div class=\"sk-serial\"><div class=\"sk-item\"><div class=\"sk-estimator sk-toggleable\"><input class=\"sk-toggleable__control sk-hidden--visually\" id=\"sk-estimator-id-33\" type=\"checkbox\" ><label for=\"sk-estimator-id-33\" class=\"sk-toggleable__label sk-toggleable__label-arrow\">MinMaxScaler</label><div class=\"sk-toggleable__content\"><pre>MinMaxScaler()</pre></div></div></div></div></div></div></div></div><div class=\"sk-parallel-item\"><div class=\"sk-item\"><div class=\"sk-label-container\"><div class=\"sk-label sk-toggleable\"><input class=\"sk-toggleable__control sk-hidden--visually\" id=\"sk-estimator-id-34\" type=\"checkbox\" ><label for=\"sk-estimator-id-34\" class=\"sk-toggleable__label sk-toggleable__label-arrow\">remainder</label><div class=\"sk-toggleable__content\"><pre></pre></div></div></div><div class=\"sk-serial\"><div class=\"sk-item\"><div class=\"sk-estimator sk-toggleable\"><input class=\"sk-toggleable__control sk-hidden--visually\" id=\"sk-estimator-id-35\" type=\"checkbox\" ><label for=\"sk-estimator-id-35\" class=\"sk-toggleable__label sk-toggleable__label-arrow\">passthrough</label><div class=\"sk-toggleable__content\"><pre>passthrough</pre></div></div></div></div></div></div></div></div><div class=\"sk-item\"><div class=\"sk-estimator sk-toggleable\"><input class=\"sk-toggleable__control sk-hidden--visually\" id=\"sk-estimator-id-36\" type=\"checkbox\" ><label for=\"sk-estimator-id-36\" class=\"sk-toggleable__label sk-toggleable__label-arrow\">LogisticRegression</label><div class=\"sk-toggleable__content\"><pre>LogisticRegression(max_iter=1000, solver=&#x27;liblinear&#x27;)</pre></div></div></div></div></div></div></div>"
      ],
      "text/plain": [
       "Pipeline(steps=[('columntransformer',\n",
       "                 ColumnTransformer(remainder='passthrough',\n",
       "                                   transformers=[('num_transformer',\n",
       "                                                  Pipeline(steps=[('minmax_scaler',\n",
       "                                                                   MinMaxScaler())]),\n",
       "                                                  ['Kundentreue'])])),\n",
       "                ('logisticregression',\n",
       "                 LogisticRegression(max_iter=1000, solver='liblinear'))])"
      ]
     },
     "execution_count": 174,
     "metadata": {},
     "output_type": "execute_result"
    }
   ],
   "source": [
    "# Instantiate model\n",
    "log_reg = LogisticRegression(max_iter=1000, solver='liblinear') \n",
    "\n",
    "# Add estimator\n",
    "pipeline = make_pipeline(preprocessor, log_reg)\n",
    "pipeline"
   ]
  },
  {
   "cell_type": "code",
   "execution_count": 29,
   "id": "0a7f8610",
   "metadata": {},
   "outputs": [
    {
     "name": "stdout",
     "output_type": "stream",
     "text": [
      "Mean recall score: 0.9159265290019588\n",
      "Mean precision score: 0.7470026449679265\n",
      "f1 score: 0.8228796762610513\n"
     ]
    }
   ],
   "source": [
    "# Use recall as the scoring metric\n",
    "recall_scores = cross_val_score(pipeline, X_train, y_train, cv=5, scoring='recall')\n",
    "mean_recall = recall_scores.mean()\n",
    "print(\"Mean recall score:\", mean_recall)\n",
    "\n",
    "# Use precision as the scoring metric\n",
    "precision_scores = cross_val_score(pipeline, X_train, y_train, cv=5, scoring='precision')\n",
    "mean_precision = precision_scores.mean()\n",
    "print(\"Mean precision score:\", mean_precision)\n",
    "\n",
    "# Use precision as the scoring metric\n",
    "f1_scores = cross_val_score(pipeline, X_train, y_train, cv=5, scoring='f1')\n",
    "mean_f1 = f1_scores.mean()\n",
    "print(\"f1 score:\", mean_f1)"
   ]
  },
  {
   "cell_type": "markdown",
   "id": "d31e0f5e",
   "metadata": {},
   "source": [
    "### Logistic Model Tuning"
   ]
  },
  {
   "cell_type": "markdown",
   "id": "cca7de49",
   "metadata": {},
   "source": [
    "#### Precision-Recall Tradeoff"
   ]
  },
  {
   "cell_type": "code",
   "execution_count": 27,
   "id": "35539b9f",
   "metadata": {},
   "outputs": [],
   "source": [
    "df = pd.DataFrame()\n",
    "df['interest'] = y_train"
   ]
  },
  {
   "cell_type": "code",
   "execution_count": 28,
   "id": "9b0f1a27",
   "metadata": {},
   "outputs": [
    {
     "name": "stdout",
     "output_type": "stream",
     "text": [
      "precision- [0.5        0.5000011  0.50000219 0.50000329 0.50000439]\n",
      "recall- [1. 1. 1. 1. 1.]\n",
      "threshold- [8.77990883e-06 9.08426044e-06 9.16365213e-06 9.55652909e-06\n",
      " 9.57496516e-06]\n"
     ]
    }
   ],
   "source": [
    "# Predict class probabilties\n",
    "df['proba_no_interest'], df['proba_interest'] =cross_val_predict(pipeline,\n",
    "                                                                X_train,\n",
    "                                                                df['interest'],\n",
    "                                                                cv=5,\n",
    "                                                                method='predict_proba').T\n",
    "\n",
    "# precision recall data\n",
    "precision, recall, threshold = precision_recall_curve(df['interest'],\n",
    "                                                      df['proba_interest']) \n",
    "\n",
    "print(f'precision- {precision[:5]}')\n",
    "print(f'recall- {recall[:5]}')\n",
    "print(f'threshold- {threshold[:5]}')"
   ]
  },
  {
   "cell_type": "code",
   "execution_count": 29,
   "id": "d0ae1447",
   "metadata": {},
   "outputs": [
    {
     "data": {
      "text/html": [
       "<div>\n",
       "<style scoped>\n",
       "    .dataframe tbody tr th:only-of-type {\n",
       "        vertical-align: middle;\n",
       "    }\n",
       "\n",
       "    .dataframe tbody tr th {\n",
       "        vertical-align: top;\n",
       "    }\n",
       "\n",
       "    .dataframe thead th {\n",
       "        text-align: right;\n",
       "    }\n",
       "</style>\n",
       "<table border=\"1\" class=\"dataframe\">\n",
       "  <thead>\n",
       "    <tr style=\"text-align: right;\">\n",
       "      <th></th>\n",
       "      <th>threshold</th>\n",
       "      <th>precision</th>\n",
       "      <th>recall</th>\n",
       "    </tr>\n",
       "  </thead>\n",
       "  <tbody>\n",
       "    <tr>\n",
       "      <th>0</th>\n",
       "      <td>0.000009</td>\n",
       "      <td>0.500000</td>\n",
       "      <td>1.000000</td>\n",
       "    </tr>\n",
       "    <tr>\n",
       "      <th>1</th>\n",
       "      <td>0.000009</td>\n",
       "      <td>0.500001</td>\n",
       "      <td>1.000000</td>\n",
       "    </tr>\n",
       "    <tr>\n",
       "      <th>2</th>\n",
       "      <td>0.000009</td>\n",
       "      <td>0.500002</td>\n",
       "      <td>1.000000</td>\n",
       "    </tr>\n",
       "    <tr>\n",
       "      <th>3</th>\n",
       "      <td>0.000010</td>\n",
       "      <td>0.500003</td>\n",
       "      <td>1.000000</td>\n",
       "    </tr>\n",
       "    <tr>\n",
       "      <th>4</th>\n",
       "      <td>0.000010</td>\n",
       "      <td>0.500004</td>\n",
       "      <td>1.000000</td>\n",
       "    </tr>\n",
       "    <tr>\n",
       "      <th>...</th>\n",
       "      <td>...</td>\n",
       "      <td>...</td>\n",
       "      <td>...</td>\n",
       "    </tr>\n",
       "    <tr>\n",
       "      <th>391873</th>\n",
       "      <td>0.996433</td>\n",
       "      <td>1.000000</td>\n",
       "      <td>0.000022</td>\n",
       "    </tr>\n",
       "    <tr>\n",
       "      <th>391874</th>\n",
       "      <td>0.996507</td>\n",
       "      <td>1.000000</td>\n",
       "      <td>0.000018</td>\n",
       "    </tr>\n",
       "    <tr>\n",
       "      <th>391875</th>\n",
       "      <td>0.997990</td>\n",
       "      <td>1.000000</td>\n",
       "      <td>0.000013</td>\n",
       "    </tr>\n",
       "    <tr>\n",
       "      <th>391876</th>\n",
       "      <td>0.998245</td>\n",
       "      <td>1.000000</td>\n",
       "      <td>0.000009</td>\n",
       "    </tr>\n",
       "    <tr>\n",
       "      <th>391877</th>\n",
       "      <td>0.998455</td>\n",
       "      <td>1.000000</td>\n",
       "      <td>0.000004</td>\n",
       "    </tr>\n",
       "  </tbody>\n",
       "</table>\n",
       "<p>391878 rows × 3 columns</p>\n",
       "</div>"
      ],
      "text/plain": [
       "        threshold  precision    recall\n",
       "0        0.000009   0.500000  1.000000\n",
       "1        0.000009   0.500001  1.000000\n",
       "2        0.000009   0.500002  1.000000\n",
       "3        0.000010   0.500003  1.000000\n",
       "4        0.000010   0.500004  1.000000\n",
       "...           ...        ...       ...\n",
       "391873   0.996433   1.000000  0.000022\n",
       "391874   0.996507   1.000000  0.000018\n",
       "391875   0.997990   1.000000  0.000013\n",
       "391876   0.998245   1.000000  0.000009\n",
       "391877   0.998455   1.000000  0.000004\n",
       "\n",
       "[391878 rows x 3 columns]"
      ]
     },
     "execution_count": 29,
     "metadata": {},
     "output_type": "execute_result"
    }
   ],
   "source": [
    "scores = pd.DataFrame({'threshold':threshold,\n",
    "                       'precision': precision[:-1],\n",
    "                       'recall':recall[:-1]}) # Store in a dataframe\n",
    "scores"
   ]
  },
  {
   "cell_type": "code",
   "execution_count": 30,
   "id": "1f1c1576",
   "metadata": {},
   "outputs": [
    {
     "data": {
      "text/plain": [
       "Text(0.5, 0, 'recall')"
      ]
     },
     "execution_count": 30,
     "metadata": {},
     "output_type": "execute_result"
    },
    {
     "data": {
      "image/png": "[encoded data removed]",
      "text/plain": [
       "<Figure size 640x480 with 1 Axes>"
      ]
     },
     "metadata": {},
     "output_type": "display_data"
    }
   ],
   "source": [
    "# Plot Precision-Recall Curve\n",
    "plt.plot(scores['recall'],scores['precision'])\n",
    "plt.ylabel('precision')\n",
    "plt.xlabel('recall')"
   ]
  },
  {
   "cell_type": "code",
   "execution_count": 31,
   "id": "f14184aa",
   "metadata": {},
   "outputs": [
    {
     "data": {
      "text/plain": [
       "0.6696844056527012"
      ]
     },
     "execution_count": 31,
     "metadata": {},
     "output_type": "execute_result"
    }
   ],
   "source": [
    "# Find suitable threshold\n",
    "custom_threshold = scores[scores['recall'] >= 0.8].threshold.max()\n",
    "custom_threshold"
   ]
  },
  {
   "cell_type": "code",
   "execution_count": 32,
   "id": "f0c3eb41",
   "metadata": {},
   "outputs": [
    {
     "name": "stdout",
     "output_type": "stream",
     "text": [
      "Recall: 0.8000508954975035\n",
      "Precision: 0.7716160919442951\n",
      "F1 Score: 0.7855762706387929\n"
     ]
    }
   ],
   "source": [
    "# Fit model on train data\n",
    "pipeline.fit(X_train, y_train)\n",
    "\n",
    "# Import function for prediction with custom threshold\n",
    "from utils.functions import custom_predict\n",
    "\n",
    "# Make predictions\n",
    "updated_preds = custom_predict(X=X_train, custom_threshold=custom_threshold, pipeline=pipeline) # Update predictions \n",
    "\n",
    "print(\"Recall:\", recall_score(df['interest'], updated_preds)) # Rerun recall\n",
    "print(\"Precision:\", precision_score(df['interest'], updated_preds)) # Rerun precision\n",
    "print(\"F1 Score:\", f1_score(df['interest'], updated_preds)) # Rerun f1"
   ]
  },
  {
   "cell_type": "markdown",
   "id": "d16952e0",
   "metadata": {},
   "source": [
    "#### Feature Permutation and Complexity Reduction"
   ]
  },
  {
   "cell_type": "code",
   "execution_count": 35,
   "id": "1cad2271",
   "metadata": {},
   "outputs": [
    {
     "data": {
      "text/html": [
       "<div>\n",
       "<style scoped>\n",
       "    .dataframe tbody tr th:only-of-type {\n",
       "        vertical-align: middle;\n",
       "    }\n",
       "\n",
       "    .dataframe tbody tr th {\n",
       "        vertical-align: top;\n",
       "    }\n",
       "\n",
       "    .dataframe thead th {\n",
       "        text-align: right;\n",
       "    }\n",
       "</style>\n",
       "<table border=\"1\" class=\"dataframe\">\n",
       "  <thead>\n",
       "    <tr style=\"text-align: right;\">\n",
       "      <th></th>\n",
       "      <th>feature</th>\n",
       "      <th>score decrease</th>\n",
       "    </tr>\n",
       "  </thead>\n",
       "  <tbody>\n",
       "    <tr>\n",
       "      <th>5</th>\n",
       "      <td>Alter_binned_&lt;30</td>\n",
       "      <td>0.096972</td>\n",
       "    </tr>\n",
       "    <tr>\n",
       "      <th>2</th>\n",
       "      <td>Vorschaden</td>\n",
       "      <td>0.094007</td>\n",
       "    </tr>\n",
       "    <tr>\n",
       "      <th>1</th>\n",
       "      <td>Vorversicherung</td>\n",
       "      <td>0.086404</td>\n",
       "    </tr>\n",
       "    <tr>\n",
       "      <th>7</th>\n",
       "      <td>Alter_binned_50-65</td>\n",
       "      <td>0.047875</td>\n",
       "    </tr>\n",
       "    <tr>\n",
       "      <th>6</th>\n",
       "      <td>Alter_binned_30-50</td>\n",
       "      <td>0.044888</td>\n",
       "    </tr>\n",
       "    <tr>\n",
       "      <th>11</th>\n",
       "      <td>Vertriebskanal_enc</td>\n",
       "      <td>0.030753</td>\n",
       "    </tr>\n",
       "    <tr>\n",
       "      <th>8</th>\n",
       "      <td>Alter_binned_65-75</td>\n",
       "      <td>0.017692</td>\n",
       "    </tr>\n",
       "    <tr>\n",
       "      <th>9</th>\n",
       "      <td>Alter_binned_&gt;75</td>\n",
       "      <td>0.007654</td>\n",
       "    </tr>\n",
       "    <tr>\n",
       "      <th>10</th>\n",
       "      <td>Regional_Code_enc</td>\n",
       "      <td>0.005079</td>\n",
       "    </tr>\n",
       "    <tr>\n",
       "      <th>12</th>\n",
       "      <td>Alter_Fzg_enc</td>\n",
       "      <td>0.00097</td>\n",
       "    </tr>\n",
       "    <tr>\n",
       "      <th>4</th>\n",
       "      <td>Jahresbeitrag_bin_enc</td>\n",
       "      <td>0.000379</td>\n",
       "    </tr>\n",
       "    <tr>\n",
       "      <th>13</th>\n",
       "      <td>Geschlecht_Male</td>\n",
       "      <td>0.000122</td>\n",
       "    </tr>\n",
       "    <tr>\n",
       "      <th>0</th>\n",
       "      <td>Fahrerlaubnis</td>\n",
       "      <td>0.000087</td>\n",
       "    </tr>\n",
       "    <tr>\n",
       "      <th>3</th>\n",
       "      <td>Kundentreue</td>\n",
       "      <td>0.000033</td>\n",
       "    </tr>\n",
       "  </tbody>\n",
       "</table>\n",
       "</div>"
      ],
      "text/plain": [
       "                  feature score decrease\n",
       "5        Alter_binned_<30       0.096972\n",
       "2              Vorschaden       0.094007\n",
       "1         Vorversicherung       0.086404\n",
       "7      Alter_binned_50-65       0.047875\n",
       "6      Alter_binned_30-50       0.044888\n",
       "11     Vertriebskanal_enc       0.030753\n",
       "8      Alter_binned_65-75       0.017692\n",
       "9        Alter_binned_>75       0.007654\n",
       "10      Regional_Code_enc       0.005079\n",
       "12          Alter_Fzg_enc        0.00097\n",
       "4   Jahresbeitrag_bin_enc       0.000379\n",
       "13        Geschlecht_Male       0.000122\n",
       "0           Fahrerlaubnis       0.000087\n",
       "3             Kundentreue       0.000033"
      ]
     },
     "execution_count": 35,
     "metadata": {},
     "output_type": "execute_result"
    }
   ],
   "source": [
    "# Fit model\n",
    "log_model = pipeline.fit(X_train, y_train) \n",
    "\n",
    "# Performs Permutation\n",
    "permutation_score = permutation_importance(log_model, X_train, y_train, n_repeats=10) \n",
    "\n",
    "# Unstack results showing the decrease in performance after shuffling features\n",
    "importance_df = pd.DataFrame(np.vstack((X_train.columns,\n",
    "                                        permutation_score.importances_mean)).T) \n",
    "importance_df.columns=['feature','score decrease']\n",
    "importance_df['score decrease'] = importance_df['score decrease'].abs()\n",
    "\n",
    "# Show the important features\n",
    "importance_df.sort_values(by=\"score decrease\", ascending = False) "
   ]
  },
  {
   "cell_type": "code",
   "execution_count": 40,
   "id": "8f47d4f5",
   "metadata": {},
   "outputs": [],
   "source": [
    "# Drop the weakest feature\n",
    "X_train.drop(columns = [\"Geschlecht_Male\"], inplace = True)\n",
    "X_train.drop(columns = [\"Fahrerlaubnis\"], inplace = True)\n",
    "\n",
    "X_test.drop(columns = [\"Geschlecht_Male\"], inplace = True)\n",
    "X_test.drop(columns = [\"Fahrerlaubnis\"], inplace = True)"
   ]
  },
  {
   "cell_type": "code",
   "execution_count": 41,
   "id": "608e77a7",
   "metadata": {},
   "outputs": [
    {
     "name": "stdout",
     "output_type": "stream",
     "text": [
      "Mean recall score: 0.911361655679048\n",
      "Mean precision score: 0.7481645964768121\n",
      "Mean precision score: 0.7481645964768121\n"
     ]
    }
   ],
   "source": [
    "# Re-instantiate pipeline\n",
    "log_model = pipeline.fit(X_train, y_train) \n",
    "\n",
    "# Cross-validate the model again\n",
    "recall_scores = cross_val_score(log_model, X_train, y_train, cv=5, scoring='recall')\n",
    "mean_recall = recall_scores.mean()\n",
    "print(\"Mean recall score:\", mean_recall)\n",
    "\n",
    "precision_scores = cross_val_score(log_model, X_train, y_train, cv=5, scoring='precision')\n",
    "mean_precision = precision_scores.mean()\n",
    "print(\"Mean precision score:\", mean_precision)\n",
    "\n",
    "f1_scores = cross_val_score(log_model, X_train, y_train, cv=5, scoring='precision')\n",
    "mean_f1 = f1_scores.mean()\n",
    "print(\"Mean precision score:\", mean_f1)"
   ]
  },
  {
   "cell_type": "markdown",
   "id": "32a919ef",
   "metadata": {},
   "source": [
    "A litte bit better but not significant"
   ]
  },
  {
   "cell_type": "markdown",
   "id": "416bf5dd",
   "metadata": {},
   "source": [
    "#### GridSearch"
   ]
  },
  {
   "cell_type": "code",
   "execution_count": 47,
   "id": "d779a805",
   "metadata": {},
   "outputs": [
    {
     "name": "stdout",
     "output_type": "stream",
     "text": [
      "Best parameters:  {'logisticregression__C': 0.01, 'logisticregression__penalty': 'l2'}\n",
      "Best score:  0.9336485665773393\n"
     ]
    }
   ],
   "source": [
    "# Instantiate model\n",
    "log_reg = LogisticRegression(max_iter=1000, solver='liblinear') \n",
    "\n",
    "# Add estimator\n",
    "pipeline = make_pipeline(preprocessor, log_reg)\n",
    "\n",
    "param_grid = {\n",
    "    'logisticregression__C': [0.01, 0.05, 0.1, 1],\n",
    "    'logisticregression__penalty': ['l1', 'l2']\n",
    "}\n",
    "\n",
    "f1 = make_scorer(f1_score, greater_is_better=True)\n",
    "precision = make_scorer(precision_score, greater_is_better=True)\n",
    "recall = make_scorer(recall_score, greater_is_better=True)\n",
    "\n",
    "grid = GridSearchCV(pipeline, param_grid=param_grid, scoring={'f1': f1, 'precision': precision, 'recall': recall}, refit='recall', cv=5)\n",
    "grid.fit(X_train, y_train)\n",
    "\n",
    "# Get the best hyperparameters\n",
    "best_params = grid.best_params_\n",
    "\n",
    "print(\"Best parameters: \", grid.best_params_)\n",
    "print(\"Best score: \", grid.best_score_)"
   ]
  },
  {
   "cell_type": "code",
   "execution_count": 48,
   "id": "05d84aa3",
   "metadata": {},
   "outputs": [
    {
     "name": "stdout",
     "output_type": "stream",
     "text": [
      "Mean recall score: 0.9336485665773393\n",
      "Mean precision score: 0.7386978120692552\n",
      "Mean f1 score: 0.8248025030142598\n"
     ]
    }
   ],
   "source": [
    "# Instantiate model\n",
    "log_reg = LogisticRegression(max_iter=1000, solver='liblinear', penalty = 'l2', C = 0.01) \n",
    "\n",
    "# Add estimator\n",
    "pipeline = make_pipeline(preprocessor, log_reg)\n",
    "\n",
    "# Use recall as the scoring metric\n",
    "recall_scores = cross_val_score(pipeline, X_train, y_train, cv=5, scoring='recall')\n",
    "mean_recall = recall_scores.mean()\n",
    "print(\"Mean recall score:\", round(mean_recall, 2))\n",
    "\n",
    "# Use precision as the scoring metric\n",
    "precision_scores = cross_val_score(pipeline, X_train, y_train, cv=5, scoring='precision')\n",
    "mean_precision = precision_scores.mean()\n",
    "print(\"Mean precision score:\", round(mean_precision, 2))\n",
    "\n",
    "# Use f1 as the scoring metric\n",
    "f1_scores = cross_val_score(pipeline, X_train, y_train, cv=5, scoring='f1')\n",
    "mean_f1 = f1_scores.mean()\n",
    "print(\"Mean f1 score:\", round(mean_f1, 2))"
   ]
  },
  {
   "cell_type": "markdown",
   "id": "08651b62",
   "metadata": {},
   "source": [
    "### Model Evaluation "
   ]
  },
  {
   "cell_type": "code",
   "execution_count": 49,
   "id": "5fc08e36",
   "metadata": {},
   "outputs": [
    {
     "name": "stdout",
     "output_type": "stream",
     "text": [
      "              precision    recall  f1-score   support\n",
      "\n",
      "         0.0       0.91      0.67      0.77     97877\n",
      "         1.0       0.74      0.93      0.82     97877\n",
      "\n",
      "    accuracy                           0.80    195754\n",
      "   macro avg       0.82      0.80      0.80    195754\n",
      "weighted avg       0.82      0.80      0.80    195754\n",
      "\n"
     ]
    }
   ],
   "source": [
    "# Instantiate model\n",
    "log_reg = LogisticRegression(max_iter=1000, solver='liblinear', penalty = 'l2', C = 0.01) \n",
    "\n",
    "# Add estimator\n",
    "pipeline = make_pipeline(preprocessor, log_reg)\n",
    "\n",
    "# Fit model model\n",
    "pipeline.fit(X_train, y_train) \n",
    "\n",
    "# Predict the target classes on the test set\n",
    "y_pred = pipeline.predict(X_test)\n",
    "\n",
    "# Calculate the classification report\n",
    "report = classification_report(y_test, y_pred)\n",
    "print(report)"
   ]
  },
  {
   "cell_type": "markdown",
   "id": "718a3b27",
   "metadata": {},
   "source": [
    "Not perfect results => try some other model"
   ]
  },
  {
   "cell_type": "markdown",
   "id": "9cffee96",
   "metadata": {},
   "source": [
    "## Random Forest Model"
   ]
  },
  {
   "cell_type": "markdown",
   "id": "bd0c53f4",
   "metadata": {},
   "source": [
    "### Initiating"
   ]
  },
  {
   "cell_type": "code",
   "execution_count": 35,
   "id": "b2e05260",
   "metadata": {},
   "outputs": [
    {
     "name": "stdout",
     "output_type": "stream",
     "text": [
      "Mean recall score: 0.8955437053368115\n",
      "Mean precision score: 0.8823755565073996\n",
      "Mean f1 score: 0.8797584585934324\n"
     ]
    }
   ],
   "source": [
    "# Instantiate model\n",
    "random_forest = RandomForestClassifier(n_estimators=100, random_state=42)\n",
    "\n",
    "# Add estimator\n",
    "pipeline = make_pipeline(preprocessor, random_forest)\n",
    "\n",
    "# Train the random forest model\n",
    "pipeline.fit(X_train, y_train)\n",
    "\n",
    "# Use recall as the scoring metric\n",
    "recall_scores = cross_val_score(pipeline, X_train, y_train, cv=5, scoring='recall')\n",
    "mean_recall = recall_scores.mean()\n",
    "print(\"Mean recall score:\", mean_recall)\n",
    "\n",
    "# Use precision as the scoring metric\n",
    "precision_scores = cross_val_score(pipeline, X_train, y_train, cv=5, scoring='precision')\n",
    "mean_precision = precision_scores.mean()\n",
    "print(\"Mean precision score:\", mean_precision)\n",
    "\n",
    "# Use f1 as the scoring metric\n",
    "f1_scores = cross_val_score(pipeline, X_train, y_train, cv=5, scoring='f1')\n",
    "mean_f1 = f1_scores.mean()\n",
    "print(\"Mean f1 score:\", mean_f1)"
   ]
  },
  {
   "cell_type": "markdown",
   "id": "da099268",
   "metadata": {},
   "source": [
    "### Fine-Tuning"
   ]
  },
  {
   "cell_type": "markdown",
   "id": "366cd9bb",
   "metadata": {},
   "source": [
    "#### GridSearch"
   ]
  },
  {
   "cell_type": "code",
   "execution_count": null,
   "id": "27af6d9c",
   "metadata": {},
   "outputs": [],
   "source": [
    "# Create the classifier\n",
    "random_forest = RandomForestClassifier()\n",
    "\n",
    "# Add estimator\n",
    "pipeline = make_pipeline(preprocessor, random_forest)\n",
    "\n",
    "# Define the parameter grid to search over\n",
    "param_grid = {\n",
    "    'n_estimators': [7, 8, 9],\n",
    "    'max_depth': [8, 9, 10],\n",
    "    'min_samples_split': [6, 7, 8],\n",
    "    'min_samples_leaf': [1]\n",
    "}\n",
    "\n",
    "# Use GridSearchCV to search for the best hyperparameters\n",
    "grid_search = GridSearchCV(pipeline, param_grid, cv=5, scoring='recall')\n",
    "grid_search.fit(X_train, y_train)\n",
    "\n",
    "# Get the best hyperparameters\n",
    "best_params = grid_search.best_params_\n",
    "best_score = grid_search.best_score_"
   ]
  },
  {
   "cell_type": "code",
   "execution_count": 32,
   "id": "a3c33743",
   "metadata": {},
   "outputs": [
    {
     "name": "stdout",
     "output_type": "stream",
     "text": [
      "Mean recall score: 0.9426419309056495\n",
      "Mean precision score: 0.7588903035861475\n",
      "Mean f1 score: 0.8391142594829244\n"
     ]
    }
   ],
   "source": [
    "# Use the best hyperparameters to fit a new classifier\n",
    "random_forest = RandomForestClassifier(**best_params)\n",
    "\n",
    "# Add estimator\n",
    "pipeline = make_pipeline(preprocessor, random_forest)\n",
    "\n",
    "# Use recall as the scoring metric\n",
    "recall_scores = cross_val_score(pipeline, X_train, y_train, cv=5, scoring='recall')\n",
    "mean_recall = recall_scores.mean()\n",
    "print(\"Mean recall score:\", mean_recall)\n",
    "\n",
    "# Use precision as the scoring metric\n",
    "precision_scores = cross_val_score(pipeline, X_train, y_train, cv=5, scoring='precision')\n",
    "mean_precision = precision_scores.mean()\n",
    "print(\"Mean precision score:\", mean_precision)\n",
    "\n",
    "# Use f1 as the scoring metric\n",
    "f1_scores = cross_val_score(pipeline, X_train, y_train, cv=5, scoring='f1')\n",
    "mean_f1 = f1_scores.mean()\n",
    "print(\"Mean f1 score:\", mean_f1)"
   ]
  },
  {
   "cell_type": "markdown",
   "id": "bc7a6207",
   "metadata": {},
   "source": [
    "#### RandomSearch"
   ]
  },
  {
   "cell_type": "code",
   "execution_count": 48,
   "id": "4449ee3c",
   "metadata": {},
   "outputs": [
    {
     "name": "stdout",
     "output_type": "stream",
     "text": [
      "Best hyperparameters: {'randomforestclassifier__n_estimators': 32, 'randomforestclassifier__min_samples_split': 4, 'randomforestclassifier__min_samples_leaf': 3, 'randomforestclassifier__max_depth': 8}\n",
      "Best score: 0.9456302869359046\n"
     ]
    }
   ],
   "source": [
    "# Create the classifier\n",
    "random_forest = RandomForestClassifier()\n",
    "\n",
    "# Add a preprocessor to the pipeline\n",
    "pipeline = make_pipeline(preprocessor, random_forest)\n",
    "\n",
    "# Define the parameter distributions to search over\n",
    "param_dist = {\n",
    "    'randomforestclassifier__n_estimators': np.arange(10, 101, 1),\n",
    "    'randomforestclassifier__max_depth': np.arange(5, 21, 1),\n",
    "    'randomforestclassifier__min_samples_split': np.arange(2, 11, 1),\n",
    "    'randomforestclassifier__min_samples_leaf': np.arange(1, 11, 1)\n",
    "}\n",
    "\n",
    "# Use RandomizedSearchCV to search for the best hyperparameters\n",
    "random_search = RandomizedSearchCV(pipeline, param_distributions=param_dist, n_iter=10, cv=5, scoring='recall')\n",
    "random_search.fit(X_train, y_train)\n",
    "\n",
    "# Get the best hyperparameters\n",
    "best_params = random_search.best_params_\n",
    "best_score = random_search.best_score_"
   ]
  },
  {
   "cell_type": "code",
   "execution_count": 40,
   "id": "e7726752",
   "metadata": {},
   "outputs": [
    {
     "name": "stdout",
     "output_type": "stream",
     "text": [
      "Mean recall score: 0.9439232795317031\n",
      "Mean precision score: 0.7595065384409084\n",
      "Mean f1 score: 0.8406449263611666\n"
     ]
    }
   ],
   "source": [
    "# Use the best hyperparameters to fit a new classifier\n",
    "random_forest = RandomForestClassifier(**best_params)\n",
    "\n",
    "# Add estimator\n",
    "pipeline = make_pipeline(preprocessor, random_forest)\n",
    "\n",
    "# Use recall as the scoring metric\n",
    "recall_scores = cross_val_score(pipeline, X_train, y_train, cv=5, scoring='recall')\n",
    "mean_recall = recall_scores.mean()\n",
    "print(\"Mean recall score:\", mean_recall)\n",
    "\n",
    "# Use precision as the scoring metric\n",
    "precision_scores = cross_val_score(pipeline, X_train, y_train, cv=5, scoring='precision')\n",
    "mean_precision = precision_scores.mean()\n",
    "print(\"Mean precision score:\", mean_precision)\n",
    "\n",
    "# Use f1 as the scoring metric\n",
    "f1_scores = cross_val_score(pipeline, X_train, y_train, cv=5, scoring='f1')\n",
    "mean_f1 = f1_scores.mean()\n",
    "print(\"Mean f1 score:\", mean_f1)"
   ]
  },
  {
   "cell_type": "markdown",
   "id": "9b0f173e",
   "metadata": {},
   "source": [
    "#### Features Permutation"
   ]
  },
  {
   "cell_type": "code",
   "execution_count": 92,
   "id": "97ee58d4",
   "metadata": {},
   "outputs": [
    {
     "data": {
      "text/html": [
       "<div>\n",
       "<style scoped>\n",
       "    .dataframe tbody tr th:only-of-type {\n",
       "        vertical-align: middle;\n",
       "    }\n",
       "\n",
       "    .dataframe tbody tr th {\n",
       "        vertical-align: top;\n",
       "    }\n",
       "\n",
       "    .dataframe thead th {\n",
       "        text-align: right;\n",
       "    }\n",
       "</style>\n",
       "<table border=\"1\" class=\"dataframe\">\n",
       "  <thead>\n",
       "    <tr style=\"text-align: right;\">\n",
       "      <th></th>\n",
       "      <th>feature</th>\n",
       "      <th>score decrease</th>\n",
       "    </tr>\n",
       "  </thead>\n",
       "  <tbody>\n",
       "    <tr>\n",
       "      <th>2</th>\n",
       "      <td>Vorschaden</td>\n",
       "      <td>0.170026</td>\n",
       "    </tr>\n",
       "    <tr>\n",
       "      <th>11</th>\n",
       "      <td>Vertriebskanal_enc</td>\n",
       "      <td>0.054651</td>\n",
       "    </tr>\n",
       "    <tr>\n",
       "      <th>5</th>\n",
       "      <td>Alter_binned_&lt;30</td>\n",
       "      <td>0.040718</td>\n",
       "    </tr>\n",
       "    <tr>\n",
       "      <th>1</th>\n",
       "      <td>Vorversicherung</td>\n",
       "      <td>0.040631</td>\n",
       "    </tr>\n",
       "    <tr>\n",
       "      <th>10</th>\n",
       "      <td>Regional_Code_enc</td>\n",
       "      <td>0.031475</td>\n",
       "    </tr>\n",
       "    <tr>\n",
       "      <th>7</th>\n",
       "      <td>Alter_binned_50-65</td>\n",
       "      <td>0.008466</td>\n",
       "    </tr>\n",
       "    <tr>\n",
       "      <th>13</th>\n",
       "      <td>Geschlecht_Male</td>\n",
       "      <td>0.007242</td>\n",
       "    </tr>\n",
       "    <tr>\n",
       "      <th>4</th>\n",
       "      <td>Jahresbeitrag_bin_enc</td>\n",
       "      <td>0.007074</td>\n",
       "    </tr>\n",
       "    <tr>\n",
       "      <th>6</th>\n",
       "      <td>Alter_binned_30-50</td>\n",
       "      <td>0.003598</td>\n",
       "    </tr>\n",
       "    <tr>\n",
       "      <th>9</th>\n",
       "      <td>Alter_binned_&gt;75</td>\n",
       "      <td>0.001964</td>\n",
       "    </tr>\n",
       "    <tr>\n",
       "      <th>12</th>\n",
       "      <td>Alter_Fzg_enc</td>\n",
       "      <td>0.001148</td>\n",
       "    </tr>\n",
       "    <tr>\n",
       "      <th>8</th>\n",
       "      <td>Alter_binned_65-75</td>\n",
       "      <td>0.000168</td>\n",
       "    </tr>\n",
       "    <tr>\n",
       "      <th>0</th>\n",
       "      <td>Fahrerlaubnis</td>\n",
       "      <td>0.000041</td>\n",
       "    </tr>\n",
       "    <tr>\n",
       "      <th>3</th>\n",
       "      <td>Kundentreue</td>\n",
       "      <td>0.0</td>\n",
       "    </tr>\n",
       "  </tbody>\n",
       "</table>\n",
       "</div>"
      ],
      "text/plain": [
       "                  feature score decrease\n",
       "2              Vorschaden       0.170026\n",
       "11     Vertriebskanal_enc       0.054651\n",
       "5        Alter_binned_<30       0.040718\n",
       "1         Vorversicherung       0.040631\n",
       "10      Regional_Code_enc       0.031475\n",
       "7      Alter_binned_50-65       0.008466\n",
       "13        Geschlecht_Male       0.007242\n",
       "4   Jahresbeitrag_bin_enc       0.007074\n",
       "6      Alter_binned_30-50       0.003598\n",
       "9        Alter_binned_>75       0.001964\n",
       "12          Alter_Fzg_enc       0.001148\n",
       "8      Alter_binned_65-75       0.000168\n",
       "0           Fahrerlaubnis       0.000041\n",
       "3             Kundentreue            0.0"
      ]
     },
     "execution_count": 92,
     "metadata": {},
     "output_type": "execute_result"
    }
   ],
   "source": [
    "# Use the best hyperparameters to fit a new classifier\n",
    "random_forest = RandomForestClassifier(**best_params)\n",
    "\n",
    "# Add estimator\n",
    "pipeline = make_pipeline(preprocessor, random_forest)\n",
    "\n",
    "# Fit the model\n",
    "pipeline.fit(X_train, y_train)\n",
    "\n",
    "# Performs Permutation\n",
    "permutation_score = permutation_importance(random_forest, X_train, y_train, n_repeats=10) \n",
    "\n",
    "# Unstack results showing the decrease in performance after shuffling features\n",
    "importance_df = pd.DataFrame(np.vstack((X_train.columns,\n",
    "                                        permutation_score.importances_mean)).T) \n",
    "importance_df.columns=['feature','score decrease']\n",
    "importance_df['score decrease'] = importance_df['score decrease'].abs()\n",
    "\n",
    "# Show the important features\n",
    "importance_df.sort_values(by=\"score decrease\", ascending = False) "
   ]
  },
  {
   "cell_type": "code",
   "execution_count": 52,
   "id": "0560a789",
   "metadata": {},
   "outputs": [],
   "source": [
    "# Drop the weakest features\n",
    "X_train.drop(columns = [\"Fahrerlaubnis\"], inplace = True)\n",
    "X_train.drop(columns = [\"Kundentreue\"], inplace = True)\n",
    "\n",
    "X_test.drop(columns = [\"Fahrerlaubnis\"], inplace = True)\n",
    "X_test.drop(columns = [\"Kundentreue\"], inplace = True)"
   ]
  },
  {
   "cell_type": "code",
   "execution_count": 54,
   "id": "f5dd9d70",
   "metadata": {},
   "outputs": [
    {
     "name": "stdout",
     "output_type": "stream",
     "text": [
      "Mean recall score: 0.9431597349760633\n",
      "Mean precision score: 0.7574742197667531\n",
      "Mean f1 score: 0.8414117599735812\n"
     ]
    }
   ],
   "source": [
    "# Use the best hyperparameters to fit a new classifier\n",
    "random_forest = RandomForestClassifier(n_estimators = 32, min_samples_split = 4, min_samples_leaf = 3, max_depth = 8)\n",
    "\n",
    "# Use recall as the scoring metric\n",
    "recall_scores = cross_val_score(random_forest, X_train, y_train, cv=5, scoring='recall')\n",
    "mean_recall = recall_scores.mean()\n",
    "print(\"Mean recall score:\", mean_recall)\n",
    "\n",
    "# Use precision as the scoring metric\n",
    "precision_scores = cross_val_score(random_forest, X_train, y_train, cv=5, scoring='precision')\n",
    "mean_precision = precision_scores.mean()\n",
    "print(\"Mean precision score:\", mean_precision)\n",
    "\n",
    "# Use f1 as the scoring metric\n",
    "f1_scores = cross_val_score(random_forest, X_train, y_train, cv=5, scoring='f1')\n",
    "mean_f1 = f1_scores.mean()\n",
    "print(\"Mean f1 score:\", mean_f1)"
   ]
  },
  {
   "cell_type": "markdown",
   "id": "770f0c97",
   "metadata": {},
   "source": [
    "### Model Evaluation"
   ]
  },
  {
   "cell_type": "code",
   "execution_count": 59,
   "id": "32c97ed8",
   "metadata": {},
   "outputs": [
    {
     "name": "stdout",
     "output_type": "stream",
     "text": [
      "              precision    recall  f1-score   support\n",
      "\n",
      "         0.0       0.92      0.71      0.80     97576\n",
      "         1.0       0.76      0.94      0.84     97576\n",
      "\n",
      "    accuracy                           0.82    195152\n",
      "   macro avg       0.84      0.82      0.82    195152\n",
      "weighted avg       0.84      0.82      0.82    195152\n",
      "\n"
     ]
    }
   ],
   "source": [
    "# Use the best hyperparameters to fit classifier\n",
    "random_forest = RandomForestClassifier(**best_params)\n",
    "\n",
    "# Fit the model\n",
    "random_forest.fit(X_train, y_train)\n",
    "\n",
    "# Predict the target classes on the test set\n",
    "y_pred = random_forest.predict(X_test)\n",
    "\n",
    "# Calculate the classification report\n",
    "report = classification_report(y_test, y_pred)\n",
    "print(report)"
   ]
  },
  {
   "cell_type": "markdown",
   "id": "4cade08f",
   "metadata": {},
   "source": [
    "## SDGClassifier"
   ]
  },
  {
   "cell_type": "markdown",
   "id": "ad79eddf",
   "metadata": {},
   "source": [
    "### Instantiating model"
   ]
  },
  {
   "cell_type": "code",
   "execution_count": 41,
   "id": "1d875a53",
   "metadata": {},
   "outputs": [
    {
     "name": "stdout",
     "output_type": "stream",
     "text": [
      "Mean recall score: 0.9735303960622798\n",
      "Mean precision score: 0.7105569403015676\n",
      "Mean f1 score: 0.8215105227923061\n"
     ]
    }
   ],
   "source": [
    "# Instantiate model\n",
    "sgd_clf = SGDClassifier()\n",
    "\n",
    "# Add estimator\n",
    "pipeline = make_pipeline(preprocessor, sgd_clf)\n",
    "\n",
    "# Fit the model\n",
    "pipeline.fit(X_train, y_train)\n",
    "\n",
    "# Use recall as the scoring metric\n",
    "recall_scores = cross_val_score(pipeline, X_train, y_train, cv=5, scoring='recall')\n",
    "mean_recall = recall_scores.mean()\n",
    "print(\"Mean recall score:\", mean_recall)\n",
    "\n",
    "# Use precision as the scoring metric\n",
    "precision_scores = cross_val_score(pipeline, X_train, y_train, cv=5, scoring='precision')\n",
    "mean_precision = precision_scores.mean()\n",
    "print(\"Mean precision score:\", mean_precision)\n",
    "\n",
    "# Use f1 as the scoring metric\n",
    "f1_scores = cross_val_score(pipeline, X_train, y_train, cv=5, scoring='f1')\n",
    "mean_f1 = f1_scores.mean()\n",
    "print(\"Mean f1 score:\", mean_f1)"
   ]
  },
  {
   "cell_type": "markdown",
   "id": "8f62826b",
   "metadata": {},
   "source": [
    "### Fine-Tuning"
   ]
  },
  {
   "cell_type": "markdown",
   "id": "eca222da",
   "metadata": {},
   "source": [
    "#### GridSearch"
   ]
  },
  {
   "cell_type": "code",
   "execution_count": 60,
   "id": "902e1cd2",
   "metadata": {},
   "outputs": [
    {
     "data": {
      "text/plain": [
       "{'sgdclassifier__alpha': 0.1,\n",
       " 'sgdclassifier__loss': 'perceptron',\n",
       " 'sgdclassifier__penalty': 'elasticnet'}"
      ]
     },
     "execution_count": 60,
     "metadata": {},
     "output_type": "execute_result"
    }
   ],
   "source": [
    "# Create the classifier\n",
    "sgd_clf = SGDClassifier()\n",
    "\n",
    "# Add estimator\n",
    "pipeline = make_pipeline(preprocessor, sgd_clf)\n",
    "\n",
    "# Define the parameter grid to search over\n",
    "param_grid = {\n",
    "    'sgdclassifier__loss': ['hinge', 'log', 'perceptron'],\n",
    "    'sgdclassifier__penalty': ['l2', 'l1', 'elasticnet'],\n",
    "    'sgdclassifier__alpha': [0.0001, 0.001, 0.01, 0.1]\n",
    "}\n",
    "\n",
    "# Use GridSearchCV to search for the best hyperparameters\n",
    "grid_search = GridSearchCV(pipeline, param_grid, cv=5, scoring='recall')\n",
    "grid_search.fit(X_train, y_train)\n",
    "\n",
    "# Get the best hyperparameters\n",
    "best_params = grid_search.best_params_\n",
    "best_params\n"
   ]
  },
  {
   "cell_type": "code",
   "execution_count": 61,
   "id": "87d990b5",
   "metadata": {},
   "outputs": [
    {
     "data": {
      "text/plain": [
       "{'sgdclassifier__alpha': 0.2,\n",
       " 'sgdclassifier__loss': 'hinge',\n",
       " 'sgdclassifier__penalty': 'l2'}"
      ]
     },
     "execution_count": 61,
     "metadata": {},
     "output_type": "execute_result"
    }
   ],
   "source": [
    "# Define the parameter grid to search over\n",
    "param_grid = {\n",
    "    'sgdclassifier__loss': ['hinge', 'log', 'perceptron'],\n",
    "    'sgdclassifier__penalty': ['l2', 'l1', 'elasticnet'],\n",
    "    'sgdclassifier__alpha': [0.05, 0.1, 0.2, 0.3]\n",
    "}\n",
    "\n",
    "# Use GridSearchCV to search for the best hyperparameters\n",
    "grid_search = GridSearchCV(pipeline, param_grid, cv=5, scoring='recall')\n",
    "grid_search.fit(X_train, y_train)\n",
    "\n",
    "# Get the best hyperparameters\n",
    "best_params = grid_search.best_params_\n",
    "best_params"
   ]
  },
  {
   "cell_type": "code",
   "execution_count": 62,
   "id": "68da4828",
   "metadata": {},
   "outputs": [
    {
     "name": "stdout",
     "output_type": "stream",
     "text": [
      "Mean recall score: 0.9906997349884479\n",
      "Mean precision score: 0.6814173006479547\n",
      "Mean f1 score: 0.8074437341896074\n"
     ]
    }
   ],
   "source": [
    "# Create the classifier\n",
    "sgd_clf = SGDClassifier(alpha = 0.2)\n",
    "\n",
    "# Add estimator\n",
    "pipeline = make_pipeline(preprocessor, sgd_clf)\n",
    "\n",
    "# Fit the model\n",
    "pipeline.fit(X_train, y_train)\n",
    "\n",
    "# Use recall as the scoring metric\n",
    "recall_scores = cross_val_score(pipeline, X_train, y_train, cv=5, scoring='recall')\n",
    "mean_recall = recall_scores.mean()\n",
    "print(\"Mean recall score:\", mean_recall)\n",
    "\n",
    "# Use precision as the scoring metric\n",
    "precision_scores = cross_val_score(pipeline, X_train, y_train, cv=5, scoring='precision')\n",
    "mean_precision = precision_scores.mean()\n",
    "print(\"Mean precision score:\", mean_precision)\n",
    "\n",
    "# Use f1 as the scoring metric\n",
    "f1_scores = cross_val_score(pipeline, X_train, y_train, cv=5, scoring='f1')\n",
    "mean_f1 = f1_scores.mean()\n",
    "print(\"Mean f1 score:\", mean_f1)"
   ]
  },
  {
   "cell_type": "markdown",
   "id": "9263bf78",
   "metadata": {},
   "source": [
    "#### RandomSearch"
   ]
  },
  {
   "cell_type": "code",
   "execution_count": null,
   "id": "dc5ee5d5",
   "metadata": {},
   "outputs": [],
   "source": [
    "# Define the SDGClassifier model\n",
    "sgd_clf = SGDClassifier()\n",
    "\n",
    "# Define the hyperparameters\n",
    "param_dist = {'alpha': np.logspace(-5, 5, 11),\n",
    "              'learning_rate': ['constant', 'optimal', 'invscaling'],\n",
    "              'max_iter': [100, 150, 180, 200, 300],\n",
    "              'loss': ['hinge', 'log_loss']}\n",
    "\n",
    "# Create the RandomizedSearchCV object\n",
    "rs_clf = RandomizedSearchCV(sgd_clf, param_distributions=param_dist, cv=5, n_iter=50, n_jobs=-1, scoring='recall')\n",
    "\n",
    "# Fit the model to the data\n",
    "rs_clf.fit(X_train, y_train)\n",
    "\n",
    "# Get the best hyperparameters\n",
    "best_params = rs_clf.best_params_"
   ]
  },
  {
   "cell_type": "code",
   "execution_count": 64,
   "id": "c85c05ac",
   "metadata": {},
   "outputs": [
    {
     "name": "stdout",
     "output_type": "stream",
     "text": [
      "Mean recall score: 0.9816712998999948\n",
      "Mean precision score: 0.6924080696289885\n",
      "Mean f1 score: 0.8131784952256293\n"
     ]
    }
   ],
   "source": [
    "# Create the classifier\n",
    "sgd_clf = SGDClassifier(**best_params)\n",
    "\n",
    "# Fit the model\n",
    "sgd_clf.fit(X_train, y_train)\n",
    "\n",
    "# Use recall as the scoring metric\n",
    "recall_scores = cross_val_score(sgd_clf, X_train, y_train, cv=5, scoring='recall')\n",
    "mean_recall = recall_scores.mean()\n",
    "print(\"Mean recall score:\", mean_recall)\n",
    "\n",
    "# Use precision as the scoring metric\n",
    "precision_scores = cross_val_score(sgd_clf, X_train, y_train, cv=5, scoring='precision')\n",
    "mean_precision = precision_scores.mean()\n",
    "print(\"Mean precision score:\", mean_precision)\n",
    "\n",
    "# Use f1 as the scoring metric\n",
    "f1_scores = cross_val_score(sgd_clf, X_train, y_train, cv=5, scoring='f1')\n",
    "mean_f1 = f1_scores.mean()\n",
    "print(\"Mean f1 score:\", mean_f1)"
   ]
  },
  {
   "cell_type": "code",
   "execution_count": 65,
   "id": "c3a25436",
   "metadata": {},
   "outputs": [
    {
     "name": "stdout",
     "output_type": "stream",
     "text": [
      "              precision    recall  f1-score   support\n",
      "\n",
      "         0.0       0.96      0.59      0.73     97576\n",
      "         1.0       0.70      0.98      0.82     97576\n",
      "\n",
      "    accuracy                           0.78    195152\n",
      "   macro avg       0.83      0.78      0.77    195152\n",
      "weighted avg       0.83      0.78      0.77    195152\n",
      "\n"
     ]
    }
   ],
   "source": [
    "# Predict the target classes on the test set\n",
    "y_pred = sgd_clf.predict(X_test)\n",
    "\n",
    "# Calculate the classification report\n",
    "report = classification_report(y_test, y_pred)\n",
    "print(report)"
   ]
  },
  {
   "cell_type": "markdown",
   "id": "f9209c63",
   "metadata": {},
   "source": [
    "#### Feature Permutation"
   ]
  },
  {
   "cell_type": "code",
   "execution_count": 67,
   "id": "a0f2f753",
   "metadata": {},
   "outputs": [
    {
     "data": {
      "text/html": [
       "<div>\n",
       "<style scoped>\n",
       "    .dataframe tbody tr th:only-of-type {\n",
       "        vertical-align: middle;\n",
       "    }\n",
       "\n",
       "    .dataframe tbody tr th {\n",
       "        vertical-align: top;\n",
       "    }\n",
       "\n",
       "    .dataframe thead th {\n",
       "        text-align: right;\n",
       "    }\n",
       "</style>\n",
       "<table border=\"1\" class=\"dataframe\">\n",
       "  <thead>\n",
       "    <tr style=\"text-align: right;\">\n",
       "      <th></th>\n",
       "      <th>feature</th>\n",
       "      <th>score decrease</th>\n",
       "    </tr>\n",
       "  </thead>\n",
       "  <tbody>\n",
       "    <tr>\n",
       "      <th>2</th>\n",
       "      <td>Vorschaden</td>\n",
       "      <td>0.164675</td>\n",
       "    </tr>\n",
       "    <tr>\n",
       "      <th>1</th>\n",
       "      <td>Vorversicherung</td>\n",
       "      <td>0.006665</td>\n",
       "    </tr>\n",
       "    <tr>\n",
       "      <th>5</th>\n",
       "      <td>Alter_binned_&lt;30</td>\n",
       "      <td>0.001669</td>\n",
       "    </tr>\n",
       "    <tr>\n",
       "      <th>6</th>\n",
       "      <td>Alter_binned_30-50</td>\n",
       "      <td>0.001458</td>\n",
       "    </tr>\n",
       "    <tr>\n",
       "      <th>7</th>\n",
       "      <td>Alter_binned_50-65</td>\n",
       "      <td>0.000818</td>\n",
       "    </tr>\n",
       "    <tr>\n",
       "      <th>9</th>\n",
       "      <td>Alter_binned_&gt;75</td>\n",
       "      <td>0.000446</td>\n",
       "    </tr>\n",
       "    <tr>\n",
       "      <th>12</th>\n",
       "      <td>Alter_Fzg_enc</td>\n",
       "      <td>0.000053</td>\n",
       "    </tr>\n",
       "    <tr>\n",
       "      <th>11</th>\n",
       "      <td>Vertriebskanal_enc</td>\n",
       "      <td>0.000005</td>\n",
       "    </tr>\n",
       "    <tr>\n",
       "      <th>4</th>\n",
       "      <td>Jahresbeitrag_bin_enc</td>\n",
       "      <td>0.000002</td>\n",
       "    </tr>\n",
       "    <tr>\n",
       "      <th>10</th>\n",
       "      <td>Regional_Code_enc</td>\n",
       "      <td>0.000002</td>\n",
       "    </tr>\n",
       "    <tr>\n",
       "      <th>13</th>\n",
       "      <td>Geschlecht_Male</td>\n",
       "      <td>0.000001</td>\n",
       "    </tr>\n",
       "    <tr>\n",
       "      <th>3</th>\n",
       "      <td>Kundentreue</td>\n",
       "      <td>0.0</td>\n",
       "    </tr>\n",
       "    <tr>\n",
       "      <th>0</th>\n",
       "      <td>Fahrerlaubnis</td>\n",
       "      <td>0.0</td>\n",
       "    </tr>\n",
       "    <tr>\n",
       "      <th>8</th>\n",
       "      <td>Alter_binned_65-75</td>\n",
       "      <td>0.0</td>\n",
       "    </tr>\n",
       "  </tbody>\n",
       "</table>\n",
       "</div>"
      ],
      "text/plain": [
       "                  feature score decrease\n",
       "2              Vorschaden       0.164675\n",
       "1         Vorversicherung       0.006665\n",
       "5        Alter_binned_<30       0.001669\n",
       "6      Alter_binned_30-50       0.001458\n",
       "7      Alter_binned_50-65       0.000818\n",
       "9        Alter_binned_>75       0.000446\n",
       "12          Alter_Fzg_enc       0.000053\n",
       "11     Vertriebskanal_enc       0.000005\n",
       "4   Jahresbeitrag_bin_enc       0.000002\n",
       "10      Regional_Code_enc       0.000002\n",
       "13        Geschlecht_Male       0.000001\n",
       "3             Kundentreue            0.0\n",
       "0           Fahrerlaubnis            0.0\n",
       "8      Alter_binned_65-75            0.0"
      ]
     },
     "execution_count": 67,
     "metadata": {},
     "output_type": "execute_result"
    }
   ],
   "source": [
    "# Create the classifier\n",
    "sgd_clf = SGDClassifier(**best_params)\n",
    "\n",
    "# Add estimator\n",
    "pipeline = make_pipeline(preprocessor, sgd_clf)\n",
    "\n",
    "# Fit the model\n",
    "pipeline.fit(X_train, y_train)\n",
    "\n",
    "# Performs Permutation\n",
    "permutation_score = permutation_importance(pipeline, X_train, y_train, n_repeats=10) \n",
    "\n",
    "# Unstack results showing the decrease in performance after shuffling features\n",
    "importance_df = pd.DataFrame(np.vstack((X_train.columns,\n",
    "                                        permutation_score.importances_mean)).T) \n",
    "importance_df.columns=['feature','score decrease']\n",
    "importance_df['score decrease'] = importance_df['score decrease'].abs()\n",
    "\n",
    "# Show the important features\n",
    "importance_df.sort_values(by=\"score decrease\", ascending = False) "
   ]
  },
  {
   "cell_type": "code",
   "execution_count": 68,
   "id": "964c958a",
   "metadata": {},
   "outputs": [],
   "source": [
    "# Drop the weakest features\n",
    "X_train.drop(columns = [\"Alter_binned_65-75\"], inplace = True)\n",
    "X_train.drop(columns = [\"Fahrerlaubnis\"], inplace = True)\n",
    "X_train.drop(columns = [\"Kundentreue\"], inplace = True)\n",
    "\n",
    "X_test.drop(columns = [\"Alter_binned_65-75\"], inplace = True)\n",
    "X_test.drop(columns = [\"Fahrerlaubnis\"], inplace = True)\n",
    "X_test.drop(columns = [\"Kundentreue\"], inplace = True)"
   ]
  },
  {
   "cell_type": "code",
   "execution_count": 69,
   "id": "c42abd94",
   "metadata": {},
   "outputs": [
    {
     "name": "stdout",
     "output_type": "stream",
     "text": [
      "Mean recall score: 0.9765849027800655\n",
      "Mean precision score: 0.6969396554498422\n",
      "Mean f1 score: 0.8133977287673455\n"
     ]
    }
   ],
   "source": [
    "# Create the classifier\n",
    "sgd_clf = SGDClassifier(**best_params)\n",
    "\n",
    "# Fit the model\n",
    "sgd_clf.fit(X_train, y_train)\n",
    "\n",
    "# Use recall as the scoring metric\n",
    "recall_scores = cross_val_score(sgd_clf, X_train, y_train, cv=5, scoring='recall')\n",
    "mean_recall = recall_scores.mean()\n",
    "print(\"Mean recall score:\", mean_recall)\n",
    "\n",
    "# Use precision as the scoring metric\n",
    "precision_scores = cross_val_score(sgd_clf, X_train, y_train, cv=5, scoring='precision')\n",
    "mean_precision = precision_scores.mean()\n",
    "print(\"Mean precision score:\", mean_precision)\n",
    "\n",
    "# Use f1 as the scoring metric\n",
    "f1_scores = cross_val_score(sgd_clf, X_train, y_train, cv=5, scoring='f1')\n",
    "mean_f1 = f1_scores.mean()\n",
    "print(\"Mean f1 score:\", mean_f1)"
   ]
  },
  {
   "cell_type": "markdown",
   "id": "2978d576",
   "metadata": {},
   "source": [
    "### Model evaluation"
   ]
  },
  {
   "cell_type": "code",
   "execution_count": 70,
   "id": "d541ba38",
   "metadata": {},
   "outputs": [
    {
     "name": "stdout",
     "output_type": "stream",
     "text": [
      "              precision    recall  f1-score   support\n",
      "\n",
      "         0.0       0.96      0.58      0.72     97576\n",
      "         1.0       0.70      0.98      0.81     97576\n",
      "\n",
      "    accuracy                           0.78    195152\n",
      "   macro avg       0.83      0.78      0.77    195152\n",
      "weighted avg       0.83      0.78      0.77    195152\n",
      "\n"
     ]
    }
   ],
   "source": [
    "# Fit the model\n",
    "sgd_clf.fit(X_train, y_train)\n",
    "\n",
    "# Predict the target classes on the test set\n",
    "y_pred = sgd_clf.predict(X_test)\n",
    "\n",
    "# Calculate the classification report\n",
    "report = classification_report(y_test, y_pred)\n",
    "print(report)"
   ]
  },
  {
   "cell_type": "markdown",
   "id": "761ba030",
   "metadata": {},
   "source": [
    "## Conclusion"
   ]
  },
  {
   "cell_type": "markdown",
   "id": "e79ab399",
   "metadata": {},
   "source": [
    "Based on the results of the classification report, it seems that the Random Forest model performed the best overall. Out of the three models, it had the highest weighted average and the highest recall score for both classes. This indicates that the model is accurately predicting the majority of instances of the minority class, which was the main metric of interest.\n",
    "\n",
    "In terms of precision, the Logistic Regression model had a slightly higher precision score, but its recall score was lower compared to the Random Forest model. On the other hand, the SDGClassifier had a high precision score for class 0, but a lower precision score for class 1 and a lower recall score for both classes compared to the Random Forest model.\n",
    "\n",
    "Considering the importance of recall for this task, it makes sense to choose the Random Forest model as the final model for this classification problem. Additionally, the weighted average score for the Random Forest model was also the highest among the three models, which shows that it is overall the best performing model."
   ]
  }
 ],
 "metadata": {
  "kernelspec": {
   "display_name": "Python 3 (ipykernel)",
   "language": "python",
   "name": "python3"
  },
  "language_info": {
   "codemirror_mode": {
    "name": "ipython",
    "version": 3
   },
   "file_extension": ".py",
   "mimetype": "text/x-python",
   "name": "python",
   "nbconvert_exporter": "python",
   "pygments_lexer": "ipython3",
   "version": "3.10.6"
  },
  "toc": {
   "base_numbering": 1,
   "nav_menu": {},
   "number_sections": true,
   "sideBar": true,
   "skip_h1_title": false,
   "title_cell": "Table of Contents",
   "title_sidebar": "Contents",
   "toc_cell": false,
   "toc_position": {},
   "toc_section_display": true,
   "toc_window_display": false
  },
  "varInspector": {
   "cols": {
    "lenName": 16,
    "lenType": 16,
    "lenVar": 40
   },
   "kernels_config": {
    "python": {
     "delete_cmd_postfix": "",
     "delete_cmd_prefix": "del ",
     "library": "var_list.py",
     "varRefreshCmd": "print(var_dic_list())"
    },
    "r": {
     "delete_cmd_postfix": ") ",
     "delete_cmd_prefix": "rm(",
     "library": "var_list.r",
     "varRefreshCmd": "cat(var_dic_list()) "
    }
   },
   "types_to_exclude": [
    "module",
    "function",
    "builtin_function_or_method",
    "instance",
    "_Feature"
   ],
   "window_display": false
  }
 },
 "nbformat": 4,
 "nbformat_minor": 5
}
