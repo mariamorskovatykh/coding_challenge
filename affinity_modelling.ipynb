{
 "cells": [
  {
   "cell_type": "markdown",
   "id": "a0ae066f",
   "metadata": {},
   "source": [
    "# Modeling the Affinity of Customers"
   ]
  },
  {
   "cell_type": "markdown",
   "id": "d0bb354a",
   "metadata": {},
   "source": [
    "## Import libraries"
   ]
  },
  {
   "cell_type": "code",
   "execution_count": 213,
   "id": "8409e66b",
   "metadata": {},
   "outputs": [],
   "source": [
    "import pandas as pd\n",
    "import numpy as np\n",
    "import matplotlib.pyplot as plt\n",
    "import seaborn as sns\n",
    "%matplotlib inline\n",
    "\n",
    "# Encoders\n",
    "from sklearn.preprocessing import OneHotEncoder\n",
    "from sklearn.preprocessing import OrdinalEncoder\n",
    "from sklearn.preprocessing import LabelEncoder\n",
    "\n",
    "# Scalers\n",
    "from sklearn.preprocessing import MinMaxScaler"
   ]
  },
  {
   "cell_type": "markdown",
   "id": "71f722bb",
   "metadata": {},
   "source": [
    "## Exploratory Data Analysis"
   ]
  },
  {
   "cell_type": "code",
   "execution_count": 165,
   "id": "6bb0f458",
   "metadata": {},
   "outputs": [],
   "source": [
    "# Import csv files as pandas dataframe\n",
    "customer = pd.read_csv(\"data/rest.csv\", sep = \";\")\n",
    "age_and_sex = pd.read_csv(\"data/alter_geschlecht.csv\")\n",
    "interest = pd.read_csv(\"data/interesse.csv\")"
   ]
  },
  {
   "cell_type": "code",
   "execution_count": 166,
   "id": "6c180210",
   "metadata": {},
   "outputs": [
    {
     "data": {
      "text/html": [
       "<div>\n",
       "<style scoped>\n",
       "    .dataframe tbody tr th:only-of-type {\n",
       "        vertical-align: middle;\n",
       "    }\n",
       "\n",
       "    .dataframe tbody tr th {\n",
       "        vertical-align: top;\n",
       "    }\n",
       "\n",
       "    .dataframe thead th {\n",
       "        text-align: right;\n",
       "    }\n",
       "</style>\n",
       "<table border=\"1\" class=\"dataframe\">\n",
       "  <thead>\n",
       "    <tr style=\"text-align: right;\">\n",
       "      <th></th>\n",
       "      <th>Fahrerlaubnis</th>\n",
       "      <th>Regional_Code</th>\n",
       "      <th>Vorversicherung</th>\n",
       "      <th>Alter_Fzg</th>\n",
       "      <th>Vorschaden</th>\n",
       "      <th>Jahresbeitrag</th>\n",
       "      <th>Vertriebskanal</th>\n",
       "      <th>Kundentreue</th>\n",
       "      <th>id</th>\n",
       "    </tr>\n",
       "  </thead>\n",
       "  <tbody>\n",
       "    <tr>\n",
       "      <th>0</th>\n",
       "      <td>1</td>\n",
       "      <td>15.0</td>\n",
       "      <td>1</td>\n",
       "      <td>1-2 Year</td>\n",
       "      <td>No</td>\n",
       "      <td>2630.0</td>\n",
       "      <td>124.0</td>\n",
       "      <td>74</td>\n",
       "      <td>317635</td>\n",
       "    </tr>\n",
       "    <tr>\n",
       "      <th>1</th>\n",
       "      <td>1</td>\n",
       "      <td>28.0</td>\n",
       "      <td>0</td>\n",
       "      <td>1-2 Year</td>\n",
       "      <td>Yes</td>\n",
       "      <td>2630.0</td>\n",
       "      <td>125.0</td>\n",
       "      <td>213</td>\n",
       "      <td>337993</td>\n",
       "    </tr>\n",
       "    <tr>\n",
       "      <th>2</th>\n",
       "      <td>1</td>\n",
       "      <td>33.0</td>\n",
       "      <td>0</td>\n",
       "      <td>1-2 Year</td>\n",
       "      <td>Yes</td>\n",
       "      <td>27204.0</td>\n",
       "      <td>124.0</td>\n",
       "      <td>114</td>\n",
       "      <td>160325</td>\n",
       "    </tr>\n",
       "    <tr>\n",
       "      <th>3</th>\n",
       "      <td>1</td>\n",
       "      <td>46.0</td>\n",
       "      <td>1</td>\n",
       "      <td>&lt; 1 Year</td>\n",
       "      <td>No</td>\n",
       "      <td>31999.0</td>\n",
       "      <td>152.0</td>\n",
       "      <td>251</td>\n",
       "      <td>141620</td>\n",
       "    </tr>\n",
       "    <tr>\n",
       "      <th>4</th>\n",
       "      <td>1</td>\n",
       "      <td>49.0</td>\n",
       "      <td>0</td>\n",
       "      <td>1-2 Year</td>\n",
       "      <td>Yes</td>\n",
       "      <td>28262.0</td>\n",
       "      <td>26.0</td>\n",
       "      <td>60</td>\n",
       "      <td>75060</td>\n",
       "    </tr>\n",
       "  </tbody>\n",
       "</table>\n",
       "</div>"
      ],
      "text/plain": [
       "   Fahrerlaubnis  Regional_Code  Vorversicherung Alter_Fzg Vorschaden  \\\n",
       "0              1           15.0                1  1-2 Year         No   \n",
       "1              1           28.0                0  1-2 Year        Yes   \n",
       "2              1           33.0                0  1-2 Year        Yes   \n",
       "3              1           46.0                1  < 1 Year         No   \n",
       "4              1           49.0                0  1-2 Year        Yes   \n",
       "\n",
       "   Jahresbeitrag  Vertriebskanal  Kundentreue      id  \n",
       "0         2630.0           124.0           74  317635  \n",
       "1         2630.0           125.0          213  337993  \n",
       "2        27204.0           124.0          114  160325  \n",
       "3        31999.0           152.0          251  141620  \n",
       "4        28262.0            26.0           60   75060  "
      ]
     },
     "execution_count": 166,
     "metadata": {},
     "output_type": "execute_result"
    }
   ],
   "source": [
    "customer.head()"
   ]
  },
  {
   "cell_type": "code",
   "execution_count": 167,
   "id": "9d2c90b0",
   "metadata": {},
   "outputs": [
    {
     "data": {
      "text/html": [
       "<div>\n",
       "<style scoped>\n",
       "    .dataframe tbody tr th:only-of-type {\n",
       "        vertical-align: middle;\n",
       "    }\n",
       "\n",
       "    .dataframe tbody tr th {\n",
       "        vertical-align: top;\n",
       "    }\n",
       "\n",
       "    .dataframe thead th {\n",
       "        text-align: right;\n",
       "    }\n",
       "</style>\n",
       "<table border=\"1\" class=\"dataframe\">\n",
       "  <thead>\n",
       "    <tr style=\"text-align: right;\">\n",
       "      <th></th>\n",
       "      <th>id</th>\n",
       "      <th>Geschlecht</th>\n",
       "      <th>Alter</th>\n",
       "    </tr>\n",
       "  </thead>\n",
       "  <tbody>\n",
       "    <tr>\n",
       "      <th>0</th>\n",
       "      <td>170727</td>\n",
       "      <td>Male</td>\n",
       "      <td>42</td>\n",
       "    </tr>\n",
       "    <tr>\n",
       "      <th>1</th>\n",
       "      <td>41795</td>\n",
       "      <td>Male</td>\n",
       "      <td>24</td>\n",
       "    </tr>\n",
       "    <tr>\n",
       "      <th>2</th>\n",
       "      <td>369321</td>\n",
       "      <td>Female</td>\n",
       "      <td>30</td>\n",
       "    </tr>\n",
       "    <tr>\n",
       "      <th>3</th>\n",
       "      <td>500463</td>\n",
       "      <td>Female</td>\n",
       "      <td>32</td>\n",
       "    </tr>\n",
       "    <tr>\n",
       "      <th>4</th>\n",
       "      <td>327695</td>\n",
       "      <td>Male</td>\n",
       "      <td>34</td>\n",
       "    </tr>\n",
       "  </tbody>\n",
       "</table>\n",
       "</div>"
      ],
      "text/plain": [
       "       id Geschlecht  Alter\n",
       "0  170727       Male     42\n",
       "1   41795       Male     24\n",
       "2  369321     Female     30\n",
       "3  500463     Female     32\n",
       "4  327695       Male     34"
      ]
     },
     "execution_count": 167,
     "metadata": {},
     "output_type": "execute_result"
    }
   ],
   "source": [
    "age_and_sex.head()"
   ]
  },
  {
   "cell_type": "code",
   "execution_count": 168,
   "id": "e363c669",
   "metadata": {},
   "outputs": [
    {
     "data": {
      "text/html": [
       "<div>\n",
       "<style scoped>\n",
       "    .dataframe tbody tr th:only-of-type {\n",
       "        vertical-align: middle;\n",
       "    }\n",
       "\n",
       "    .dataframe tbody tr th {\n",
       "        vertical-align: top;\n",
       "    }\n",
       "\n",
       "    .dataframe thead th {\n",
       "        text-align: right;\n",
       "    }\n",
       "</style>\n",
       "<table border=\"1\" class=\"dataframe\">\n",
       "  <thead>\n",
       "    <tr style=\"text-align: right;\">\n",
       "      <th></th>\n",
       "      <th>id</th>\n",
       "      <th>Interesse</th>\n",
       "    </tr>\n",
       "  </thead>\n",
       "  <tbody>\n",
       "    <tr>\n",
       "      <th>0</th>\n",
       "      <td>1</td>\n",
       "      <td>1.0</td>\n",
       "    </tr>\n",
       "    <tr>\n",
       "      <th>1</th>\n",
       "      <td>2</td>\n",
       "      <td>0.0</td>\n",
       "    </tr>\n",
       "    <tr>\n",
       "      <th>2</th>\n",
       "      <td>3</td>\n",
       "      <td>1.0</td>\n",
       "    </tr>\n",
       "    <tr>\n",
       "      <th>3</th>\n",
       "      <td>4</td>\n",
       "      <td>0.0</td>\n",
       "    </tr>\n",
       "    <tr>\n",
       "      <th>4</th>\n",
       "      <td>5</td>\n",
       "      <td>0.0</td>\n",
       "    </tr>\n",
       "  </tbody>\n",
       "</table>\n",
       "</div>"
      ],
      "text/plain": [
       "   id  Interesse\n",
       "0   1        1.0\n",
       "1   2        0.0\n",
       "2   3        1.0\n",
       "3   4        0.0\n",
       "4   5        0.0"
      ]
     },
     "execution_count": 168,
     "metadata": {},
     "output_type": "execute_result"
    }
   ],
   "source": [
    "interest.head()"
   ]
  },
  {
   "cell_type": "code",
   "execution_count": 169,
   "id": "cbc81a25",
   "metadata": {},
   "outputs": [
    {
     "name": "stdout",
     "output_type": "stream",
     "text": [
      "508146\n",
      "508146\n",
      "381109\n"
     ]
    }
   ],
   "source": [
    "# Exploring lenght of the tables\n",
    "print(len(customer))\n",
    "print(len(age_and_sex))\n",
    "print(len(interest))"
   ]
  },
  {
   "cell_type": "markdown",
   "id": "f9c6cbac",
   "metadata": {},
   "source": [
    "Interest table contains fewer rows than two other tables => In this scenario, we should only keep the rows in the \"customer\" and \"age_and_sex\" dataframes that match the IDs in the \"interest\" dataframe since the \"interest\" dataframe contains the target variable we want to predict. The rest we can keep for predicting after training the model"
   ]
  },
  {
   "cell_type": "code",
   "execution_count": 183,
   "id": "660979df",
   "metadata": {},
   "outputs": [
    {
     "data": {
      "text/html": [
       "<div>\n",
       "<style scoped>\n",
       "    .dataframe tbody tr th:only-of-type {\n",
       "        vertical-align: middle;\n",
       "    }\n",
       "\n",
       "    .dataframe tbody tr th {\n",
       "        vertical-align: top;\n",
       "    }\n",
       "\n",
       "    .dataframe thead th {\n",
       "        text-align: right;\n",
       "    }\n",
       "</style>\n",
       "<table border=\"1\" class=\"dataframe\">\n",
       "  <thead>\n",
       "    <tr style=\"text-align: right;\">\n",
       "      <th></th>\n",
       "      <th>id</th>\n",
       "      <th>Interesse</th>\n",
       "      <th>Geschlecht</th>\n",
       "      <th>Alter</th>\n",
       "      <th>Fahrerlaubnis</th>\n",
       "      <th>Regional_Code</th>\n",
       "      <th>Vorversicherung</th>\n",
       "      <th>Alter_Fzg</th>\n",
       "      <th>Vorschaden</th>\n",
       "      <th>Jahresbeitrag</th>\n",
       "      <th>Vertriebskanal</th>\n",
       "      <th>Kundentreue</th>\n",
       "    </tr>\n",
       "  </thead>\n",
       "  <tbody>\n",
       "    <tr>\n",
       "      <th>0</th>\n",
       "      <td>1</td>\n",
       "      <td>1.0</td>\n",
       "      <td>Male</td>\n",
       "      <td>44</td>\n",
       "      <td>1</td>\n",
       "      <td>28.0</td>\n",
       "      <td>0</td>\n",
       "      <td>&gt; 2 Years</td>\n",
       "      <td>Yes</td>\n",
       "      <td>40454.0</td>\n",
       "      <td>26.0</td>\n",
       "      <td>217</td>\n",
       "    </tr>\n",
       "    <tr>\n",
       "      <th>1</th>\n",
       "      <td>2</td>\n",
       "      <td>0.0</td>\n",
       "      <td>Male</td>\n",
       "      <td>76</td>\n",
       "      <td>1</td>\n",
       "      <td>3.0</td>\n",
       "      <td>0</td>\n",
       "      <td>1-2 Year</td>\n",
       "      <td>No</td>\n",
       "      <td>33536.0</td>\n",
       "      <td>26.0</td>\n",
       "      <td>183</td>\n",
       "    </tr>\n",
       "    <tr>\n",
       "      <th>2</th>\n",
       "      <td>3</td>\n",
       "      <td>1.0</td>\n",
       "      <td>Male</td>\n",
       "      <td>47</td>\n",
       "      <td>1</td>\n",
       "      <td>28.0</td>\n",
       "      <td>0</td>\n",
       "      <td>&gt; 2 Years</td>\n",
       "      <td>Yes</td>\n",
       "      <td>38294.0</td>\n",
       "      <td>26.0</td>\n",
       "      <td>27</td>\n",
       "    </tr>\n",
       "    <tr>\n",
       "      <th>3</th>\n",
       "      <td>4</td>\n",
       "      <td>0.0</td>\n",
       "      <td>Male</td>\n",
       "      <td>21</td>\n",
       "      <td>1</td>\n",
       "      <td>11.0</td>\n",
       "      <td>1</td>\n",
       "      <td>&lt; 1 Year</td>\n",
       "      <td>No</td>\n",
       "      <td>28619.0</td>\n",
       "      <td>152.0</td>\n",
       "      <td>203</td>\n",
       "    </tr>\n",
       "    <tr>\n",
       "      <th>4</th>\n",
       "      <td>5</td>\n",
       "      <td>0.0</td>\n",
       "      <td>Female</td>\n",
       "      <td>29</td>\n",
       "      <td>1</td>\n",
       "      <td>41.0</td>\n",
       "      <td>1</td>\n",
       "      <td>&lt; 1 Year</td>\n",
       "      <td>No</td>\n",
       "      <td>27496.0</td>\n",
       "      <td>152.0</td>\n",
       "      <td>39</td>\n",
       "    </tr>\n",
       "  </tbody>\n",
       "</table>\n",
       "</div>"
      ],
      "text/plain": [
       "   id  Interesse Geschlecht  Alter  Fahrerlaubnis  Regional_Code  \\\n",
       "0   1        1.0       Male     44              1           28.0   \n",
       "1   2        0.0       Male     76              1            3.0   \n",
       "2   3        1.0       Male     47              1           28.0   \n",
       "3   4        0.0       Male     21              1           11.0   \n",
       "4   5        0.0     Female     29              1           41.0   \n",
       "\n",
       "   Vorversicherung  Alter_Fzg Vorschaden  Jahresbeitrag  Vertriebskanal  \\\n",
       "0                0  > 2 Years        Yes        40454.0            26.0   \n",
       "1                0   1-2 Year         No        33536.0            26.0   \n",
       "2                0  > 2 Years        Yes        38294.0            26.0   \n",
       "3                1   < 1 Year         No        28619.0           152.0   \n",
       "4                1   < 1 Year         No        27496.0           152.0   \n",
       "\n",
       "   Kundentreue  \n",
       "0          217  \n",
       "1          183  \n",
       "2           27  \n",
       "3          203  \n",
       "4           39  "
      ]
     },
     "execution_count": 183,
     "metadata": {},
     "output_type": "execute_result"
    }
   ],
   "source": [
    "# Merge dataframes -> use left join for interest table\n",
    "data = interest.merge(age_and_sex, on='id', how='left')\n",
    "data = data.merge(customer, on='id', how='left')\n",
    "data.head()"
   ]
  },
  {
   "cell_type": "code",
   "execution_count": 184,
   "id": "a208519e",
   "metadata": {},
   "outputs": [
    {
     "name": "stdout",
     "output_type": "stream",
     "text": [
      "<class 'pandas.core.frame.DataFrame'>\n",
      "Int64Index: 381109 entries, 0 to 381108\n",
      "Data columns (total 12 columns):\n",
      " #   Column           Non-Null Count   Dtype  \n",
      "---  ------           --------------   -----  \n",
      " 0   id               381109 non-null  int64  \n",
      " 1   Interesse        381109 non-null  float64\n",
      " 2   Geschlecht       381109 non-null  object \n",
      " 3   Alter            381109 non-null  int64  \n",
      " 4   Fahrerlaubnis    381109 non-null  int64  \n",
      " 5   Regional_Code    381109 non-null  float64\n",
      " 6   Vorversicherung  381109 non-null  int64  \n",
      " 7   Alter_Fzg        381109 non-null  object \n",
      " 8   Vorschaden       381109 non-null  object \n",
      " 9   Jahresbeitrag    381109 non-null  float64\n",
      " 10  Vertriebskanal   381109 non-null  float64\n",
      " 11  Kundentreue      381109 non-null  int64  \n",
      "dtypes: float64(4), int64(5), object(3)\n",
      "memory usage: 37.8+ MB\n",
      "None\n"
     ]
    }
   ],
   "source": [
    "# Examine the structure of the table\n",
    "print(data.info())"
   ]
  },
  {
   "cell_type": "code",
   "execution_count": 185,
   "id": "74cdfe05",
   "metadata": {},
   "outputs": [
    {
     "name": "stdout",
     "output_type": "stream",
     "text": [
      "id                 0\n",
      "Interesse          0\n",
      "Geschlecht         0\n",
      "Alter              0\n",
      "Fahrerlaubnis      0\n",
      "Regional_Code      0\n",
      "Vorversicherung    0\n",
      "Alter_Fzg          0\n",
      "Vorschaden         0\n",
      "Jahresbeitrag      0\n",
      "Vertriebskanal     0\n",
      "Kundentreue        0\n",
      "dtype: int64\n"
     ]
    }
   ],
   "source": [
    "# Explore missing values\n",
    "print(data.isna().sum()) # -> no missing values"
   ]
  },
  {
   "cell_type": "code",
   "execution_count": 186,
   "id": "bd9c1d4e",
   "metadata": {},
   "outputs": [
    {
     "name": "stdout",
     "output_type": "stream",
     "text": [
      "0\n"
     ]
    }
   ],
   "source": [
    "# Explore duplicated rows\n",
    "print(data.duplicated().sum()) # -> no duplicates"
   ]
  },
  {
   "cell_type": "code",
   "execution_count": 187,
   "id": "35285db8",
   "metadata": {},
   "outputs": [
    {
     "name": "stdout",
     "output_type": "stream",
     "text": [
      "[1. 0.]\n",
      "['Male' 'Female']\n",
      "[1 0]\n",
      "[0 1]\n",
      "['> 2 Years' '1-2 Year' '< 1 Year']\n",
      "['Yes' 'No']\n"
     ]
    }
   ],
   "source": [
    "# Detecting outliers\n",
    "\n",
    "# Check categorical features on unexpected values\n",
    "print(data[\"Interesse\"].unique())\n",
    "print(data[\"Geschlecht\"].unique())\n",
    "print(data[\"Fahrerlaubnis\"].unique())\n",
    "print(data[\"Vorversicherung\"].unique())\n",
    "print(data[\"Alter_Fzg\"].unique())\n",
    "print(data[\"Vorschaden\"].unique())"
   ]
  },
  {
   "cell_type": "code",
   "execution_count": 188,
   "id": "3b707464",
   "metadata": {},
   "outputs": [
    {
     "data": {
      "text/plain": [
       "array([ 0.,  1.,  2.,  3.,  4.,  5.,  6.,  7.,  8.,  9., 10., 11., 12.,\n",
       "       13., 14., 15., 16., 17., 18., 19., 20., 21., 22., 23., 24., 25.,\n",
       "       26., 27., 28., 29., 30., 31., 32., 33., 34., 35., 36., 37., 38.,\n",
       "       39., 40., 41., 42., 43., 44., 45., 46., 47., 48., 49., 50., 51.,\n",
       "       52.])"
      ]
     },
     "execution_count": 188,
     "metadata": {},
     "output_type": "execute_result"
    }
   ],
   "source": [
    "# Check values in Regional_Code\n",
    "np.sort(data['Regional_Code'].unique()) # -> 53 regions"
   ]
  },
  {
   "cell_type": "code",
   "execution_count": 189,
   "id": "f869da90",
   "metadata": {},
   "outputs": [
    {
     "data": {
      "text/plain": [
       "array([  1.,   2.,   3.,   4.,   6.,   7.,   8.,   9.,  10.,  11.,  12.,\n",
       "        13.,  14.,  15.,  16.,  17.,  18.,  19.,  20.,  21.,  22.,  23.,\n",
       "        24.,  25.,  26.,  27.,  28.,  29.,  30.,  31.,  32.,  33.,  34.,\n",
       "        35.,  36.,  37.,  38.,  39.,  40.,  41.,  42.,  43.,  44.,  45.,\n",
       "        46.,  47.,  48.,  49.,  50.,  51.,  52.,  53.,  54.,  55.,  56.,\n",
       "        57.,  58.,  59.,  60.,  61.,  62.,  63.,  64.,  65.,  66.,  67.,\n",
       "        68.,  69.,  70.,  71.,  73.,  74.,  75.,  76.,  78.,  79.,  80.,\n",
       "        81.,  82.,  83.,  84.,  86.,  87.,  88.,  89.,  90.,  91.,  92.,\n",
       "        93.,  94.,  95.,  96.,  97.,  98.,  99., 100., 101., 102., 103.,\n",
       "       104., 105., 106., 107., 108., 109., 110., 111., 112., 113., 114.,\n",
       "       115., 116., 117., 118., 119., 120., 121., 122., 123., 124., 125.,\n",
       "       126., 127., 128., 129., 130., 131., 132., 133., 134., 135., 136.,\n",
       "       137., 138., 139., 140., 143., 144., 145., 146., 147., 148., 149.,\n",
       "       150., 151., 152., 153., 154., 155., 156., 157., 158., 159., 160.,\n",
       "       163.])"
      ]
     },
     "execution_count": 189,
     "metadata": {},
     "output_type": "execute_result"
    }
   ],
   "source": [
    "# Check values in Vertriebskanal\n",
    "np.sort(data['Vertriebskanal'].unique()) # -> 163 channels"
   ]
  },
  {
   "cell_type": "code",
   "execution_count": 190,
   "id": "cfe8dd56",
   "metadata": {},
   "outputs": [
    {
     "data": {
      "image/png": "[encoded data removed]",
      "text/plain": [
       "<Figure size 1200x400 with 2 Axes>"
      ]
     },
     "metadata": {},
     "output_type": "display_data"
    }
   ],
   "source": [
    "# Check Regional_Code and Vertriebskanal distribution\n",
    "fig = plt.figure(figsize=(12,4))\n",
    "\n",
    "plt.subplot(1, 2, 1)\n",
    "plt.hist(data['Regional_Code'], bins=20, rwidth=0.8)\n",
    "plt.xlabel('Regions')\n",
    "plt.ylabel('Frequency')\n",
    "\n",
    "plt.subplot(1, 2, 2)\n",
    "plt.hist(data['Vertriebskanal'], bins=30, rwidth=0.8)\n",
    "plt.xlabel('Channels')\n",
    "plt.ylabel('Frequency')\n",
    "\n",
    "plt.show()"
   ]
  },
  {
   "cell_type": "code",
   "execution_count": 191,
   "id": "048b8258",
   "metadata": {},
   "outputs": [
    {
     "data": {
      "image/png": "[encoded data removed]",
      "text/plain": [
       "<Figure size 1200x400 with 2 Axes>"
      ]
     },
     "metadata": {},
     "output_type": "display_data"
    }
   ],
   "source": [
    "# Check numerical features\n",
    "\n",
    "# Check age and annual premium\n",
    "fig = plt.figure(figsize=(12,4))\n",
    "\n",
    "plt.subplot(1, 2, 1)\n",
    "plt.hist(data['Alter'], bins=20, rwidth=0.8)\n",
    "plt.xlabel('Age')\n",
    "plt.ylabel('Frequency')\n",
    "\n",
    "plt.subplot(1, 2, 2)\n",
    "plt.hist(data['Jahresbeitrag'], bins=100, rwidth=0.8)\n",
    "plt.xlabel('Annual insurance premium')\n",
    "plt.ylabel('Frequency')\n",
    "\n",
    "plt.show()"
   ]
  },
  {
   "cell_type": "code",
   "execution_count": 192,
   "id": "a4f8e4aa",
   "metadata": {},
   "outputs": [
    {
     "data": {
      "image/png": "[encoded data removed]",
      "text/plain": [
       "<Figure size 640x480 with 1 Axes>"
      ]
     },
     "metadata": {},
     "output_type": "display_data"
    }
   ],
   "source": [
    "# Plot boxplot of Jahresbeitrag column\n",
    "plt.boxplot(data['Jahresbeitrag'])\n",
    "plt.xlabel('Annual insurance premium')\n",
    "plt.ylabel('Values')\n",
    "plt.show()"
   ]
  },
  {
   "cell_type": "code",
   "execution_count": 193,
   "id": "990e5189",
   "metadata": {},
   "outputs": [
    {
     "data": {
      "image/png": "[encoded data removed]",
      "text/plain": [
       "<Figure size 640x480 with 1 Axes>"
      ]
     },
     "metadata": {},
     "output_type": "display_data"
    }
   ],
   "source": [
    "# Check values in Kundentreue\n",
    "plt.hist(data['Kundentreue'], bins=20, rwidth=0.8)\n",
    "plt.xlabel('Customer Loyalty')\n",
    "plt.ylabel('Frequency')\n",
    "plt.show()"
   ]
  },
  {
   "cell_type": "markdown",
   "id": "c64373aa",
   "metadata": {},
   "source": [
    "Conclusions:\n",
    "We have 7 categoracal variables: Geschlecht, Fahrerlaubnis, Regional_Code, Vorversicherung, Alter_Fzg, Vorschaden and Vertriebskanal. Some of them need to be encoded:\n",
    "* Geschlecht -> one-hot-encoding since they don't have ordinal structure\n",
    "* Alter_Fzg -> ordinal encoder since they have hierarchy\n",
    "* Vorschaden -> label encoder that put 1 if there are previous damages and 0 if not\n",
    "* Regional_Code and Vertriebskanal -> it is necessary to encode them using different strategy since some algorithms are sensitive to the ordering of the categories and may assign a higher weight to categories with larger numerical values -> use target encoding\n",
    "\n",
    "Our numerical values are: Alter, Jahresbeitrag and Kundentreue.\n",
    "\n",
    "* Jahresbeitrag -> has a lot of extreme values but I think that they are full part of the dataset and shouldn't be removed -> MinMax Scaling\n",
    "* Alter -> MinMax Scaling as for Jahresbeitrag. Also, it may make sense to discretize Alter column into groups according to car accident statistics (https://www.gdv.de/gdv/themen/mobilitaet/so-wirkt-sich-das-alter-auf-den-kfz-versicherungsbeitrag-aus-12464)\n",
    "* Kundentreue -> MinMax Scaling as for Jahresbeitrag\n",
    "\n",
    "Note: I will first proceed with logistic regression, such algorithms assume that the input variables are on the same scale and that the scale of the coefficients is meaningful. That is why I need to scale my variables. I will also later try other algorithms such as random forest. Such algorithms are not sensitive to the scale of the features, so normalization or scaling is not necessary. But still scaling doesn't hurt."
   ]
  },
  {
   "cell_type": "markdown",
   "id": "52a2a911",
   "metadata": {},
   "source": [
    "## Normalizing, Encoding, and Feature Engineering"
   ]
  },
  {
   "cell_type": "markdown",
   "id": "033fdad9",
   "metadata": {},
   "source": [
    "Note: I realize that I can implement this step as a part of pipeline. However, I want to run some preliminary statistical analysis and check correlation between variables once I transform them"
   ]
  },
  {
   "cell_type": "markdown",
   "id": "7d260df5",
   "metadata": {},
   "source": [
    "### Categorical Variables"
   ]
  },
  {
   "cell_type": "code",
   "execution_count": 194,
   "id": "bc526933",
   "metadata": {},
   "outputs": [],
   "source": [
    "# Geschlecht\n",
    "\n",
    "# Instantiate the OneHotEncoder\n",
    "ohe_binary = OneHotEncoder(sparse = False, drop=\"if_binary\") \n",
    "\n",
    "# Fit encoder\n",
    "ohe_binary.fit(data[['Geschlecht']]) \n",
    "\n",
    "# Transform the current \"Geschlecht\" column\n",
    "data[ohe_binary.get_feature_names_out()] = ohe_binary.transform(data[['Geschlecht']])\n",
    "\n",
    "# Drop the column \"Geschlecht\" which has been encoded\n",
    "data.drop(columns = [\"Geschlecht\"], inplace = True)"
   ]
  },
  {
   "cell_type": "code",
   "execution_count": 195,
   "id": "85e1e3b9",
   "metadata": {},
   "outputs": [],
   "source": [
    "# Alter_Fzg\n",
    "\n",
    "# Instantiate the OrdinalEncoder\n",
    "ordinal_encoder = OrdinalEncoder()\n",
    "\n",
    "# Define the mapping for each category in the \"Alter_Fzg\" column\n",
    "ordinal_mapping = {\"< 1 Year\": 0, \"1-2 Year\": 1, \"> 2 Years\": 2}\n",
    "\n",
    "# Creating an array that contains the categories of the \"Alter_Fzg\" column\n",
    "Alter_Fzg_array = data['Alter_Fzg'].map(lambda x: ordinal_mapping[x]).values.reshape(-1, 1)\n",
    "\n",
    "# Fit and transform the Alter_Fzg_array to a numerical representation\n",
    "Alter_Fzg_encoded = ordinal_encoder.fit_transform(Alter_Fzg_array)\n",
    "\n",
    "# Adding the encoded \"Alter_Fzg\" column to the original dataframe\n",
    "data['Alter_Fzg_enc'] = Alter_Fzg_encoded\n",
    "\n",
    "# Drop the column \"Alter_Fzg\" which has been encoded\n",
    "data.drop(columns = [\"Alter_Fzg\"], inplace = True)"
   ]
  },
  {
   "cell_type": "code",
   "execution_count": 196,
   "id": "55f30d9d",
   "metadata": {},
   "outputs": [],
   "source": [
    "# Vorschaden\n",
    "\n",
    "# Initialize the LabelEncoder\n",
    "le = LabelEncoder()\n",
    "\n",
    "# Fit and transform the Vorschaden column\n",
    "data['Vorschaden'] = le.fit_transform(data['Vorschaden'].values)"
   ]
  },
  {
   "cell_type": "code",
   "execution_count": 197,
   "id": "0c10c14b",
   "metadata": {},
   "outputs": [],
   "source": [
    "# Regional_Code and Vertriebskanal \n",
    "\n",
    "# Import function from utils\n",
    "from utils.functions import calc_target_encoding\n",
    "\n",
    "# Apply function to Regional_Code and Vertriebskanal columns\n",
    "target_mean_regional = calc_target_encoding(data, 'Regional_Code', 'Interesse')\n",
    "target_mean_channel = calc_target_encoding(data, 'Vertriebskanal', 'Interesse')\n",
    "\n",
    "# Apply target encoding to the original data\n",
    "data['Regional_Code_enc'] = data['Regional_Code'].map(target_mean_regional)\n",
    "data['Vertriebskanal_enc'] = data['Vertriebskanal'].map(target_mean_channel)\n",
    "\n",
    "# Drop columns which have been encoded\n",
    "data.drop(columns = [\"Regional_Code\"], inplace = True)\n",
    "data.drop(columns = [\"Vertriebskanal\"], inplace = True)"
   ]
  },
  {
   "cell_type": "code",
   "execution_count": 178,
   "id": "70b5c9ef",
   "metadata": {},
   "outputs": [
    {
     "data": {
      "text/html": [
       "<div>\n",
       "<style scoped>\n",
       "    .dataframe tbody tr th:only-of-type {\n",
       "        vertical-align: middle;\n",
       "    }\n",
       "\n",
       "    .dataframe tbody tr th {\n",
       "        vertical-align: top;\n",
       "    }\n",
       "\n",
       "    .dataframe thead th {\n",
       "        text-align: right;\n",
       "    }\n",
       "</style>\n",
       "<table border=\"1\" class=\"dataframe\">\n",
       "  <thead>\n",
       "    <tr style=\"text-align: right;\">\n",
       "      <th></th>\n",
       "      <th>id</th>\n",
       "      <th>Interesse</th>\n",
       "      <th>Alter</th>\n",
       "      <th>Fahrerlaubnis</th>\n",
       "      <th>Vorversicherung</th>\n",
       "      <th>Vorschaden</th>\n",
       "      <th>Jahresbeitrag</th>\n",
       "      <th>Kundentreue</th>\n",
       "      <th>Geschlecht_Male</th>\n",
       "      <th>Alter_Fzg_enc</th>\n",
       "      <th>Regional_Code_enc</th>\n",
       "      <th>Vertriebskanal_enc</th>\n",
       "    </tr>\n",
       "  </thead>\n",
       "  <tbody>\n",
       "    <tr>\n",
       "      <th>0</th>\n",
       "      <td>1</td>\n",
       "      <td>1.0</td>\n",
       "      <td>44</td>\n",
       "      <td>1</td>\n",
       "      <td>0</td>\n",
       "      <td>1</td>\n",
       "      <td>40454.0</td>\n",
       "      <td>217</td>\n",
       "      <td>1.0</td>\n",
       "      <td>2.0</td>\n",
       "      <td>0.187163</td>\n",
       "      <td>0.199385</td>\n",
       "    </tr>\n",
       "    <tr>\n",
       "      <th>1</th>\n",
       "      <td>2</td>\n",
       "      <td>0.0</td>\n",
       "      <td>76</td>\n",
       "      <td>1</td>\n",
       "      <td>0</td>\n",
       "      <td>0</td>\n",
       "      <td>33536.0</td>\n",
       "      <td>183</td>\n",
       "      <td>1.0</td>\n",
       "      <td>1.0</td>\n",
       "      <td>0.127662</td>\n",
       "      <td>0.199385</td>\n",
       "    </tr>\n",
       "    <tr>\n",
       "      <th>2</th>\n",
       "      <td>3</td>\n",
       "      <td>1.0</td>\n",
       "      <td>47</td>\n",
       "      <td>1</td>\n",
       "      <td>0</td>\n",
       "      <td>1</td>\n",
       "      <td>38294.0</td>\n",
       "      <td>27</td>\n",
       "      <td>1.0</td>\n",
       "      <td>2.0</td>\n",
       "      <td>0.187163</td>\n",
       "      <td>0.199385</td>\n",
       "    </tr>\n",
       "    <tr>\n",
       "      <th>3</th>\n",
       "      <td>4</td>\n",
       "      <td>0.0</td>\n",
       "      <td>21</td>\n",
       "      <td>1</td>\n",
       "      <td>1</td>\n",
       "      <td>0</td>\n",
       "      <td>28619.0</td>\n",
       "      <td>203</td>\n",
       "      <td>1.0</td>\n",
       "      <td>0.0</td>\n",
       "      <td>0.112760</td>\n",
       "      <td>0.028624</td>\n",
       "    </tr>\n",
       "    <tr>\n",
       "      <th>4</th>\n",
       "      <td>5</td>\n",
       "      <td>0.0</td>\n",
       "      <td>29</td>\n",
       "      <td>1</td>\n",
       "      <td>1</td>\n",
       "      <td>0</td>\n",
       "      <td>27496.0</td>\n",
       "      <td>39</td>\n",
       "      <td>0.0</td>\n",
       "      <td>0.0</td>\n",
       "      <td>0.121776</td>\n",
       "      <td>0.028624</td>\n",
       "    </tr>\n",
       "  </tbody>\n",
       "</table>\n",
       "</div>"
      ],
      "text/plain": [
       "   id  Interesse  Alter  Fahrerlaubnis  Vorversicherung  Vorschaden  \\\n",
       "0   1        1.0     44              1                0           1   \n",
       "1   2        0.0     76              1                0           0   \n",
       "2   3        1.0     47              1                0           1   \n",
       "3   4        0.0     21              1                1           0   \n",
       "4   5        0.0     29              1                1           0   \n",
       "\n",
       "   Jahresbeitrag  Kundentreue  Geschlecht_Male  Alter_Fzg_enc  \\\n",
       "0        40454.0          217              1.0            2.0   \n",
       "1        33536.0          183              1.0            1.0   \n",
       "2        38294.0           27              1.0            2.0   \n",
       "3        28619.0          203              1.0            0.0   \n",
       "4        27496.0           39              0.0            0.0   \n",
       "\n",
       "   Regional_Code_enc  Vertriebskanal_enc  \n",
       "0           0.187163            0.199385  \n",
       "1           0.127662            0.199385  \n",
       "2           0.187163            0.199385  \n",
       "3           0.112760            0.028624  \n",
       "4           0.121776            0.028624  "
      ]
     },
     "execution_count": 178,
     "metadata": {},
     "output_type": "execute_result"
    }
   ],
   "source": [
    "data.head()"
   ]
  },
  {
   "cell_type": "markdown",
   "id": "0f3f4912",
   "metadata": {},
   "source": [
    "### Numerical Variables"
   ]
  },
  {
   "cell_type": "code",
   "execution_count": 208,
   "id": "d45f3f08",
   "metadata": {},
   "outputs": [],
   "source": [
    "# Discretize Alter column\n",
    "bins = [0, 30, 50, 65, 75, 100]\n",
    "bin_labels = ['<30', '30-50', '50-65', '65-75', '>75']\n",
    "data['Alter_binned'] = pd.cut(data['Alter'], bins=bins, labels=bin_labels, right=False)"
   ]
  },
  {
   "cell_type": "code",
   "execution_count": 211,
   "id": "0aedcf74",
   "metadata": {},
   "outputs": [],
   "source": [
    "# one-hot encode the Alter_binned column\n",
    "data = pd.get_dummies(data, columns=['Alter_binned'])"
   ]
  },
  {
   "cell_type": "code",
   "execution_count": 214,
   "id": "675b89ea",
   "metadata": {},
   "outputs": [],
   "source": [
    "# Normalizing numerical columns\n",
    "\n",
    "# Select the columns to be normalized\n",
    "columns_to_normalize = ['Jahresbeitrag', 'Alter', 'Kundentreue']\n",
    "\n",
    "# create an instance of MinMaxScaler\n",
    "scaler = MinMaxScaler()\n",
    "\n",
    "# fit and transform the data\n",
    "data[columns_to_normalize] = scaler.fit_transform(data[columns_to_normalize])"
   ]
  },
  {
   "cell_type": "code",
   "execution_count": null,
   "id": "07fcb19a",
   "metadata": {},
   "outputs": [],
   "source": []
  },
  {
   "cell_type": "code",
   "execution_count": null,
   "id": "289e6046",
   "metadata": {},
   "outputs": [],
   "source": []
  },
  {
   "cell_type": "code",
   "execution_count": null,
   "id": "63b9ae83",
   "metadata": {},
   "outputs": [],
   "source": []
  },
  {
   "cell_type": "code",
   "execution_count": null,
   "id": "81e22333",
   "metadata": {},
   "outputs": [],
   "source": []
  },
  {
   "cell_type": "code",
   "execution_count": 201,
   "id": "0d1ce761",
   "metadata": {},
   "outputs": [
    {
     "data": {
      "image/png": "[encoded data removed]",
      "text/plain": [
       "<Figure size 640x480 with 1 Axes>"
      ]
     },
     "metadata": {},
     "output_type": "display_data"
    }
   ],
   "source": [
    "# create bins for the Alter column\n",
    "bins = [21, 25, 30, 35, 40, 45, 50, 55, 60, 65, 70, 75, 80, 85, 90, 100]\n",
    "bin_labels = ['<21', '21-25', '25-30', '30-35', '35-40', '40-45', '45-50', '50-55', '55-60', '60-65', '65-70', '70-75', '75-80', '80-85', '90-100']\n",
    "data['Alter_binned'] = pd.cut(data['Alter'], bins=bins, labels=bin_labels, right=False)\n",
    "\n",
    "# plot Alter_binned on the x-axis and Jahresbeitrag on the y-axis\n",
    "sns.boxplot(x=data['Alter_binned'], y=data['Jahresbeitrag'])\n",
    "plt.xlabel('Alter')\n",
    "plt.ylabel('Jahresbeitrag')\n",
    "plt.show()\n"
   ]
  },
  {
   "cell_type": "code",
   "execution_count": null,
   "id": "e27759b0",
   "metadata": {},
   "outputs": [],
   "source": []
  },
  {
   "cell_type": "code",
   "execution_count": null,
   "id": "29cc6050",
   "metadata": {},
   "outputs": [],
   "source": []
  },
  {
   "cell_type": "code",
   "execution_count": null,
   "id": "94e27133",
   "metadata": {},
   "outputs": [],
   "source": []
  },
  {
   "cell_type": "code",
   "execution_count": null,
   "id": "7894b420",
   "metadata": {},
   "outputs": [],
   "source": [
    "# Drop the column \"id\" since we don't need it anymore\n",
    "data.drop(columns = [\"id\"], inplace = True)"
   ]
  },
  {
   "cell_type": "code",
   "execution_count": null,
   "id": "b71c9269",
   "metadata": {},
   "outputs": [],
   "source": []
  },
  {
   "cell_type": "code",
   "execution_count": null,
   "id": "78192252",
   "metadata": {},
   "outputs": [],
   "source": []
  },
  {
   "cell_type": "code",
   "execution_count": 109,
   "id": "b58fb5d6",
   "metadata": {},
   "outputs": [
    {
     "data": {
      "text/plain": [
       "array([ 0.,  1.,  2.,  3.,  4.,  5.,  6.,  7.,  8.,  9., 10., 11., 12.,\n",
       "       13., 14., 15., 16., 17., 18., 19., 20., 21., 22., 23., 24., 25.,\n",
       "       26., 27., 28., 29., 30., 31., 32., 33., 34., 35., 36., 37., 38.,\n",
       "       39., 40., 41., 42., 43., 44., 45., 46., 47., 48., 49., 50., 51.,\n",
       "       52.])"
      ]
     },
     "execution_count": 109,
     "metadata": {},
     "output_type": "execute_result"
    }
   ],
   "source": [
    "np.sort(data[\"Regional_Code\"].unique())"
   ]
  },
  {
   "cell_type": "code",
   "execution_count": 110,
   "id": "f75af322",
   "metadata": {},
   "outputs": [
    {
     "data": {
      "text/plain": [
       "53"
      ]
     },
     "execution_count": 110,
     "metadata": {},
     "output_type": "execute_result"
    }
   ],
   "source": [
    "len(data[\"Regional_Code\"].unique())"
   ]
  },
  {
   "cell_type": "code",
   "execution_count": 88,
   "id": "0b30bd2c",
   "metadata": {},
   "outputs": [
    {
     "data": {
      "text/plain": [
       "2630.0"
      ]
     },
     "execution_count": 88,
     "metadata": {},
     "output_type": "execute_result"
    }
   ],
   "source": [
    "data['Jahresbeitrag'].min()"
   ]
  },
  {
   "cell_type": "code",
   "execution_count": 111,
   "id": "e1a009ae",
   "metadata": {},
   "outputs": [
    {
     "data": {
      "text/plain": [
       "540165.0"
      ]
     },
     "execution_count": 111,
     "metadata": {},
     "output_type": "execute_result"
    }
   ],
   "source": [
    "data['Jahresbeitrag'].max()"
   ]
  },
  {
   "cell_type": "code",
   "execution_count": 68,
   "id": "c3874007",
   "metadata": {},
   "outputs": [],
   "source": [
    "mean = data['Jahresbeitrag'].mean()\n",
    "std = data['Jahresbeitrag'].std()\n",
    "\n",
    "data['z_score'] = (data['Jahresbeitrag'] - mean) / std\n",
    "threshold = 3\n",
    "outliers = data[data['z_score'] > threshold]\n"
   ]
  },
  {
   "cell_type": "code",
   "execution_count": 85,
   "id": "6482db49",
   "metadata": {},
   "outputs": [
    {
     "data": {
      "text/plain": [
       "540165.0"
      ]
     },
     "execution_count": 85,
     "metadata": {},
     "output_type": "execute_result"
    }
   ],
   "source": [
    "outliers['Jahresbeitrag'].max()"
   ]
  },
  {
   "cell_type": "code",
   "execution_count": 86,
   "id": "f7a10ac5",
   "metadata": {},
   "outputs": [
    {
     "data": {
      "text/plain": [
       "61893.0"
      ]
     },
     "execution_count": 86,
     "metadata": {},
     "output_type": "execute_result"
    }
   ],
   "source": [
    "outliers['Jahresbeitrag'].min()"
   ]
  },
  {
   "cell_type": "code",
   "execution_count": 90,
   "id": "de41f92a",
   "metadata": {},
   "outputs": [
    {
     "data": {
      "text/html": [
       "<div>\n",
       "<style scoped>\n",
       "    .dataframe tbody tr th:only-of-type {\n",
       "        vertical-align: middle;\n",
       "    }\n",
       "\n",
       "    .dataframe tbody tr th {\n",
       "        vertical-align: top;\n",
       "    }\n",
       "\n",
       "    .dataframe thead th {\n",
       "        text-align: right;\n",
       "    }\n",
       "</style>\n",
       "<table border=\"1\" class=\"dataframe\">\n",
       "  <thead>\n",
       "    <tr style=\"text-align: right;\">\n",
       "      <th></th>\n",
       "      <th>id</th>\n",
       "      <th>Interesse</th>\n",
       "      <th>Geschlecht</th>\n",
       "      <th>Alter</th>\n",
       "      <th>Fahrerlaubnis</th>\n",
       "      <th>Regional_Code</th>\n",
       "      <th>Vorversicherung</th>\n",
       "      <th>Alter_Fzg</th>\n",
       "      <th>Vorschaden</th>\n",
       "      <th>Jahresbeitrag</th>\n",
       "      <th>Vertriebskanal</th>\n",
       "      <th>Kundentreue</th>\n",
       "      <th>z_score</th>\n",
       "    </tr>\n",
       "  </thead>\n",
       "  <tbody>\n",
       "    <tr>\n",
       "      <th>54743</th>\n",
       "      <td>54744</td>\n",
       "      <td>1.0</td>\n",
       "      <td>Male</td>\n",
       "      <td>26</td>\n",
       "      <td>1</td>\n",
       "      <td>28.0</td>\n",
       "      <td>0</td>\n",
       "      <td>&lt; 1 Year</td>\n",
       "      <td>Yes</td>\n",
       "      <td>540165.0</td>\n",
       "      <td>156.0</td>\n",
       "      <td>245</td>\n",
       "      <td>29.605299</td>\n",
       "    </tr>\n",
       "    <tr>\n",
       "      <th>144282</th>\n",
       "      <td>144283</td>\n",
       "      <td>0.0</td>\n",
       "      <td>Female</td>\n",
       "      <td>53</td>\n",
       "      <td>1</td>\n",
       "      <td>28.0</td>\n",
       "      <td>1</td>\n",
       "      <td>1-2 Year</td>\n",
       "      <td>No</td>\n",
       "      <td>540165.0</td>\n",
       "      <td>26.0</td>\n",
       "      <td>134</td>\n",
       "      <td>29.605299</td>\n",
       "    </tr>\n",
       "    <tr>\n",
       "      <th>190154</th>\n",
       "      <td>190155</td>\n",
       "      <td>0.0</td>\n",
       "      <td>Male</td>\n",
       "      <td>47</td>\n",
       "      <td>1</td>\n",
       "      <td>28.0</td>\n",
       "      <td>0</td>\n",
       "      <td>1-2 Year</td>\n",
       "      <td>Yes</td>\n",
       "      <td>540165.0</td>\n",
       "      <td>42.0</td>\n",
       "      <td>24</td>\n",
       "      <td>29.605299</td>\n",
       "    </tr>\n",
       "    <tr>\n",
       "      <th>268332</th>\n",
       "      <td>268333</td>\n",
       "      <td>0.0</td>\n",
       "      <td>Male</td>\n",
       "      <td>46</td>\n",
       "      <td>1</td>\n",
       "      <td>28.0</td>\n",
       "      <td>0</td>\n",
       "      <td>1-2 Year</td>\n",
       "      <td>Yes</td>\n",
       "      <td>540165.0</td>\n",
       "      <td>124.0</td>\n",
       "      <td>59</td>\n",
       "      <td>29.605299</td>\n",
       "    </tr>\n",
       "  </tbody>\n",
       "</table>\n",
       "</div>"
      ],
      "text/plain": [
       "            id  Interesse Geschlecht  Alter  Fahrerlaubnis  Regional_Code  \\\n",
       "54743    54744        1.0       Male     26              1           28.0   \n",
       "144282  144283        0.0     Female     53              1           28.0   \n",
       "190154  190155        0.0       Male     47              1           28.0   \n",
       "268332  268333        0.0       Male     46              1           28.0   \n",
       "\n",
       "        Vorversicherung Alter_Fzg Vorschaden  Jahresbeitrag  Vertriebskanal  \\\n",
       "54743                 0  < 1 Year        Yes       540165.0           156.0   \n",
       "144282                1  1-2 Year         No       540165.0            26.0   \n",
       "190154                0  1-2 Year        Yes       540165.0            42.0   \n",
       "268332                0  1-2 Year        Yes       540165.0           124.0   \n",
       "\n",
       "        Kundentreue    z_score  \n",
       "54743           245  29.605299  \n",
       "144282          134  29.605299  \n",
       "190154           24  29.605299  \n",
       "268332           59  29.605299  "
      ]
     },
     "execution_count": 90,
     "metadata": {},
     "output_type": "execute_result"
    }
   ],
   "source": [
    "outliers_max = outliers['Jahresbeitrag'].max()\n",
    "row = data[data['Jahresbeitrag'] == outliers_max]\n",
    "row"
   ]
  },
  {
   "cell_type": "code",
   "execution_count": null,
   "id": "d91de033",
   "metadata": {},
   "outputs": [],
   "source": []
  },
  {
   "cell_type": "code",
   "execution_count": null,
   "id": "68f86a40",
   "metadata": {},
   "outputs": [],
   "source": []
  }
 ],
 "metadata": {
  "kernelspec": {
   "display_name": "Python 3 (ipykernel)",
   "language": "python",
   "name": "python3"
  },
  "language_info": {
   "codemirror_mode": {
    "name": "ipython",
    "version": 3
   },
   "file_extension": ".py",
   "mimetype": "text/x-python",
   "name": "python",
   "nbconvert_exporter": "python",
   "pygments_lexer": "ipython3",
   "version": "3.10.6"
  },
  "toc": {
   "base_numbering": 1,
   "nav_menu": {},
   "number_sections": true,
   "sideBar": true,
   "skip_h1_title": false,
   "title_cell": "Table of Contents",
   "title_sidebar": "Contents",
   "toc_cell": false,
   "toc_position": {},
   "toc_section_display": true,
   "toc_window_display": false
  },
  "varInspector": {
   "cols": {
    "lenName": 16,
    "lenType": 16,
    "lenVar": 40
   },
   "kernels_config": {
    "python": {
     "delete_cmd_postfix": "",
     "delete_cmd_prefix": "del ",
     "library": "var_list.py",
     "varRefreshCmd": "print(var_dic_list())"
    },
    "r": {
     "delete_cmd_postfix": ") ",
     "delete_cmd_prefix": "rm(",
     "library": "var_list.r",
     "varRefreshCmd": "cat(var_dic_list()) "
    }
   },
   "types_to_exclude": [
    "module",
    "function",
    "builtin_function_or_method",
    "instance",
    "_Feature"
   ],
   "window_display": false
  }
 },
 "nbformat": 4,
 "nbformat_minor": 5
}
